{
 "cells": [
  {
   "cell_type": "markdown",
   "metadata": {
    "slideshow": {
     "slide_type": "slide"
    }
   },
   "source": [
    "# Civic Engagement with Data Science\n",
    "\n",
    "---\n",
    "\n",
    "Alexander Poon  \n",
    "PyTennessee 2019  \n",
    "February 10, 2019"
   ]
  },
  {
   "cell_type": "markdown",
   "metadata": {
    "slideshow": {
     "slide_type": "slide"
    }
   },
   "source": [
    "## Hello, PyTennessee\n",
    "\n",
    "* Background in Public Policy and Education\n",
    "* Director of Analytics at Tennessee Department of Education\n",
    "* Aspiring Data Scientist and Python hobbyist"
   ]
  },
  {
   "cell_type": "markdown",
   "metadata": {
    "slideshow": {
     "slide_type": "slide"
    }
   },
   "source": [
    "## Motivation"
   ]
  },
  {
   "cell_type": "markdown",
   "metadata": {
    "slideshow": {
     "slide_type": "fragment"
    }
   },
   "source": [
    "![](images/turnout.png)"
   ]
  },
  {
   "cell_type": "markdown",
   "metadata": {
    "slideshow": {
     "slide_type": "-"
    }
   },
   "source": [
    "[[The Tennessean](https://www.tennessean.com/story/news/2017/12/11/tennessee-voter-registration-cooper-dickerson-project-register/941325001/), December 2017]"
   ]
  },
  {
   "cell_type": "markdown",
   "metadata": {
    "slideshow": {
     "slide_type": "slide"
    }
   },
   "source": [
    "![](images/turnout2.png)"
   ]
  },
  {
   "cell_type": "markdown",
   "metadata": {
    "slideshow": {
     "slide_type": "-"
    }
   },
   "source": [
    "[[Pew Research Center](http://www.pewresearch.org/fact-tank/2018/05/21/u-s-voter-turnout-trails-most-developed-countries/), May 2018]"
   ]
  },
  {
   "cell_type": "markdown",
   "metadata": {
    "slideshow": {
     "slide_type": "slide"
    }
   },
   "source": [
    "<img src=\"images/countries.png\" style=\"height:525px\">"
   ]
  },
  {
   "cell_type": "markdown",
   "metadata": {
    "slideshow": {
     "slide_type": "-"
    }
   },
   "source": [
    "[[Pew Research Center](http://www.pewresearch.org/fact-tank/2018/05/21/u-s-voter-turnout-trails-most-developed-countries/), May 2018]"
   ]
  },
  {
   "cell_type": "markdown",
   "metadata": {
    "slideshow": {
     "slide_type": "slide"
    }
   },
   "source": [
    "## This Project\n",
    "\n",
    "**What (state) legislation should I pay attention to?**"
   ]
  },
  {
   "cell_type": "markdown",
   "metadata": {
    "slideshow": {
     "slide_type": "fragment"
    }
   },
   "source": [
    "Preliminaries:"
   ]
  },
  {
   "cell_type": "code",
   "execution_count": 1,
   "metadata": {
    "slideshow": {
     "slide_type": "-"
    }
   },
   "outputs": [],
   "source": [
    "import numpy as np\n",
    "import pandas as pd\n",
    "import matplotlib.pyplot as plt\n",
    "import seaborn as sns"
   ]
  },
  {
   "cell_type": "code",
   "execution_count": 2,
   "metadata": {
    "slideshow": {
     "slide_type": "notes"
    }
   },
   "outputs": [],
   "source": [
    "from os import environ\n",
    "from pyopenstates import *\n",
    "\n",
    "%matplotlib inline\n",
    "\n",
    "pd.options.display.max_colwidth = 1000\n",
    "\n",
    "set_api_key(os.environ['OPENSTATES_KEY'])"
   ]
  },
  {
   "cell_type": "markdown",
   "metadata": {
    "slideshow": {
     "slide_type": "slide"
    }
   },
   "source": [
    "## The Data\n",
    "\n",
    "**OpenStates** provides comprehensive information pertaining to state legislators and legislation, including bill text, topics, sponsors, progress through committees, amendments, vote tallies and votes by individual legislators."
   ]
  },
  {
   "cell_type": "markdown",
   "metadata": {
    "slideshow": {
     "slide_type": "-"
    }
   },
   "source": [
    "![](images/archive.png)"
   ]
  },
  {
   "cell_type": "markdown",
   "metadata": {
    "slideshow": {
     "slide_type": "slide"
    }
   },
   "source": [
    "Pull data from the OpenStates API:"
   ]
  },
  {
   "cell_type": "code",
   "execution_count": null,
   "metadata": {
    "slideshow": {
     "slide_type": "-"
    }
   },
   "outputs": [],
   "source": [
    "from pyopenstates import *\n",
    "\n",
    "set_api_key('') # Get key here: https://openstates.org/api/register/\n",
    "\n",
    "bills = pd.DataFrame(search_bills(state='tn'))"
   ]
  },
  {
   "cell_type": "code",
   "execution_count": 3,
   "metadata": {
    "slideshow": {
     "slide_type": "notes"
    }
   },
   "outputs": [],
   "source": [
    "bills = pd.read_csv('../data/bills.csv')\n",
    "\n",
    "# Remove the 'Amends TCA Title x, Chapter y' from bill titles\n",
    "bills['title'].replace(to_replace=' - Amends.+$', value='', regex=True, inplace=True)"
   ]
  },
  {
   "cell_type": "code",
   "execution_count": 4,
   "metadata": {
    "scrolled": true,
    "slideshow": {
     "slide_type": "slide"
    }
   },
   "outputs": [
    {
     "data": {
      "text/html": [
       "<div>\n",
       "<style scoped>\n",
       "    .dataframe tbody tr th:only-of-type {\n",
       "        vertical-align: middle;\n",
       "    }\n",
       "\n",
       "    .dataframe tbody tr th {\n",
       "        vertical-align: top;\n",
       "    }\n",
       "\n",
       "    .dataframe thead th {\n",
       "        text-align: right;\n",
       "    }\n",
       "</style>\n",
       "<table border=\"1\" class=\"dataframe\">\n",
       "  <thead>\n",
       "    <tr style=\"text-align: right;\">\n",
       "      <th></th>\n",
       "      <th>bill_id</th>\n",
       "      <th>session</th>\n",
       "      <th>subjects</th>\n",
       "      <th>title</th>\n",
       "      <th>sponsors</th>\n",
       "    </tr>\n",
       "  </thead>\n",
       "  <tbody>\n",
       "    <tr>\n",
       "      <th>0</th>\n",
       "      <td>SB 107</td>\n",
       "      <td>110</td>\n",
       "      <td>Government Reform</td>\n",
       "      <td>Sunset Laws - As enacted, extends the Tennessee life and health insurance guaranty association five years to June 30, 2022.</td>\n",
       "      <td>Bell; Faison</td>\n",
       "    </tr>\n",
       "    <tr>\n",
       "      <th>1</th>\n",
       "      <td>HB 228</td>\n",
       "      <td>110</td>\n",
       "      <td>Government Reform</td>\n",
       "      <td>Sunset Laws - As enacted, extends the Tennessee life and health insurance guaranty association five years to June 30, 2022.</td>\n",
       "      <td>Faison; Bell</td>\n",
       "    </tr>\n",
       "  </tbody>\n",
       "</table>\n",
       "</div>"
      ],
      "text/plain": [
       "  bill_id  session           subjects  \\\n",
       "0  SB 107      110  Government Reform   \n",
       "1  HB 228      110  Government Reform   \n",
       "\n",
       "                                                                                                                         title  \\\n",
       "0  Sunset Laws - As enacted, extends the Tennessee life and health insurance guaranty association five years to June 30, 2022.   \n",
       "1  Sunset Laws - As enacted, extends the Tennessee life and health insurance guaranty association five years to June 30, 2022.   \n",
       "\n",
       "       sponsors  \n",
       "0  Bell; Faison  \n",
       "1  Faison; Bell  "
      ]
     },
     "execution_count": 4,
     "metadata": {},
     "output_type": "execute_result"
    }
   ],
   "source": [
    "bills.head(2)"
   ]
  },
  {
   "cell_type": "markdown",
   "metadata": {
    "slideshow": {
     "slide_type": "slide"
    }
   },
   "source": [
    "## The problem"
   ]
  },
  {
   "cell_type": "code",
   "execution_count": 5,
   "metadata": {
    "scrolled": true,
    "slideshow": {
     "slide_type": "-"
    }
   },
   "outputs": [
    {
     "data": {
      "text/plain": [
       "20089"
      ]
     },
     "execution_count": 5,
     "metadata": {},
     "output_type": "execute_result"
    }
   ],
   "source": [
    "len(bills)"
   ]
  },
  {
   "cell_type": "markdown",
   "metadata": {
    "slideshow": {
     "slide_type": "fragment"
    }
   },
   "source": [
    "This represents the four legislative sessions from 2011-2018 (each legislative session runs two years)."
   ]
  },
  {
   "cell_type": "markdown",
   "metadata": {
    "slideshow": {
     "slide_type": "slide"
    }
   },
   "source": [
    "## This Project\n",
    "\n",
    "**What (state) legislation should I pay attention to?**"
   ]
  },
  {
   "cell_type": "markdown",
   "metadata": {
    "slideshow": {
     "slide_type": "fragment"
    }
   },
   "source": [
    "This might include legislation that:\n",
    "- pertains to local issues in the city/town/county where I live\n",
    "- pertains to issues I care about\n",
    "- is introduced by my Representative/Senator"
   ]
  },
  {
   "cell_type": "markdown",
   "metadata": {
    "slideshow": {
     "slide_type": "slide"
    }
   },
   "source": [
    "`pyopenstates` can identify my legislators:"
   ]
  },
  {
   "cell_type": "code",
   "execution_count": 6,
   "metadata": {
    "slideshow": {
     "slide_type": "-"
    }
   },
   "outputs": [
    {
     "name": "stdout",
     "output_type": "stream",
     "text": [
      "['Powell', 'Dickerson']\n"
     ]
    }
   ],
   "source": [
    "my_legislators = [i.get('last_name') \n",
    "                  for i in locate_legislators(36.103565, -86.760322)]\n",
    "\n",
    "print(my_legislators)"
   ]
  },
  {
   "cell_type": "markdown",
   "metadata": {
    "slideshow": {
     "slide_type": "slide"
    }
   },
   "source": [
    "<center>\n",
    "\n",
    "<img src=\"images/powell.jpg\">\n",
    "\n",
    "Rep. Jason Powell\n",
    "\n",
    "<img src=\"images/dickerson.jpg\">\n",
    "\n",
    "Sen. Steven Dickerson\n",
    "\n",
    "</center>"
   ]
  },
  {
   "cell_type": "markdown",
   "metadata": {
    "slideshow": {
     "slide_type": "slide"
    }
   },
   "source": [
    "Tag legislation introducted by my legislators:"
   ]
  },
  {
   "cell_type": "code",
   "execution_count": 7,
   "metadata": {
    "slideshow": {
     "slide_type": "-"
    }
   },
   "outputs": [],
   "source": [
    "bills['my_legislators'] = bills['sponsors'].str.contains('|'.join(my_legislators)) \\\n",
    "    .fillna(False) \\\n",
    "    .astype(int)"
   ]
  },
  {
   "cell_type": "markdown",
   "metadata": {
    "slideshow": {
     "slide_type": "slide"
    }
   },
   "source": [
    "Tag legislation pertaining to my county/city/town:"
   ]
  },
  {
   "cell_type": "code",
   "execution_count": 8,
   "metadata": {
    "slideshow": {
     "slide_type": "-"
    }
   },
   "outputs": [
    {
     "name": "stdout",
     "output_type": "stream",
     "text": [
      "Nashville-Davidson, Davidson County\n"
     ]
    }
   ],
   "source": [
    "from geopy.geocoders import Nominatim\n",
    "\n",
    "geolocator = Nominatim(user_agent='me')\n",
    "\n",
    "location = geolocator.reverse((36.103565, -86.760322))\n",
    "\n",
    "my_city, my_county = [location.raw.get('address').get(i)\n",
    "                      for i in ['city', 'county']]\n",
    "\n",
    "print(my_city + ', ' + my_county)"
   ]
  },
  {
   "cell_type": "code",
   "execution_count": 9,
   "metadata": {
    "slideshow": {
     "slide_type": "fragment"
    }
   },
   "outputs": [],
   "source": [
    "if my_city == \"Nashville-Davidson\":\n",
    "    my_city = \"Nashville\"\n",
    "\n",
    "# Tag legislation mentioning my city or county from location\n",
    "bills['my_city_county'] = bills['title'].str.contains(my_city + '|' + my_county) \\\n",
    "    .astype(int)"
   ]
  },
  {
   "cell_type": "markdown",
   "metadata": {
    "slideshow": {
     "slide_type": "slide"
    }
   },
   "source": [
    "Tag legislation pertaining to subjects I'm interested in:\n",
    "\n",
    "(What are possible subjects?)"
   ]
  },
  {
   "cell_type": "code",
   "execution_count": 10,
   "metadata": {
    "scrolled": true,
    "slideshow": {
     "slide_type": "-"
    }
   },
   "outputs": [
    {
     "data": {
      "text/plain": [
       "Legal Issues                            2776\n",
       "Education                               2684\n",
       "Budget, Spending, and Taxes             1881\n",
       "Health                                  1599\n",
       "Municipal and County Issues             1474\n",
       "Transportation                          1366\n",
       "Crime                                   1023\n",
       "Drugs                                   1017\n",
       "Government Reform                        959\n",
       "Legislative Affairs                      935\n",
       "Federal, State, and Local Relations      876\n",
       "Labor and Employment                     822\n",
       "Business and Consumers                   717\n",
       "Housing and Property                     641\n",
       "Family and Children Issues               641\n",
       "Commerce                                 591\n",
       "Campaign Finance and Election Issues     485\n",
       "Insurance                                481\n",
       "State Agencies                           474\n",
       "Judiciary                                468\n",
       "Environmental                            396\n",
       "Guns                                     336\n",
       "Other                                    313\n",
       "Public Services                          299\n",
       "Agriculture and Food                     247\n",
       "Gambling and Gaming                      229\n",
       "Animal Rights and Wildlife Issues        228\n",
       "Military                                 220\n",
       "Senior Issues                            167\n",
       "Civil Liberties and Civil Rights         152\n",
       "Welfare and Poverty                      148\n",
       "Recreation                               129\n",
       "Energy                                   125\n",
       "Science and Medical Research             124\n",
       "Resolutions                               99\n",
       "Technology and Communication              99\n",
       "Social Issues                             96\n",
       "Reproductive Issues                       66\n",
       "Arts and Humanities                       56\n",
       "Immigration                               38\n",
       "Trade                                     20\n",
       "Sexual Orientation and Gender Issues       7\n",
       "dtype: int64"
      ]
     },
     "execution_count": 10,
     "metadata": {},
     "output_type": "execute_result"
    }
   ],
   "source": [
    "# Get a list of possible subjects\n",
    "bills['subjects'].str.get_dummies('; ') \\\n",
    "    .agg(sum) \\\n",
    "    .sort_values(ascending = False)"
   ]
  },
  {
   "cell_type": "markdown",
   "metadata": {
    "slideshow": {
     "slide_type": "slide"
    }
   },
   "source": [
    "Tag legislation pertaining to subjects I'm interested in:"
   ]
  },
  {
   "cell_type": "code",
   "execution_count": 11,
   "metadata": {
    "slideshow": {
     "slide_type": "-"
    }
   },
   "outputs": [],
   "source": [
    "my_subjects = ['Education']\n",
    "\n",
    "bills['my_subjects'] = bills['subjects'].str.contains('|'.join(my_subjects)) \\\n",
    "    .fillna(False) \\\n",
    "    .astype(int)"
   ]
  },
  {
   "cell_type": "code",
   "execution_count": 12,
   "metadata": {
    "slideshow": {
     "slide_type": "notes"
    }
   },
   "outputs": [],
   "source": [
    "pd.options.display.max_colwidth = 50"
   ]
  },
  {
   "cell_type": "code",
   "execution_count": 13,
   "metadata": {
    "scrolled": false,
    "slideshow": {
     "slide_type": "slide"
    }
   },
   "outputs": [
    {
     "data": {
      "text/html": [
       "<div>\n",
       "<style scoped>\n",
       "    .dataframe tbody tr th:only-of-type {\n",
       "        vertical-align: middle;\n",
       "    }\n",
       "\n",
       "    .dataframe tbody tr th {\n",
       "        vertical-align: top;\n",
       "    }\n",
       "\n",
       "    .dataframe thead th {\n",
       "        text-align: right;\n",
       "    }\n",
       "</style>\n",
       "<table border=\"1\" class=\"dataframe\">\n",
       "  <thead>\n",
       "    <tr style=\"text-align: right;\">\n",
       "      <th></th>\n",
       "      <th>bill_id</th>\n",
       "      <th>session</th>\n",
       "      <th>subjects</th>\n",
       "      <th>title</th>\n",
       "      <th>sponsors</th>\n",
       "      <th>my_legislators</th>\n",
       "      <th>my_city_county</th>\n",
       "      <th>my_subjects</th>\n",
       "    </tr>\n",
       "  </thead>\n",
       "  <tbody>\n",
       "    <tr>\n",
       "      <th>0</th>\n",
       "      <td>SB 107</td>\n",
       "      <td>110</td>\n",
       "      <td>Government Reform</td>\n",
       "      <td>Sunset Laws - As enacted, extends the Tennesse...</td>\n",
       "      <td>Bell; Faison</td>\n",
       "      <td>0</td>\n",
       "      <td>0</td>\n",
       "      <td>0</td>\n",
       "    </tr>\n",
       "    <tr>\n",
       "      <th>1</th>\n",
       "      <td>HB 228</td>\n",
       "      <td>110</td>\n",
       "      <td>Government Reform</td>\n",
       "      <td>Sunset Laws - As enacted, extends the Tennesse...</td>\n",
       "      <td>Faison; Bell</td>\n",
       "      <td>0</td>\n",
       "      <td>0</td>\n",
       "      <td>0</td>\n",
       "    </tr>\n",
       "  </tbody>\n",
       "</table>\n",
       "</div>"
      ],
      "text/plain": [
       "  bill_id  session           subjects  \\\n",
       "0  SB 107      110  Government Reform   \n",
       "1  HB 228      110  Government Reform   \n",
       "\n",
       "                                               title      sponsors  \\\n",
       "0  Sunset Laws - As enacted, extends the Tennesse...  Bell; Faison   \n",
       "1  Sunset Laws - As enacted, extends the Tennesse...  Faison; Bell   \n",
       "\n",
       "   my_legislators  my_city_county  my_subjects  \n",
       "0               0               0            0  \n",
       "1               0               0            0  "
      ]
     },
     "execution_count": 13,
     "metadata": {},
     "output_type": "execute_result"
    }
   ],
   "source": [
    "bills.head(2)"
   ]
  },
  {
   "cell_type": "markdown",
   "metadata": {
    "slideshow": {
     "slide_type": "slide"
    }
   },
   "source": [
    "## How a Bill Becomes a Law\n",
    "\n",
    "In Tennessee, a bill goes through the following [steps](http://www.capitol.tn.gov/about/billtolaw.html) (roughly) to become law:\n",
    "\n",
    "* Introduced\n",
    "* Passed on First Consideration\n",
    "* Passed on Second Consideration\n",
    "* Referred to Committee(s)\n",
    "* Placed on Calendar for Third Consideration\n",
    "    * On Third Consideration, opened for debate and amendment\n",
    "* Passed on Third Consideration\n",
    "* Reconcile Senate and House versions\n",
    "* Signed by Governor or allowed to become law without signature"
   ]
  },
  {
   "cell_type": "markdown",
   "metadata": {
    "slideshow": {
     "slide_type": "slide"
    }
   },
   "source": [
    "Pull actions from `OpenStates`:"
   ]
  },
  {
   "cell_type": "code",
   "execution_count": null,
   "metadata": {
    "slideshow": {
     "slide_type": "-"
    }
   },
   "outputs": [],
   "source": [
    "actions = pd.DataFrame()\n",
    "\n",
    "for s, bill in zip(bills['session'], bills['bill_id']):\n",
    "    actions = pd.concat(\n",
    "        [actions, pd.DataFrame(\n",
    "            get_bill(state='tn', term=s, bill_id=bill).get('actions')\n",
    "        )]\n",
    "    )"
   ]
  },
  {
   "cell_type": "code",
   "execution_count": 14,
   "metadata": {
    "slideshow": {
     "slide_type": "notes"
    }
   },
   "outputs": [],
   "source": [
    "actions = pd.read_csv('../data/actions.csv')\n",
    "\n",
    "actions.drop_duplicates(['action', 'actor', 'date', 'session', 'bill_id'], inplace=True)\n",
    "actions['action'].fillna('', inplace=True)"
   ]
  },
  {
   "cell_type": "markdown",
   "metadata": {
    "slideshow": {
     "slide_type": "slide"
    }
   },
   "source": [
    "We can observe whether bills make it past each step:"
   ]
  },
  {
   "cell_type": "code",
   "execution_count": 15,
   "metadata": {
    "scrolled": true,
    "slideshow": {
     "slide_type": "-"
    }
   },
   "outputs": [
    {
     "data": {
      "text/html": [
       "<div>\n",
       "<style scoped>\n",
       "    .dataframe tbody tr th:only-of-type {\n",
       "        vertical-align: middle;\n",
       "    }\n",
       "\n",
       "    .dataframe tbody tr th {\n",
       "        vertical-align: top;\n",
       "    }\n",
       "\n",
       "    .dataframe thead th {\n",
       "        text-align: right;\n",
       "    }\n",
       "</style>\n",
       "<table border=\"1\" class=\"dataframe\">\n",
       "  <thead>\n",
       "    <tr style=\"text-align: right;\">\n",
       "      <th></th>\n",
       "      <th>action</th>\n",
       "      <th>actor</th>\n",
       "      <th>session</th>\n",
       "      <th>bill_id</th>\n",
       "      <th>type</th>\n",
       "      <th>ayes</th>\n",
       "      <th>nays</th>\n",
       "    </tr>\n",
       "  </thead>\n",
       "  <tbody>\n",
       "    <tr>\n",
       "      <th>0</th>\n",
       "      <td>Filed for introduction</td>\n",
       "      <td>upper</td>\n",
       "      <td>110</td>\n",
       "      <td>SB 107</td>\n",
       "      <td>bill:reading:1; bill:introduced</td>\n",
       "      <td>NaN</td>\n",
       "      <td>NaN</td>\n",
       "    </tr>\n",
       "    <tr>\n",
       "      <th>1</th>\n",
       "      <td>Introduced, Passed on First Consideration</td>\n",
       "      <td>upper</td>\n",
       "      <td>110</td>\n",
       "      <td>SB 107</td>\n",
       "      <td>bill:introduced</td>\n",
       "      <td>NaN</td>\n",
       "      <td>NaN</td>\n",
       "    </tr>\n",
       "    <tr>\n",
       "      <th>2</th>\n",
       "      <td>Filed for intro.</td>\n",
       "      <td>lower</td>\n",
       "      <td>110</td>\n",
       "      <td>SB 107</td>\n",
       "      <td>bill:reading:1; bill:introduced</td>\n",
       "      <td>NaN</td>\n",
       "      <td>NaN</td>\n",
       "    </tr>\n",
       "    <tr>\n",
       "      <th>3</th>\n",
       "      <td>Passed on Second Consideration, refer to Senat...</td>\n",
       "      <td>upper</td>\n",
       "      <td>110</td>\n",
       "      <td>SB 107</td>\n",
       "      <td>other</td>\n",
       "      <td>NaN</td>\n",
       "      <td>NaN</td>\n",
       "    </tr>\n",
       "    <tr>\n",
       "      <th>4</th>\n",
       "      <td>Intro., P1C.</td>\n",
       "      <td>lower</td>\n",
       "      <td>110</td>\n",
       "      <td>SB 107</td>\n",
       "      <td>bill:introduced</td>\n",
       "      <td>NaN</td>\n",
       "      <td>NaN</td>\n",
       "    </tr>\n",
       "    <tr>\n",
       "      <th>5</th>\n",
       "      <td>P2C, ref. to Government Operations Committee</td>\n",
       "      <td>lower</td>\n",
       "      <td>110</td>\n",
       "      <td>SB 107</td>\n",
       "      <td>committee:referred</td>\n",
       "      <td>NaN</td>\n",
       "      <td>NaN</td>\n",
       "    </tr>\n",
       "    <tr>\n",
       "      <th>6</th>\n",
       "      <td>Placed on Senate Government Operations Committ...</td>\n",
       "      <td>upper</td>\n",
       "      <td>110</td>\n",
       "      <td>SB 107</td>\n",
       "      <td>other</td>\n",
       "      <td>NaN</td>\n",
       "      <td>NaN</td>\n",
       "    </tr>\n",
       "    <tr>\n",
       "      <th>7</th>\n",
       "      <td>Recommended for passage, refer to Senate Calen...</td>\n",
       "      <td>upper</td>\n",
       "      <td>110</td>\n",
       "      <td>SB 107</td>\n",
       "      <td>other</td>\n",
       "      <td>NaN</td>\n",
       "      <td>NaN</td>\n",
       "    </tr>\n",
       "    <tr>\n",
       "      <th>8</th>\n",
       "      <td>Placed on Senate Consent Calendar 2 calendar f...</td>\n",
       "      <td>upper</td>\n",
       "      <td>110</td>\n",
       "      <td>SB 107</td>\n",
       "      <td>other</td>\n",
       "      <td>NaN</td>\n",
       "      <td>NaN</td>\n",
       "    </tr>\n",
       "    <tr>\n",
       "      <th>9</th>\n",
       "      <td>Placed on cal. Government Operations Committee...</td>\n",
       "      <td>lower</td>\n",
       "      <td>110</td>\n",
       "      <td>SB 107</td>\n",
       "      <td>other</td>\n",
       "      <td>NaN</td>\n",
       "      <td>NaN</td>\n",
       "    </tr>\n",
       "  </tbody>\n",
       "</table>\n",
       "</div>"
      ],
      "text/plain": [
       "                                              action  actor  session bill_id  \\\n",
       "0                             Filed for introduction  upper      110  SB 107   \n",
       "1          Introduced, Passed on First Consideration  upper      110  SB 107   \n",
       "2                                   Filed for intro.  lower      110  SB 107   \n",
       "3  Passed on Second Consideration, refer to Senat...  upper      110  SB 107   \n",
       "4                                       Intro., P1C.  lower      110  SB 107   \n",
       "5       P2C, ref. to Government Operations Committee  lower      110  SB 107   \n",
       "6  Placed on Senate Government Operations Committ...  upper      110  SB 107   \n",
       "7  Recommended for passage, refer to Senate Calen...  upper      110  SB 107   \n",
       "8  Placed on Senate Consent Calendar 2 calendar f...  upper      110  SB 107   \n",
       "9  Placed on cal. Government Operations Committee...  lower      110  SB 107   \n",
       "\n",
       "                              type  ayes  nays  \n",
       "0  bill:reading:1; bill:introduced   NaN   NaN  \n",
       "1                  bill:introduced   NaN   NaN  \n",
       "2  bill:reading:1; bill:introduced   NaN   NaN  \n",
       "3                            other   NaN   NaN  \n",
       "4                  bill:introduced   NaN   NaN  \n",
       "5               committee:referred   NaN   NaN  \n",
       "6                            other   NaN   NaN  \n",
       "7                            other   NaN   NaN  \n",
       "8                            other   NaN   NaN  \n",
       "9                            other   NaN   NaN  "
      ]
     },
     "execution_count": 15,
     "metadata": {},
     "output_type": "execute_result"
    }
   ],
   "source": [
    "actions.head(10)"
   ]
  },
  {
   "cell_type": "markdown",
   "metadata": {
    "slideshow": {
     "slide_type": "slide"
    }
   },
   "source": [
    "We can observe whether bills make it past each step:"
   ]
  },
  {
   "cell_type": "code",
   "execution_count": 16,
   "metadata": {
    "slideshow": {
     "slide_type": "-"
    }
   },
   "outputs": [],
   "source": [
    "def search_actions(strings):\n",
    "    \"\"\"Search actions meeting one of a list of patterns. Strings passed as a list\n",
    "     are concatenated and used as a regex.\n",
    "\n",
    "    Returns a DataFrame with bills passing stage specified by string.\n",
    "    \"\"\"\n",
    "    pattern = '|'.join(strings)\n",
    "\n",
    "    return actions[actions.action.str.contains(pattern)] \\\n",
    "        .loc[:, ['session', 'bill_id']] \\\n",
    "        .drop_duplicates()"
   ]
  },
  {
   "cell_type": "markdown",
   "metadata": {
    "slideshow": {
     "slide_type": "slide"
    }
   },
   "source": [
    "Identify the relevant major steps:"
   ]
  },
  {
   "cell_type": "code",
   "execution_count": 17,
   "metadata": {
    "slideshow": {
     "slide_type": "-"
    }
   },
   "outputs": [],
   "source": [
    "intro = search_actions(['Filed for introduction', 'Filed for intro.']) \\\n",
    "    .assign(introduced = 1)\n",
    "\n",
    "first = search_actions(['Passed on First Consideration', 'P1C']) \\\n",
    "    .assign(first = 1)\n",
    "\n",
    "second = search_actions(['Passed on Second Consideration', 'P2C']) \\\n",
    "    .assign(second = 1)\n",
    "\n",
    "committee = search_actions(['H. Placed on Regular Calendar',\n",
    "                            'H. Placed on Consent Calendar',\n",
    "                            'Placed on Senate Consent Calendar',\n",
    "                            'Placed on Senate Regular Calendar']) \\\n",
    "    .assign(committee = 1)\n",
    "\n",
    "chamber = search_actions(['Passed H.', 'Passed Senate', 'Passed S.']) \\\n",
    "    .assign(chamber = 1)\n",
    "\n",
    "law = search_actions(['Signed by Governor', \n",
    "                      'Returned by Governor without signature']) \\\n",
    "    .assign(law = 1)"
   ]
  },
  {
   "cell_type": "markdown",
   "metadata": {
    "slideshow": {
     "slide_type": "slide"
    }
   },
   "source": [
    "How many bills make it past each step?"
   ]
  },
  {
   "cell_type": "code",
   "execution_count": 18,
   "metadata": {
    "scrolled": true,
    "slideshow": {
     "slide_type": "-"
    }
   },
   "outputs": [
    {
     "data": {
      "text/plain": [
       "<matplotlib.axes._subplots.AxesSubplot at 0x117e644a8>"
      ]
     },
     "execution_count": 18,
     "metadata": {},
     "output_type": "execute_result"
    },
    {
     "data": {
      "image/png": "[encoded data removed]",
      "text/plain": [
       "<matplotlib.figure.Figure at 0x11ddd1ba8>"
      ]
     },
     "metadata": {},
     "output_type": "display_data"
    }
   ],
   "source": [
    "bills = bills \\\n",
    "    .merge(intro, how='left', on=['session', 'bill_id'], validate='1:1') \\\n",
    "    .merge(first, how='left', on=['session', 'bill_id'], validate='1:1') \\\n",
    "    .merge(second, how='left', on=['session', 'bill_id'], validate='1:1') \\\n",
    "    .merge(committee, how='left', on=['session', 'bill_id'], validate='1:1') \\\n",
    "    .merge(chamber, how='left', on=['session', 'bill_id'], validate='1:1') \\\n",
    "    .merge(law, how='left', on=['session', 'bill_id'], validate='1:1')\n",
    "    \n",
    "bills.loc[:, ['introduced', 'first', 'second', 'committee', 'chamber', 'law']] \\\n",
    "    .sum(axis = 0) \\\n",
    "    .plot(xticks=range(7), ylim=(0, 21000))"
   ]
  },
  {
   "cell_type": "markdown",
   "metadata": {
    "slideshow": {
     "slide_type": "slide"
    }
   },
   "source": [
    "What do vote margins (yes votes - no votes) look like once bills get past committee?"
   ]
  },
  {
   "cell_type": "code",
   "execution_count": 19,
   "metadata": {
    "slideshow": {
     "slide_type": "fragment"
    }
   },
   "outputs": [
    {
     "data": {
      "image/png": "[encoded data removed]",
      "text/plain": [
       "<matplotlib.figure.Figure at 0x117e7c4e0>"
      ]
     },
     "metadata": {},
     "output_type": "display_data"
    }
   ],
   "source": [
    "margin = actions.query('action.str.contains(\"Failed to pass H.|Failed to pass Senate|Passed H.|Passed Senate|Passed S.\")', engine='python') \\\n",
    "    .assign(margin = actions['ayes'] - actions['nays'])\n",
    "\n",
    "g = sns.FacetGrid(margin, col=\"actor\", sharex=False)\n",
    "g = g.map(plt.hist, \"margin\", bins=20)"
   ]
  },
  {
   "cell_type": "markdown",
   "metadata": {
    "slideshow": {
     "slide_type": "fragment"
    }
   },
   "source": [
    "Once past committee, many bills are uncontroversial (pass by an all-0 vote). I'll also tag uncontroversial bills so I can deprioritize these."
   ]
  },
  {
   "cell_type": "code",
   "execution_count": 20,
   "metadata": {
    "slideshow": {
     "slide_type": "notes"
    }
   },
   "outputs": [],
   "source": [
    "actions['uncontroversial'] = pd.Series(actions['nays'] <= 1).astype(int)\n",
    "\n",
    "uncontroversial = actions \\\n",
    "    .query('action.str.contains(\"Failed to pass H.|Failed to pass Senate|Passed H.|Passed Senate|Passed S.\")', engine='python') \\\n",
    "    .query('actor == \"upper\" & bill_id.str.contains(\"SB\") | actor == \"lower\" & bill_id.str.contains(\"HB\")', engine='python') \\\n",
    "    .groupby(['session', 'bill_id']) \\\n",
    "    .agg({'uncontroversial': 'min'}) \\\n",
    "    .reset_index(drop=False)\n",
    "\n",
    "bills = bills.merge(uncontroversial, how='left', on=['session', 'bill_id'], validate='1:1')\n",
    "\n",
    "bills['uncontroversial'].fillna(0, inplace=True)\n",
    "bills['committee'].fillna(0, inplace=True)"
   ]
  },
  {
   "cell_type": "markdown",
   "metadata": {
    "slideshow": {
     "slide_type": "slide"
    }
   },
   "source": [
    "# This Project\n",
    "\n",
    "**What (state) legislation should I pay attention to?**\n",
    "\n",
    "This might include legislation that:\n",
    "- pertains to local issues in the city/town/county where I live\n",
    "- pertains to issues I care about\n",
    "- is introduced by my Representative/Senator\n",
    "\n",
    "and might not include legislation that:\n",
    "\n",
    "- is uncontroversial (e.g., probably going to pass unanimously)\n",
    "- has no chance of passing (e.g.: not even going to a vote)"
   ]
  },
  {
   "cell_type": "markdown",
   "metadata": {
    "slideshow": {
     "slide_type": "slide"
    }
   },
   "source": [
    "![](images/venn1.png)"
   ]
  },
  {
   "cell_type": "markdown",
   "metadata": {
    "slideshow": {
     "slide_type": "slide"
    }
   },
   "source": [
    "![](images/venn2.png)"
   ]
  },
  {
   "cell_type": "markdown",
   "metadata": {
    "slideshow": {
     "slide_type": "slide"
    }
   },
   "source": [
    "Of course, we can identify how bills fare retrospectively."
   ]
  },
  {
   "cell_type": "markdown",
   "metadata": {
    "slideshow": {
     "slide_type": "fragment"
    }
   },
   "source": [
    "It would be helpful to know (or make an informed guess at) whether bills will go to a vote and/or be uncontroversial as they are introduced so that one might be able to influence legislation by calling legislators, etc."
   ]
  },
  {
   "cell_type": "markdown",
   "metadata": {
    "slideshow": {
     "slide_type": "fragment"
    }
   },
   "source": [
    "I use **machine learning** to predict these outcomes."
   ]
  },
  {
   "cell_type": "markdown",
   "metadata": {
    "slideshow": {
     "slide_type": "slide"
    }
   },
   "source": [
    "## The Idea\n",
    "\n",
    "We know which bills have gone to a vote/been uncontroversial in the past.\n",
    "\n",
    "I use information (sponsors, topics, **text**) about bills that have gone to a vote/been uncontroversial in the past to predict which bills will go to a vote/be uncontroversial in the future."
   ]
  },
  {
   "cell_type": "markdown",
   "metadata": {
    "slideshow": {
     "slide_type": "slide"
    }
   },
   "source": [
    "## Future bills?\n",
    "\n",
    "To mimic prediction, I build models using the 107-109th sessions and treat bills from the 110th as 'future bills'."
   ]
  },
  {
   "cell_type": "code",
   "execution_count": 21,
   "metadata": {
    "scrolled": false,
    "slideshow": {
     "slide_type": "-"
    }
   },
   "outputs": [
    {
     "data": {
      "text/plain": [
       "110    5485\n",
       "109    5357\n",
       "108    5204\n",
       "107    4043\n",
       "Name: session, dtype: int64"
      ]
     },
     "execution_count": 21,
     "metadata": {},
     "output_type": "execute_result"
    }
   ],
   "source": [
    "bills['session'].value_counts()"
   ]
  },
  {
   "cell_type": "markdown",
   "metadata": {
    "slideshow": {
     "slide_type": "slide"
    }
   },
   "source": [
    "I can then evaluate predictions against what really happened:"
   ]
  },
  {
   "cell_type": "markdown",
   "metadata": {
    "slideshow": {
     "slide_type": "-"
    }
   },
   "source": [
    "| Session  |  ID   |    Prediction   |  Outcome |\n",
    "|----------|-------|-----------------|----------|\n",
    "|    110   | HB 10 |    Pass   |     Pass     |\n",
    "|    110   | HB 11 |    Pass   |    Not Pass  |\n",
    "|    110   | HB 12 | Not Pass  |    Not Pass  |\n",
    "|    110   | HB 13 |    Pass   |     Pass     |\n",
    "|    110   | HB 14 |    Pass   |    Not Pass  |\n",
    "|    110   |   .   | . | . |\n",
    "|    110   |   .   | . | . |\n",
    "|    110   |   .   | . | . |"
   ]
  },
  {
   "cell_type": "markdown",
   "metadata": {
    "slideshow": {
     "slide_type": "slide"
    }
   },
   "source": [
    "## Natural Language Processing\n",
    "\n",
    "From [Wikipedia](https://en.wikipedia.org/wiki/Natural-language_processing):\n",
    "\n",
    "[A] field of computer science, artificial intelligence concerned with the interactions between computers and human (natural) languages, and, in particular, concerned with **programming computers to fruitfully process large natural language data**."
   ]
  },
  {
   "cell_type": "markdown",
   "metadata": {
    "slideshow": {
     "slide_type": "fragment"
    }
   },
   "source": [
    "I use NLP to preprocess and create a numerical representation of text for maching learning."
   ]
  },
  {
   "cell_type": "markdown",
   "metadata": {
    "slideshow": {
     "slide_type": "slide"
    }
   },
   "source": [
    "## A Sample Title\n",
    "\n",
    "Students - As enacted, requires a student, during the student's high school career, to take a United States civics test."
   ]
  },
  {
   "cell_type": "markdown",
   "metadata": {
    "slideshow": {
     "slide_type": "slide"
    }
   },
   "source": [
    "## Preprocessing Text\n",
    "\n",
    "I do some preprocessing by running my text through the [spaCy](https://spacy.io/) [annotator](https://demos.explosion.ai/displacy/), which identifies:\n",
    "\n",
    "- (Word) Tokens\n",
    "- Parts of speech (nouns, verbs, adjectives, etc.)\n",
    "- Named entities (United States)\n",
    "- Lemmas (taught, teaching, teaches -> teach; teachers -> teacher)"
   ]
  },
  {
   "cell_type": "markdown",
   "metadata": {
    "slideshow": {
     "slide_type": "slide"
    }
   },
   "source": [
    "![](images/annotation.png)"
   ]
  },
  {
   "cell_type": "markdown",
   "metadata": {
    "slideshow": {
     "slide_type": "slide"
    }
   },
   "source": [
    "Annotating a sample piece of text with spaCy:"
   ]
  },
  {
   "cell_type": "code",
   "execution_count": 22,
   "metadata": {
    "slideshow": {
     "slide_type": "-"
    }
   },
   "outputs": [
    {
     "data": {
      "text/html": [
       "<div>\n",
       "<style scoped>\n",
       "    .dataframe tbody tr th:only-of-type {\n",
       "        vertical-align: middle;\n",
       "    }\n",
       "\n",
       "    .dataframe tbody tr th {\n",
       "        vertical-align: top;\n",
       "    }\n",
       "\n",
       "    .dataframe thead th {\n",
       "        text-align: right;\n",
       "    }\n",
       "</style>\n",
       "<table border=\"1\" class=\"dataframe\">\n",
       "  <thead>\n",
       "    <tr style=\"text-align: right;\">\n",
       "      <th></th>\n",
       "      <th>token</th>\n",
       "      <th>lemma</th>\n",
       "      <th>pos</th>\n",
       "    </tr>\n",
       "  </thead>\n",
       "  <tbody>\n",
       "    <tr>\n",
       "      <th>0</th>\n",
       "      <td>As</td>\n",
       "      <td>as</td>\n",
       "      <td>ADP</td>\n",
       "    </tr>\n",
       "    <tr>\n",
       "      <th>1</th>\n",
       "      <td>enacted</td>\n",
       "      <td>enact</td>\n",
       "      <td>VERB</td>\n",
       "    </tr>\n",
       "    <tr>\n",
       "      <th>2</th>\n",
       "      <td>,</td>\n",
       "      <td>,</td>\n",
       "      <td>PUNCT</td>\n",
       "    </tr>\n",
       "    <tr>\n",
       "      <th>3</th>\n",
       "      <td>requires</td>\n",
       "      <td>require</td>\n",
       "      <td>VERB</td>\n",
       "    </tr>\n",
       "    <tr>\n",
       "      <th>4</th>\n",
       "      <td>a</td>\n",
       "      <td>a</td>\n",
       "      <td>DET</td>\n",
       "    </tr>\n",
       "    <tr>\n",
       "      <th>5</th>\n",
       "      <td>student</td>\n",
       "      <td>student</td>\n",
       "      <td>NOUN</td>\n",
       "    </tr>\n",
       "    <tr>\n",
       "      <th>6</th>\n",
       "      <td>,</td>\n",
       "      <td>,</td>\n",
       "      <td>PUNCT</td>\n",
       "    </tr>\n",
       "    <tr>\n",
       "      <th>7</th>\n",
       "      <td>during</td>\n",
       "      <td>during</td>\n",
       "      <td>ADP</td>\n",
       "    </tr>\n",
       "    <tr>\n",
       "      <th>8</th>\n",
       "      <td>the</td>\n",
       "      <td>the</td>\n",
       "      <td>DET</td>\n",
       "    </tr>\n",
       "    <tr>\n",
       "      <th>9</th>\n",
       "      <td>student</td>\n",
       "      <td>student</td>\n",
       "      <td>NOUN</td>\n",
       "    </tr>\n",
       "    <tr>\n",
       "      <th>10</th>\n",
       "      <td>'s</td>\n",
       "      <td>'s</td>\n",
       "      <td>PART</td>\n",
       "    </tr>\n",
       "    <tr>\n",
       "      <th>11</th>\n",
       "      <td>high</td>\n",
       "      <td>high</td>\n",
       "      <td>ADJ</td>\n",
       "    </tr>\n",
       "    <tr>\n",
       "      <th>12</th>\n",
       "      <td>school</td>\n",
       "      <td>school</td>\n",
       "      <td>NOUN</td>\n",
       "    </tr>\n",
       "    <tr>\n",
       "      <th>13</th>\n",
       "      <td>career</td>\n",
       "      <td>career</td>\n",
       "      <td>NOUN</td>\n",
       "    </tr>\n",
       "    <tr>\n",
       "      <th>14</th>\n",
       "      <td>,</td>\n",
       "      <td>,</td>\n",
       "      <td>PUNCT</td>\n",
       "    </tr>\n",
       "    <tr>\n",
       "      <th>15</th>\n",
       "      <td>to</td>\n",
       "      <td>to</td>\n",
       "      <td>PART</td>\n",
       "    </tr>\n",
       "    <tr>\n",
       "      <th>16</th>\n",
       "      <td>take</td>\n",
       "      <td>take</td>\n",
       "      <td>VERB</td>\n",
       "    </tr>\n",
       "    <tr>\n",
       "      <th>17</th>\n",
       "      <td>a</td>\n",
       "      <td>a</td>\n",
       "      <td>DET</td>\n",
       "    </tr>\n",
       "    <tr>\n",
       "      <th>18</th>\n",
       "      <td>United</td>\n",
       "      <td>united</td>\n",
       "      <td>PROPN</td>\n",
       "    </tr>\n",
       "    <tr>\n",
       "      <th>19</th>\n",
       "      <td>States</td>\n",
       "      <td>states</td>\n",
       "      <td>PROPN</td>\n",
       "    </tr>\n",
       "    <tr>\n",
       "      <th>20</th>\n",
       "      <td>civics</td>\n",
       "      <td>civic</td>\n",
       "      <td>NOUN</td>\n",
       "    </tr>\n",
       "    <tr>\n",
       "      <th>21</th>\n",
       "      <td>test</td>\n",
       "      <td>test</td>\n",
       "      <td>VERB</td>\n",
       "    </tr>\n",
       "    <tr>\n",
       "      <th>22</th>\n",
       "      <td>.</td>\n",
       "      <td>.</td>\n",
       "      <td>PUNCT</td>\n",
       "    </tr>\n",
       "  </tbody>\n",
       "</table>\n",
       "</div>"
      ],
      "text/plain": [
       "       token    lemma    pos\n",
       "0         As       as    ADP\n",
       "1    enacted    enact   VERB\n",
       "2          ,        ,  PUNCT\n",
       "3   requires  require   VERB\n",
       "4          a        a    DET\n",
       "5    student  student   NOUN\n",
       "6          ,        ,  PUNCT\n",
       "7     during   during    ADP\n",
       "8        the      the    DET\n",
       "9    student  student   NOUN\n",
       "10        's       's   PART\n",
       "11      high     high    ADJ\n",
       "12    school   school   NOUN\n",
       "13    career   career   NOUN\n",
       "14         ,        ,  PUNCT\n",
       "15        to       to   PART\n",
       "16      take     take   VERB\n",
       "17         a        a    DET\n",
       "18    United   united  PROPN\n",
       "19    States   states  PROPN\n",
       "20    civics    civic   NOUN\n",
       "21      test     test   VERB\n",
       "22         .        .  PUNCT"
      ]
     },
     "execution_count": 22,
     "metadata": {},
     "output_type": "execute_result"
    }
   ],
   "source": [
    "import spacy\n",
    "\n",
    "nlp = spacy.load('en')\n",
    "\n",
    "doc = nlp(\"As enacted, requires a student, during the student's high school career, to take a United States civics test.\")\n",
    "\n",
    "pd.DataFrame(\n",
    "    [(n.text, n.lemma_, n.pos_) for n in doc], columns=['token', 'lemma', 'pos']\n",
    ")"
   ]
  },
  {
   "cell_type": "markdown",
   "metadata": {
    "slideshow": {
     "slide_type": "slide"
    }
   },
   "source": [
    "Annotating text at scale with spaCy:"
   ]
  },
  {
   "cell_type": "code",
   "execution_count": null,
   "metadata": {},
   "outputs": [],
   "source": [
    "tokens = []\n",
    "\n",
    "for doc in nlp.pipe(bills['title'], batch_size=50):\n",
    "    tokens.append([(n.text, n.lemma_, n.pos_) for n in doc])\n",
    "    \n",
    "annotation_df = pd.concat(\n",
    "    [pd.DataFrame(tokens[i], columns = ['token', 'lemma', 'pos'])\n",
    "         for i in range(len(tokens))]\n",
    ")"
   ]
  },
  {
   "cell_type": "code",
   "execution_count": 23,
   "metadata": {
    "slideshow": {
     "slide_type": "notes"
    }
   },
   "outputs": [],
   "source": [
    "tokens = []\n",
    "\n",
    "for doc in nlp.pipe(bills['title'], batch_size=50):\n",
    "    tokens.append([(n.text, n.lemma_, n.pos_) for n in doc])\n",
    "\n",
    "annotation_df = pd.concat(\n",
    "    [pd.DataFrame(tokens[i], columns = ['token', 'lemma', 'pos'])\n",
    "        .assign(bill = i)\n",
    "     for i in range(len(tokens))]\n",
    ") \\\n",
    "    .reset_index()"
   ]
  },
  {
   "cell_type": "code",
   "execution_count": 24,
   "metadata": {
    "slideshow": {
     "slide_type": "notes"
    }
   },
   "outputs": [],
   "source": [
    "annotation_df = annotation_df[['bill', 'index', 'token', 'lemma', 'pos']]"
   ]
  },
  {
   "cell_type": "markdown",
   "metadata": {
    "slideshow": {
     "slide_type": "slide"
    }
   },
   "source": [
    "For my application, I keep certain parts of speech, replace tokens with their lemmas, and drop stop words:"
   ]
  },
  {
   "cell_type": "code",
   "execution_count": 25,
   "metadata": {
    "slideshow": {
     "slide_type": "-"
    }
   },
   "outputs": [],
   "source": [
    "from nltk.corpus import stopwords\n",
    "\n",
    "# Drop and modify tokens depending of part of speech\n",
    "# https://spacy.io/api/annotation#pos-tagging\n",
    "annotation_df = annotation_df[annotation_df['pos'].isin(['NOUN', 'VERB', 'PROPN'])]\n",
    "\n",
    "# Drop anything with nonword characters\n",
    "annotation_df = annotation_df[~annotation_df['token'].str.contains(\"\\\\W|[0-9]\")]\n",
    "\n",
    "# Drop stopwords\n",
    "annotation_df = annotation_df[~annotation_df['token'].isin(stopwords.words('english'))]"
   ]
  },
  {
   "cell_type": "code",
   "execution_count": 26,
   "metadata": {
    "slideshow": {
     "slide_type": "notes"
    }
   },
   "outputs": [],
   "source": [
    "preprocess = pd.Series(\n",
    "    [' '.join(annotation_df[annotation_df['bill'] == i]['lemma']) for i in range(len(bills))]\n",
    ")"
   ]
  },
  {
   "cell_type": "markdown",
   "metadata": {
    "slideshow": {
     "slide_type": "slide"
    }
   },
   "source": [
    "## A Term Frequency Matrix\n",
    "\n",
    "One way to quantitatively represent text: create a matrix where each row represents one bill, and each column represents one token. Each value is the number of times a token appears in a bill:"
   ]
  },
  {
   "cell_type": "markdown",
   "metadata": {
    "slideshow": {
     "slide_type": "-"
    }
   },
   "source": [
    "| ID | abandon |...| require | student | high | school | career | take | United | States | civics | test |...| zoning |\n",
    "|------|---|---|---|---|---|---|---|---|---|---|---|---|---|---|\n",
    "| HB10 | 0 |...| 1 | 2 | 1 | 1 | 1 | 1 | 1 | 1 | 1 | 1 |...| 0 |\n",
    "| HB11 | 0 |...| 0 | 0 | 0 | 0 | 0 | 0 | 0 | 0 | 0 | 0 |...| 0 |\n",
    "| HB12 | 0 |...| 0 | 0 | 0 | 0 | 0 | 0 | 0 | 0 | 0 | 0 |...| 0 |\n",
    "|   .  | . |...| . | . | . | . | . | . | . | . | . | . |...| . |\n",
    "|   .  | . |...| . | . | . | . | . | . | . | . | . | . |...| . |\n",
    "|   .  | . |...| . | . | . | . | . | . | . | . | . | . |...| . |"
   ]
  },
  {
   "cell_type": "markdown",
   "metadata": {
    "slideshow": {
     "slide_type": "fragment"
    }
   },
   "source": [
    "This is a **bag of words** representation of a text document."
   ]
  },
  {
   "cell_type": "markdown",
   "metadata": {
    "slideshow": {
     "slide_type": "slide"
    }
   },
   "source": [
    "## A TF-IDF Matrix\n",
    "\n",
    "I take this one step further, by calculating **T**erm **F**requency-**I**nverse **D**ocument **F**requency. [TF-IDF](https://en.wikipedia.org/wiki/Tf%E2%80%93idf) indicates which tokens show up frequently in one document (TF) while downweighting tokens that show up frequently across all documents (IDF).\n",
    "\n",
    "For a corpus with N documents, the TF-IDF score for token *t* and document *d* is:\n",
    "\n",
    "$$TFIDF_{(t, d)} = \\#\\:of\\:times\\:t\\:appears\\:in\\:d\\:*\\: log \\frac{\\#\\:of\\:documents}{ \\#\\:of\\:documents\\:with\\:t}$$"
   ]
  },
  {
   "cell_type": "markdown",
   "metadata": {
    "slideshow": {
     "slide_type": "slide"
    }
   },
   "source": [
    "## A TF-IDF Matrix\n",
    "\n",
    "| ID | abandon |...| require | student | high | school | career | take | United | States | civics | test |...| zoning |\n",
    "|------|---|---|---|---|---|---|---|---|---|---|---|---|---|---|---|\n",
    "| HB10 | 0 |...|0.089|0.553|0.268|0.151|0.365|0.246|0.272|0.272|0.419|0.274|...| 0 |\n",
    "| HB11 | 0 |...| 0 | 0 | 0 | 0 | 0 | 0 | 0 | 0 | 0 | 0 |...| 0 |\n",
    "| HB12 | 0 |...| 0 | 0 | 0 | 0 | 0 | 0 | 0 | 0 | 0 | 0 |...| 0 |\n",
    "|   .  | . |...| . | . | . | . | . | . | . | . | . | . |...| . |\n",
    "|   .  | . |...| . | . | . | . | . | . | . | . | . | . |...| . |\n",
    "|   .  | . |...| . | . | . | . | . | . | . | . | . | . |...| . |"
   ]
  },
  {
   "cell_type": "markdown",
   "metadata": {
    "slideshow": {
     "slide_type": "fragment"
    }
   },
   "source": [
    "Think of this as ~ highlighting important terms in a document."
   ]
  },
  {
   "cell_type": "markdown",
   "metadata": {
    "slideshow": {
     "slide_type": "slide"
    }
   },
   "source": [
    "I can do this with `TfidfVectorizer`:"
   ]
  },
  {
   "cell_type": "code",
   "execution_count": 27,
   "metadata": {
    "slideshow": {
     "slide_type": "-"
    }
   },
   "outputs": [],
   "source": [
    "from sklearn.feature_extraction.text import TfidfVectorizer\n",
    "\n",
    "tf = TfidfVectorizer(min_df=10, ngram_range=(1, 3))\n",
    "\n",
    "X_tfidf = tf.fit_transform(preprocess)"
   ]
  },
  {
   "cell_type": "markdown",
   "metadata": {
    "slideshow": {
     "slide_type": "fragment"
    }
   },
   "source": [
    "A TF-IDF representation of text will be the input to my machine learning model."
   ]
  },
  {
   "cell_type": "markdown",
   "metadata": {
    "slideshow": {
     "slide_type": "slide"
    }
   },
   "source": [
    "Split my dataset into a **test set** consisting of the most recent session and a **training set** consisting of all prior sets."
   ]
  },
  {
   "cell_type": "code",
   "execution_count": 28,
   "metadata": {
    "slideshow": {
     "slide_type": "-"
    }
   },
   "outputs": [
    {
     "data": {
      "text/plain": [
       "110    5485\n",
       "109    5357\n",
       "108    5204\n",
       "107    4043\n",
       "Name: session, dtype: int64"
      ]
     },
     "execution_count": 28,
     "metadata": {},
     "output_type": "execute_result"
    }
   ],
   "source": [
    "bills['session'].value_counts()"
   ]
  },
  {
   "cell_type": "code",
   "execution_count": 29,
   "metadata": {
    "slideshow": {
     "slide_type": "-"
    }
   },
   "outputs": [],
   "source": [
    "train_count = sum(bills['session'] != 110)\n",
    "\n",
    "X_train = X_tfidf[:train_count]\n",
    "X_test = X_tfidf[train_count:]"
   ]
  },
  {
   "cell_type": "markdown",
   "metadata": {
    "slideshow": {
     "slide_type": "slide"
    }
   },
   "source": [
    "Likewise, split the outcomes into training and test components."
   ]
  },
  {
   "cell_type": "code",
   "execution_count": 30,
   "metadata": {
    "slideshow": {
     "slide_type": "-"
    }
   },
   "outputs": [],
   "source": [
    "Y_train_vote = bills['committee'][:train_count]\n",
    "Y_test_vote = bills['committee'][train_count:]\n",
    "\n",
    "Y_train_uncontroversial = bills['uncontroversial'][:train_count]\n",
    "Y_test_uncontroversial = bills['uncontroversial'][train_count:]"
   ]
  },
  {
   "cell_type": "markdown",
   "metadata": {
    "slideshow": {
     "slide_type": "slide"
    }
   },
   "source": [
    "## To recap\n",
    "\n",
    "I am trying to predict whether a bill will:\n",
    "\n",
    "1. pass committees/go to a vote  \n",
    "2. be uncontroversial\n",
    "\n",
    "based on the presence of certain words/phrases in the Title field."
   ]
  },
  {
   "cell_type": "markdown",
   "metadata": {
    "slideshow": {
     "slide_type": "slide"
    }
   },
   "source": [
    "## Why might this work?\n",
    "\n",
    "* The presence of certain words/phrases reliably predicts something about a bill's outcome."
   ]
  },
  {
   "cell_type": "markdown",
   "metadata": {
    "slideshow": {
     "slide_type": "fragment"
    }
   },
   "source": [
    "## Why might this not work?\n",
    "\n",
    "* Tendencies of bill outcomes change over time\n",
    "    * Turnover in legislators AND new legislators have different tendencies than previous legislators\n",
    "    * Legislators want to do the opposite of what they did previously\n",
    "    * Bills need 'momentum' in order to pass\n",
    "* New bills deal with different topics than old bills"
   ]
  },
  {
   "cell_type": "markdown",
   "metadata": {
    "slideshow": {
     "slide_type": "slide"
    }
   },
   "source": [
    "## In machine learning parlance\n",
    "\n",
    "- **Logistic regression** with **elastic net regularization**.\n",
    "- **Grid search** to iterate over values of the regularization parameter and the tradeoff between the $L_1$ and $L_2$ normed penalties\n",
    "- Resample during training with **5-fold cross validation**."
   ]
  },
  {
   "cell_type": "markdown",
   "metadata": {
    "slideshow": {
     "slide_type": "fragment"
    }
   },
   "source": [
    "## In English\n",
    "\n",
    "I am asking the algorithm to identify a relationship between inputs (text) and outcomes **that generalizes as well as possible to new data**."
   ]
  },
  {
   "cell_type": "markdown",
   "metadata": {
    "slideshow": {
     "slide_type": "slide"
    }
   },
   "source": [
    "Building a model to predict whether a bill goes to a vote:"
   ]
  },
  {
   "cell_type": "code",
   "execution_count": 31,
   "metadata": {
    "slideshow": {
     "slide_type": "-"
    }
   },
   "outputs": [],
   "source": [
    "from sklearn.linear_model import SGDClassifier\n",
    "from sklearn.model_selection import GridSearchCV\n",
    "\n",
    "params = {\n",
    "    'alpha': 10.0 ** -np.arange(1, 7),\n",
    "    'l1_ratio': np.arange(0, 1, 0.2)\n",
    "}\n",
    "\n",
    "elastic_net = GridSearchCV(\n",
    "    SGDClassifier(loss=\"log\", max_iter=250), params, cv=5\n",
    ")\n",
    "\n",
    "elastic_net_vote = elastic_net.fit(X_train, Y_train_vote)"
   ]
  },
  {
   "cell_type": "markdown",
   "metadata": {
    "slideshow": {
     "slide_type": "slide"
    }
   },
   "source": [
    "## Evaluating classification predictions\n",
    "\n",
    "About 44 percent of bills pass all committees and make it to a vote. This means I could achieve ~56% accuracy just by predicting 'no vote' for every bill.\n",
    "\n",
    "I want my classification accuracy to be meaningfully above 56%."
   ]
  },
  {
   "cell_type": "code",
   "execution_count": 32,
   "metadata": {
    "scrolled": true,
    "slideshow": {
     "slide_type": "-"
    }
   },
   "outputs": [
    {
     "data": {
      "text/plain": [
       "0.0    11188\n",
       "1.0     8901\n",
       "Name: committee, dtype: int64"
      ]
     },
     "execution_count": 32,
     "metadata": {},
     "output_type": "execute_result"
    }
   ],
   "source": [
    "bills['committee'].value_counts()"
   ]
  },
  {
   "cell_type": "markdown",
   "metadata": {
    "slideshow": {
     "slide_type": "fragment"
    }
   },
   "source": [
    "Predict on the test set and check accuracy:"
   ]
  },
  {
   "cell_type": "code",
   "execution_count": 33,
   "metadata": {
    "slideshow": {
     "slide_type": "fragment"
    }
   },
   "outputs": [
    {
     "data": {
      "text/plain": [
       "0.9456700091157703"
      ]
     },
     "execution_count": 33,
     "metadata": {},
     "output_type": "execute_result"
    }
   ],
   "source": [
    "from sklearn.metrics import accuracy_score\n",
    "\n",
    "predict_vote = elastic_net_vote.predict(X_test).astype(int)\n",
    "\n",
    "accuracy_score(predict_vote, Y_test_vote)"
   ]
  },
  {
   "cell_type": "markdown",
   "metadata": {
    "slideshow": {
     "slide_type": "slide"
    }
   },
   "source": [
    "Repeat to predict uncontroversial bills:"
   ]
  },
  {
   "cell_type": "code",
   "execution_count": 34,
   "metadata": {
    "slideshow": {
     "slide_type": "-"
    }
   },
   "outputs": [
    {
     "data": {
      "text/plain": [
       "0.0    13245\n",
       "1.0     6844\n",
       "Name: uncontroversial, dtype: int64"
      ]
     },
     "execution_count": 34,
     "metadata": {},
     "output_type": "execute_result"
    }
   ],
   "source": [
    "bills['uncontroversial'].value_counts()"
   ]
  },
  {
   "cell_type": "code",
   "execution_count": 35,
   "metadata": {
    "slideshow": {
     "slide_type": "fragment"
    }
   },
   "outputs": [
    {
     "data": {
      "text/plain": [
       "0.9279854147675478"
      ]
     },
     "execution_count": 35,
     "metadata": {},
     "output_type": "execute_result"
    }
   ],
   "source": [
    "elastic_net_uncontroversial = elastic_net.fit(X_train, Y_train_uncontroversial)\n",
    "\n",
    "predict_uncontroversial = elastic_net_uncontroversial.predict(X_test).astype(int)\n",
    "\n",
    "accuracy_score(predict_uncontroversial, Y_test_uncontroversial)"
   ]
  },
  {
   "cell_type": "markdown",
   "metadata": {
    "slideshow": {
     "slide_type": "slide"
    }
   },
   "source": [
    "An answer to \"What legislation should I pay attention to?\" might look like the following:"
   ]
  },
  {
   "cell_type": "markdown",
   "metadata": {
    "slideshow": {
     "slide_type": "-"
    }
   },
   "source": [
    "| title | my_legislators | my_city_county | my_subjects | predict_marginal |\n",
    "|-------|----------------|----------------|-------------|------------------|\n",
    "|School Transportation - As introduced, places restrictions ... | 1 | 0 | 1 | 1 |\n",
    "|Education, Higher - As introduced, requires state institutions ... | 0 | 0 | 1 | 1 |\n",
    "|Education - As introduced, creates a tuition assistance ... | 0 | 0 | 1 | 1 |\n",
    "|Alcoholic Beverages - As enacted, authorizes The Avenue ... | 1 | 1 | 0 | 0 |\n",
    "|Board of Regents - As introduced, clarifies the number ... | 1 | 0 | 1 | 0 |"
   ]
  },
  {
   "cell_type": "markdown",
   "metadata": {
    "slideshow": {
     "slide_type": "slide"
    }
   },
   "source": [
    "## What next?\n",
    "\n",
    "Finding as many reasons as possible that a person be interested in a piece of legislation:\n",
    "\n",
    "- pertains to local issues in their city/town/county\n",
    "- pertains to issues they care about\n",
    "- is introduced by their Representative/Senator\n",
    "- is marginal/not uncontroversial\n",
    "- **contains search terms of interest**\n",
    "- **others?**"
   ]
  },
  {
   "cell_type": "markdown",
   "metadata": {
    "slideshow": {
     "slide_type": "fragment"
    }
   },
   "source": [
    "Then, build something that:\n",
    "\n",
    "- Notifies people as legislation is introduced that meets these criteria\n",
    "- Provides something actionable that users can do: call/write their legislator, key committee members, etc.\n",
    "- Updates on the progression of legislation"
   ]
  },
  {
   "cell_type": "markdown",
   "metadata": {
    "slideshow": {
     "slide_type": "slide"
    }
   },
   "source": [
    "## Thanks!\n",
    "\n",
    "* GitHub: [alexander-poon/legisPy](https://github.com/alexander-poon/legisPy)\n",
    "* Email: [alexander.poon@pm.me](mailto:alexander.poon@pm.me)\n",
    "* NashDev: [alexanderpoon]()\n",
    "* Data Nerds: Tuesday mornings 8-10 am @ Belmont"
   ]
  }
 ],
 "metadata": {
  "celltoolbar": "Slideshow",
  "kernelspec": {
   "display_name": "Python [default]",
   "language": "python",
   "name": "python3"
  },
  "language_info": {
   "codemirror_mode": {
    "name": "ipython",
    "version": 3
   },
   "file_extension": ".py",
   "mimetype": "text/x-python",
   "name": "python",
   "nbconvert_exporter": "python",
   "pygments_lexer": "ipython3",
   "version": "3.6.8"
  }
 },
 "nbformat": 4,
 "nbformat_minor": 2
}
