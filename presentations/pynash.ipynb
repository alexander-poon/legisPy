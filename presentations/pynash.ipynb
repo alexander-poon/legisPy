{
 "cells": [
  {
   "cell_type": "markdown",
   "metadata": {
    "slideshow": {
     "slide_type": "slide"
    }
   },
   "source": [
    "# Civic Engagement with Data Science\n",
    "\n",
    "---\n",
    "\n",
    "Alexander Poon  \n",
    "PyNash  \n",
    "November 2018"
   ]
  },
  {
   "cell_type": "markdown",
   "metadata": {
    "slideshow": {
     "slide_type": "slide"
    }
   },
   "source": [
    "## Hello, PyNash\n",
    "\n",
    "* Background in Public Policy and Education\n",
    "* Director of Analytics at Tennessee Department of Education\n",
    "* Aspiring AI/ML practitioner and Python learner"
   ]
  },
  {
   "cell_type": "markdown",
   "metadata": {
    "slideshow": {
     "slide_type": "slide"
    }
   },
   "source": [
    "## This Project\n",
    "\n",
    "**What (state) legislation should I pay attention to?**"
   ]
  },
  {
   "cell_type": "markdown",
   "metadata": {
    "slideshow": {
     "slide_type": "slide"
    }
   },
   "source": [
    "Preliminaries:"
   ]
  },
  {
   "cell_type": "code",
   "execution_count": 1,
   "metadata": {
    "slideshow": {
     "slide_type": "-"
    }
   },
   "outputs": [],
   "source": [
    "import numpy as np\n",
    "import pandas as pd\n",
    "import matplotlib.pyplot as plt\n",
    "import seaborn as sns\n",
    "\n",
    "%matplotlib inline\n",
    "\n",
    "pd.options.display.max_colwidth = 1000"
   ]
  },
  {
   "cell_type": "markdown",
   "metadata": {
    "slideshow": {
     "slide_type": "slide"
    }
   },
   "source": [
    "## The Data\n",
    "\n",
    "**OpenStates** provides comprehensive information pertaining to state legislators and legislation, including bill text, topics, sponsors, progress through committees, amendments, vote tallies and votes by individual legislators."
   ]
  },
  {
   "cell_type": "code",
   "execution_count": null,
   "metadata": {
    "slideshow": {
     "slide_type": "fragment"
    }
   },
   "outputs": [],
   "source": [
    "from pyopenstates import *\n",
    "\n",
    "set_api_key('') # Get key here: https://openstates.org/api/register/\n",
    "\n",
    "bills_request = search_bills(state='tn')"
   ]
  },
  {
   "cell_type": "code",
   "execution_count": 3,
   "metadata": {
    "scrolled": true,
    "slideshow": {
     "slide_type": "slide"
    }
   },
   "outputs": [
    {
     "data": {
      "text/plain": [
       "dict_keys(['title', 'summary', 'created_at', 'updated_at', 'id', 'all_ids', 'chamber', 'state', 'session', 'type', 'bill_id', 'actions', 'sources', 'sponsors', 'versions', 'documents', 'alternate_titles', 'votes', 'action_dates', 'scraped_subjects', 'alternate_bill_ids', 'subjects', 'companions'])"
      ]
     },
     "execution_count": 3,
     "metadata": {},
     "output_type": "execute_result"
    }
   ],
   "source": [
    "bills_request[0].keys()"
   ]
  },
  {
   "cell_type": "code",
   "execution_count": 4,
   "metadata": {
    "slideshow": {
     "slide_type": "notes"
    }
   },
   "outputs": [],
   "source": [
    "bills = pd.read_csv('../data/bills.csv')\n",
    "\n",
    "# Remove the 'Amends TCA Title x, Chapter y' from bill titles\n",
    "bills['title'].replace(to_replace=' - Amends.+$', value='', regex=True, inplace=True)"
   ]
  },
  {
   "cell_type": "markdown",
   "metadata": {
    "slideshow": {
     "slide_type": "slide"
    }
   },
   "source": [
    "Convert a list of dictionaries to a Pandas DataFrame:"
   ]
  },
  {
   "cell_type": "code",
   "execution_count": null,
   "metadata": {
    "slideshow": {
     "slide_type": "-"
    }
   },
   "outputs": [],
   "source": [
    "bills = pd.DataFrame(bills_request) \\\n",
    "    .loc[:, ['bill_id', 'session', 'subjects', 'title', 'sponsors']]\n",
    "\n",
    "# Remove the 'Amends TCA Title x, Chapter y' from bill titles\n",
    "bills['title'].replace(to_replace=' - Amends.+$', value='', regex=True, inplace=True)"
   ]
  },
  {
   "cell_type": "code",
   "execution_count": 5,
   "metadata": {
    "scrolled": true,
    "slideshow": {
     "slide_type": "slide"
    }
   },
   "outputs": [
    {
     "data": {
      "text/html": [
       "<div>\n",
       "<style scoped>\n",
       "    .dataframe tbody tr th:only-of-type {\n",
       "        vertical-align: middle;\n",
       "    }\n",
       "\n",
       "    .dataframe tbody tr th {\n",
       "        vertical-align: top;\n",
       "    }\n",
       "\n",
       "    .dataframe thead th {\n",
       "        text-align: right;\n",
       "    }\n",
       "</style>\n",
       "<table border=\"1\" class=\"dataframe\">\n",
       "  <thead>\n",
       "    <tr style=\"text-align: right;\">\n",
       "      <th></th>\n",
       "      <th>bill_id</th>\n",
       "      <th>session</th>\n",
       "      <th>subjects</th>\n",
       "      <th>title</th>\n",
       "      <th>sponsors</th>\n",
       "    </tr>\n",
       "  </thead>\n",
       "  <tbody>\n",
       "    <tr>\n",
       "      <th>0</th>\n",
       "      <td>SB 107</td>\n",
       "      <td>110</td>\n",
       "      <td>Government Reform</td>\n",
       "      <td>Sunset Laws - As enacted, extends the Tennessee life and health insurance guaranty association five years to June 30, 2022.</td>\n",
       "      <td>Bell; Faison</td>\n",
       "    </tr>\n",
       "    <tr>\n",
       "      <th>1</th>\n",
       "      <td>HB 228</td>\n",
       "      <td>110</td>\n",
       "      <td>Government Reform</td>\n",
       "      <td>Sunset Laws - As enacted, extends the Tennessee life and health insurance guaranty association five years to June 30, 2022.</td>\n",
       "      <td>Faison; Bell</td>\n",
       "    </tr>\n",
       "  </tbody>\n",
       "</table>\n",
       "</div>"
      ],
      "text/plain": [
       "  bill_id  session           subjects  \\\n",
       "0  SB 107      110  Government Reform   \n",
       "1  HB 228      110  Government Reform   \n",
       "\n",
       "                                                                                                                         title  \\\n",
       "0  Sunset Laws - As enacted, extends the Tennessee life and health insurance guaranty association five years to June 30, 2022.   \n",
       "1  Sunset Laws - As enacted, extends the Tennessee life and health insurance guaranty association five years to June 30, 2022.   \n",
       "\n",
       "       sponsors  \n",
       "0  Bell; Faison  \n",
       "1  Faison; Bell  "
      ]
     },
     "execution_count": 5,
     "metadata": {},
     "output_type": "execute_result"
    }
   ],
   "source": [
    "bills.head(2)"
   ]
  },
  {
   "cell_type": "markdown",
   "metadata": {
    "slideshow": {
     "slide_type": "slide"
    }
   },
   "source": [
    "![](images/text.png)"
   ]
  },
  {
   "cell_type": "markdown",
   "metadata": {
    "slideshow": {
     "slide_type": "slide"
    }
   },
   "source": [
    "## The problem"
   ]
  },
  {
   "cell_type": "code",
   "execution_count": 6,
   "metadata": {
    "slideshow": {
     "slide_type": "-"
    }
   },
   "outputs": [
    {
     "data": {
      "text/plain": [
       "20089"
      ]
     },
     "execution_count": 6,
     "metadata": {},
     "output_type": "execute_result"
    }
   ],
   "source": [
    "len(bills)"
   ]
  },
  {
   "cell_type": "markdown",
   "metadata": {
    "slideshow": {
     "slide_type": "fragment"
    }
   },
   "source": [
    "This represents the last four legislative sessions (each legislative session runs two years)."
   ]
  },
  {
   "cell_type": "markdown",
   "metadata": {
    "slideshow": {
     "slide_type": "slide"
    }
   },
   "source": [
    "## This Project\n",
    "\n",
    "**What (state) legislation should I pay attention to?**\n",
    "\n",
    "This might include legislation that:\n",
    "- pertains to local issues in the city/town/county where I live\n",
    "- pertains to issues I care about\n",
    "- is introduced by my Representative/Senator"
   ]
  },
  {
   "cell_type": "markdown",
   "metadata": {
    "slideshow": {
     "slide_type": "slide"
    }
   },
   "source": [
    "`pyopenstates` can identify my legislators:"
   ]
  },
  {
   "cell_type": "code",
   "execution_count": 7,
   "metadata": {
    "slideshow": {
     "slide_type": "-"
    }
   },
   "outputs": [
    {
     "name": "stdout",
     "output_type": "stream",
     "text": [
      "['Beck', 'Harper']\n"
     ]
    }
   ],
   "source": [
    "my_legislators = [i.get('last_name') for i in locate_legislators(36.157612, -86.767337)]\n",
    "\n",
    "print(my_legislators)"
   ]
  },
  {
   "cell_type": "markdown",
   "metadata": {
    "slideshow": {
     "slide_type": "slide"
    }
   },
   "source": [
    "Tag legislation introducted by my legislators:"
   ]
  },
  {
   "cell_type": "code",
   "execution_count": 8,
   "metadata": {
    "slideshow": {
     "slide_type": "-"
    }
   },
   "outputs": [],
   "source": [
    "bills['my_legislators'] = bills['sponsors'].str.contains('|'.join(my_legislators)) \\\n",
    "    .fillna(False) \\\n",
    "    .astype(int)"
   ]
  },
  {
   "cell_type": "markdown",
   "metadata": {
    "slideshow": {
     "slide_type": "slide"
    }
   },
   "source": [
    "Tag legislation pertaining to my county/city/town:"
   ]
  },
  {
   "cell_type": "code",
   "execution_count": 9,
   "metadata": {
    "slideshow": {
     "slide_type": "-"
    }
   },
   "outputs": [
    {
     "name": "stdout",
     "output_type": "stream",
     "text": [
      "Nashville-Davidson, Davidson County\n"
     ]
    }
   ],
   "source": [
    "from geopy.geocoders import Nominatim\n",
    "\n",
    "geolocator = Nominatim(user_agent='12345')\n",
    "\n",
    "location = geolocator.reverse((36.157612, -86.767337))\n",
    "\n",
    "my_city, my_county = [location.raw.get('address').get(i) for i in ['city', 'county']]\n",
    "\n",
    "print(my_city + ', ' + my_county)"
   ]
  },
  {
   "cell_type": "code",
   "execution_count": 10,
   "metadata": {
    "slideshow": {
     "slide_type": "slide"
    }
   },
   "outputs": [],
   "source": [
    "if my_city == \"Nashville-Davidson\":\n",
    "    my_city = \"Nashville\"\n",
    "\n",
    "# Tag legislation mentioning my city or county from location\n",
    "bills['my_city_county'] = bills['title'].str.contains(my_city + '|' + my_county) \\\n",
    "    .astype(int)"
   ]
  },
  {
   "cell_type": "markdown",
   "metadata": {
    "slideshow": {
     "slide_type": "slide"
    }
   },
   "source": [
    "Tag legislation pertaining to subjects I'm interested in:\n",
    "\n",
    "(What are possible subjects?)"
   ]
  },
  {
   "cell_type": "code",
   "execution_count": 11,
   "metadata": {
    "scrolled": true,
    "slideshow": {
     "slide_type": "-"
    }
   },
   "outputs": [
    {
     "data": {
      "text/plain": [
       "Education                               2461\n",
       "Legal Issues                            1985\n",
       "Health                                  1396\n",
       "Transportation                          1253\n",
       "Municipal and County Issues             1181\n",
       "Budget, Spending, and Taxes             1035\n",
       "Drugs                                   1017\n",
       "Government Reform                        959\n",
       "Labor and Employment                     822\n",
       "Business and Consumers                   611\n",
       "Housing and Property                     610\n",
       "Commerce                                 591\n",
       "Crime                                    588\n",
       "Campaign Finance and Election Issues     485\n",
       "Federal, State, and Local Relations      456\n",
       "Judiciary                                427\n",
       "Environmental                            396\n",
       "Legislative Affairs                      386\n",
       "Guns                                     336\n",
       "Family and Children Issues               328\n",
       "Public Services                          297\n",
       "Other                                    277\n",
       "State Agencies                           266\n",
       "Agriculture and Food                     247\n",
       "Military                                 220\n",
       "Senior Issues                            167\n",
       "Animal Rights and Wildlife Issues        118\n",
       "Welfare and Poverty                      117\n",
       "Recreation                               100\n",
       "Resolutions                               99\n",
       "Social Issues                             96\n",
       "Technology and Communication              81\n",
       "Reproductive Issues                       66\n",
       "Arts and Humanities                       56\n",
       "Civil Liberties and Civil Rights          44\n",
       "Gambling and Gaming                       40\n",
       "Energy                                    39\n",
       "Immigration                               38\n",
       "Science and Medical Research              26\n",
       "Insurance                                 12\n",
       "Sexual Orientation and Gender Issues       7\n",
       "Trade                                      4\n",
       "Name: subjects, dtype: int64"
      ]
     },
     "execution_count": 11,
     "metadata": {},
     "output_type": "execute_result"
    }
   ],
   "source": [
    "bills['subjects'].replace(to_replace=';.+', value='', regex=True) \\\n",
    "    .value_counts()"
   ]
  },
  {
   "cell_type": "code",
   "execution_count": 12,
   "metadata": {
    "slideshow": {
     "slide_type": "subslide"
    }
   },
   "outputs": [
    {
     "data": {
      "text/plain": [
       "State Agencies                          266\n",
       "Agriculture and Food                    247\n",
       "Military                                220\n",
       "Senior Issues                           167\n",
       "Animal Rights and Wildlife Issues       118\n",
       "Welfare and Poverty                     117\n",
       "Recreation                              100\n",
       "Resolutions                              99\n",
       "Social Issues                            96\n",
       "Technology and Communication             81\n",
       "Reproductive Issues                      66\n",
       "Arts and Humanities                      56\n",
       "Civil Liberties and Civil Rights         44\n",
       "Gambling and Gaming                      40\n",
       "Energy                                   39\n",
       "Immigration                              38\n",
       "Science and Medical Research             26\n",
       "Insurance                                12\n",
       "Sexual Orientation and Gender Issues      7\n",
       "Trade                                     4\n",
       "Name: subjects, dtype: int64"
      ]
     },
     "execution_count": 12,
     "metadata": {},
     "output_type": "execute_result"
    }
   ],
   "source": [
    "bills['subjects'].replace(to_replace=';.+', value='', regex=True) \\\n",
    "    .value_counts() \\\n",
    "    .tail(20)"
   ]
  },
  {
   "cell_type": "markdown",
   "metadata": {
    "slideshow": {
     "slide_type": "slide"
    }
   },
   "source": [
    "Tag legislation pertaining to subjects I'm interested in:"
   ]
  },
  {
   "cell_type": "code",
   "execution_count": 13,
   "metadata": {
    "slideshow": {
     "slide_type": "-"
    }
   },
   "outputs": [],
   "source": [
    "my_subjects = ['Education']\n",
    "\n",
    "bills['my_subjects'] = bills['subjects'].str.contains('|'.join(my_subjects)) \\\n",
    "    .fillna(False) \\\n",
    "    .astype(int)"
   ]
  },
  {
   "cell_type": "code",
   "execution_count": 14,
   "metadata": {
    "slideshow": {
     "slide_type": "notes"
    }
   },
   "outputs": [],
   "source": [
    "pd.options.display.max_colwidth = 50"
   ]
  },
  {
   "cell_type": "code",
   "execution_count": 15,
   "metadata": {
    "slideshow": {
     "slide_type": "slide"
    }
   },
   "outputs": [
    {
     "data": {
      "text/html": [
       "<div>\n",
       "<style scoped>\n",
       "    .dataframe tbody tr th:only-of-type {\n",
       "        vertical-align: middle;\n",
       "    }\n",
       "\n",
       "    .dataframe tbody tr th {\n",
       "        vertical-align: top;\n",
       "    }\n",
       "\n",
       "    .dataframe thead th {\n",
       "        text-align: right;\n",
       "    }\n",
       "</style>\n",
       "<table border=\"1\" class=\"dataframe\">\n",
       "  <thead>\n",
       "    <tr style=\"text-align: right;\">\n",
       "      <th></th>\n",
       "      <th>bill_id</th>\n",
       "      <th>session</th>\n",
       "      <th>subjects</th>\n",
       "      <th>title</th>\n",
       "      <th>sponsors</th>\n",
       "      <th>my_legislators</th>\n",
       "      <th>my_city_county</th>\n",
       "      <th>my_subjects</th>\n",
       "    </tr>\n",
       "  </thead>\n",
       "  <tbody>\n",
       "    <tr>\n",
       "      <th>0</th>\n",
       "      <td>SB 107</td>\n",
       "      <td>110</td>\n",
       "      <td>Government Reform</td>\n",
       "      <td>Sunset Laws - As enacted, extends the Tennesse...</td>\n",
       "      <td>Bell; Faison</td>\n",
       "      <td>0</td>\n",
       "      <td>0</td>\n",
       "      <td>0</td>\n",
       "    </tr>\n",
       "    <tr>\n",
       "      <th>1</th>\n",
       "      <td>HB 228</td>\n",
       "      <td>110</td>\n",
       "      <td>Government Reform</td>\n",
       "      <td>Sunset Laws - As enacted, extends the Tennesse...</td>\n",
       "      <td>Faison; Bell</td>\n",
       "      <td>0</td>\n",
       "      <td>0</td>\n",
       "      <td>0</td>\n",
       "    </tr>\n",
       "  </tbody>\n",
       "</table>\n",
       "</div>"
      ],
      "text/plain": [
       "  bill_id  session           subjects  \\\n",
       "0  SB 107      110  Government Reform   \n",
       "1  HB 228      110  Government Reform   \n",
       "\n",
       "                                               title      sponsors  \\\n",
       "0  Sunset Laws - As enacted, extends the Tennesse...  Bell; Faison   \n",
       "1  Sunset Laws - As enacted, extends the Tennesse...  Faison; Bell   \n",
       "\n",
       "   my_legislators  my_city_county  my_subjects  \n",
       "0               0               0            0  \n",
       "1               0               0            0  "
      ]
     },
     "execution_count": 15,
     "metadata": {},
     "output_type": "execute_result"
    }
   ],
   "source": [
    "bills.head(2)"
   ]
  },
  {
   "cell_type": "markdown",
   "metadata": {
    "slideshow": {
     "slide_type": "slide"
    }
   },
   "source": [
    "## How a Bill Becomes a Law\n",
    "\n",
    "In Tennessee, a bill goes through the following [steps](http://www.capitol.tn.gov/about/billtolaw.html) (roughly) to become law:\n",
    "\n",
    "* Introduced\n",
    "* Passed on First Consideration\n",
    "* Passed on Second Consideration\n",
    "* Referred to Committee(s)\n",
    "* Placed on Calendar for Third Consideration\n",
    "    * On Third Consideration, opened for debate and amendment\n",
    "* Passed on Third Consideration\n",
    "* Reconcile Senate and House versions\n",
    "* Signed by Governor or allowed to become law without signature"
   ]
  },
  {
   "cell_type": "markdown",
   "metadata": {
    "slideshow": {
     "slide_type": "slide"
    }
   },
   "source": [
    "Pull this information using `get_bill()`:"
   ]
  },
  {
   "cell_type": "code",
   "execution_count": 16,
   "metadata": {
    "scrolled": true,
    "slideshow": {
     "slide_type": "-"
    }
   },
   "outputs": [
    {
     "data": {
      "text/plain": [
       "dict_keys(['title', 'summary', 'created_at', 'updated_at', 'id', 'all_ids', 'chamber', 'state', 'session', 'type', 'bill_id', 'actions', 'sources', 'sponsors', 'versions', 'documents', 'alternate_titles', 'votes', 'action_dates', 'scraped_subjects', 'alternate_bill_ids', 'subjects', 'companions'])"
      ]
     },
     "execution_count": 16,
     "metadata": {},
     "output_type": "execute_result"
    }
   ],
   "source": [
    "get_bill(state='tn', term=110, bill_id='SB 107').keys()"
   ]
  },
  {
   "cell_type": "code",
   "execution_count": 17,
   "metadata": {
    "slideshow": {
     "slide_type": "slide"
    }
   },
   "outputs": [
    {
     "data": {
      "text/plain": [
       "[{'action': 'Filed for introduction',\n",
       "  'actor': 'upper',\n",
       "  'date': '2017-01-12 00:00:00',\n",
       "  'related_entities': [],\n",
       "  'type': ['bill:introduced', 'bill:reading:1']},\n",
       " {'action': 'Introduced, Passed on First Consideration',\n",
       "  'actor': 'upper',\n",
       "  'date': '2017-01-30 00:00:00',\n",
       "  'related_entities': [],\n",
       "  'type': ['bill:introduced']},\n",
       " {'action': 'Filed for intro.',\n",
       "  'actor': 'lower',\n",
       "  'date': '2017-01-31 00:00:00',\n",
       "  'related_entities': [],\n",
       "  'type': ['bill:introduced', 'bill:reading:1']},\n",
       " {'action': 'Passed on Second Consideration, refer to Senate Government Operations Committee',\n",
       "  'actor': 'upper',\n",
       "  'date': '2017-02-01 00:00:00',\n",
       "  'related_entities': [],\n",
       "  'type': []},\n",
       " {'action': 'Intro., P1C.',\n",
       "  'actor': 'lower',\n",
       "  'date': '2017-02-01 00:00:00',\n",
       "  'related_entities': [],\n",
       "  'type': ['bill:introduced']},\n",
       " {'action': 'P2C, ref. to Government Operations Committee',\n",
       "  'actor': 'lower',\n",
       "  'date': '2017-02-02 00:00:00',\n",
       "  'related_entities': [],\n",
       "  'type': ['committee:referred']},\n",
       " {'action': 'Placed on Senate Government Operations Committee calendar for 2/15/2017',\n",
       "  'actor': 'upper',\n",
       "  'date': '2017-02-08 00:00:00',\n",
       "  'related_entities': [],\n",
       "  'type': []},\n",
       " {'action': 'Recommended for passage, refer to Senate Calendar Committee',\n",
       "  'actor': 'upper',\n",
       "  'date': '2017-02-15 00:00:00',\n",
       "  'related_entities': [],\n",
       "  'type': []},\n",
       " {'action': 'Placed on Senate Consent Calendar 2 calendar for 2/23/2017',\n",
       "  'actor': 'upper',\n",
       "  'date': '2017-02-21 00:00:00',\n",
       "  'related_entities': [],\n",
       "  'type': []},\n",
       " {'action': 'Placed on cal. Government Operations Committee for 3/1/2017',\n",
       "  'actor': 'lower',\n",
       "  'date': '2017-02-22 00:00:00',\n",
       "  'related_entities': [],\n",
       "  'type': []},\n",
       " {'action': 'Engrossed; ready for transmission to House',\n",
       "  'actor': 'upper',\n",
       "  'date': '2017-02-23 00:00:00',\n",
       "  'related_entities': [],\n",
       "  'type': []},\n",
       " {'action': 'Passed Senate, Ayes 33, Nays 0',\n",
       "  'actor': 'upper',\n",
       "  'date': '2017-02-23 00:00:00',\n",
       "  'related_entities': [],\n",
       "  'type': ['bill:passed']},\n",
       " {'action': 'Rcvd. from S., held on H. desk.',\n",
       "  'actor': 'upper',\n",
       "  'date': '2017-02-27 00:00:00',\n",
       "  'related_entities': [],\n",
       "  'type': []},\n",
       " {'action': 'Rec. for pass; ref to Calendar & Rules Committee',\n",
       "  'actor': 'lower',\n",
       "  'date': '2017-03-01 00:00:00',\n",
       "  'related_entities': [],\n",
       "  'type': ['committee:passed:favorable']},\n",
       " {'action': 'Placed on cal. Calendar & Rules Committee for 3/16/2017',\n",
       "  'actor': 'lower',\n",
       "  'date': '2017-03-15 00:00:00',\n",
       "  'related_entities': [],\n",
       "  'type': []},\n",
       " {'action': 'H. Placed on Consent Calendar for 3/20/2017',\n",
       "  'actor': 'lower',\n",
       "  'date': '2017-03-16 00:00:00',\n",
       "  'related_entities': [],\n",
       "  'type': []},\n",
       " {'action': 'Passed H., Ayes 95, Nays 0, PNV 0',\n",
       "  'actor': 'lower',\n",
       "  'date': '2017-03-20 00:00:00',\n",
       "  'related_entities': [],\n",
       "  'type': ['bill:passed']},\n",
       " {'action': 'Subst. for comp. HB.',\n",
       "  'actor': 'upper',\n",
       "  'date': '2017-03-20 00:00:00',\n",
       "  'related_entities': [],\n",
       "  'type': []},\n",
       " {'action': 'Comp. SB subst.',\n",
       "  'actor': 'lower',\n",
       "  'date': '2017-03-20 00:00:00',\n",
       "  'related_entities': [],\n",
       "  'type': []},\n",
       " {'action': 'Enrolled and ready for signatures',\n",
       "  'actor': 'upper',\n",
       "  'date': '2017-03-21 00:00:00',\n",
       "  'related_entities': [],\n",
       "  'type': []},\n",
       " {'action': 'Signed by H. Speaker',\n",
       "  'actor': 'lower',\n",
       "  'date': '2017-03-22 00:00:00',\n",
       "  'related_entities': [],\n",
       "  'type': []},\n",
       " {'action': 'Signed by Senate Speaker',\n",
       "  'actor': 'upper',\n",
       "  'date': '2017-03-22 00:00:00',\n",
       "  'related_entities': [],\n",
       "  'type': []},\n",
       " {'action': 'Transmitted to Governor for action.',\n",
       "  'actor': 'upper',\n",
       "  'date': '2017-03-23 00:00:00',\n",
       "  'related_entities': [],\n",
       "  'type': []},\n",
       " {'action': 'Signed by Governor.',\n",
       "  'actor': 'upper',\n",
       "  'date': '2017-03-31 00:00:00',\n",
       "  'related_entities': [],\n",
       "  'type': ['governor:signed']},\n",
       " {'action': 'Pub. Ch. 74',\n",
       "  'actor': 'upper',\n",
       "  'date': '2017-04-11 00:00:00',\n",
       "  'related_entities': [],\n",
       "  'type': []},\n",
       " {'action': 'Effective date(s) 03/3102017',\n",
       "  'actor': 'upper',\n",
       "  'date': '2017-04-11 00:00:00',\n",
       "  'related_entities': [],\n",
       "  'type': []},\n",
       " {'action': 'Comp. became Pub. Ch. 74',\n",
       "  'actor': 'lower',\n",
       "  'date': '2017-04-11 00:00:00',\n",
       "  'related_entities': [],\n",
       "  'type': []},\n",
       " {'action': 'Comp. became Pub. Ch. 74',\n",
       "  'actor': 'lower',\n",
       "  'date': '2018-08-08 00:00:00',\n",
       "  'related_entities': [],\n",
       "  'type': []}]"
      ]
     },
     "execution_count": 17,
     "metadata": {},
     "output_type": "execute_result"
    }
   ],
   "source": [
    "get_bill(state='tn', term=110, bill_id='SB 107').get('actions')"
   ]
  },
  {
   "cell_type": "markdown",
   "metadata": {
    "slideshow": {
     "slide_type": "slide"
    }
   },
   "source": [
    "Pull this information for all bills and turn into a DataFrame:"
   ]
  },
  {
   "cell_type": "code",
   "execution_count": null,
   "metadata": {
    "slideshow": {
     "slide_type": "-"
    }
   },
   "outputs": [],
   "source": [
    "actions = pd.DataFrame()\n",
    "\n",
    "for s, b in zip(bills['session'], bills['bill_id']):\n",
    "    actions = pd.concat(\n",
    "        [actions,\n",
    "         pd.DataFrame(get_bill(state='tn', term=s, bill_id=b).get('actions'))\n",
    "             .assign(session=s, bill_id=b)]\n",
    "    )"
   ]
  },
  {
   "cell_type": "code",
   "execution_count": 18,
   "metadata": {
    "slideshow": {
     "slide_type": "notes"
    }
   },
   "outputs": [],
   "source": [
    "actions = pd.read_csv('../data/actions.csv')\n",
    "\n",
    "actions.drop_duplicates(['action', 'actor', 'date', 'session', 'bill_id'], inplace=True)\n",
    "actions['action'].fillna('', inplace=True)\n",
    "\n",
    "intro = actions.query('action.str.contains(\"Filed for introduction|Filed for intro.\")', engine='python') \\\n",
    "    .loc[:, ['session', 'bill_id']] \\\n",
    "    .drop_duplicates() \\\n",
    "    .assign(introduced=1)\n",
    "\n",
    "first = actions.query('action.str.contains(\"Passed on First Consideration|P1C\")', engine='python') \\\n",
    "    .loc[:, ['session', 'bill_id']] \\\n",
    "    .drop_duplicates() \\\n",
    "    .assign(first=1)\n",
    "\n",
    "second = actions.query('action.str.contains(\"Passed on Second Consideration|P2C\")', engine='python') \\\n",
    "    .loc[:, ['session', 'bill_id']] \\\n",
    "    .drop_duplicates() \\\n",
    "    .assign(second=1)\n",
    "\n",
    "committee = actions.query('action.str.contains(\"H. Placed on Regular Calendar|H. Placed on Consent Calendar|Placed on Senate Consent Calendar|Placed on Senate Regular Calendar\")', engine='python') \\\n",
    "    .loc[:, ['session', 'bill_id']] \\\n",
    "    .drop_duplicates() \\\n",
    "    .assign(committee=1)\n",
    "\n",
    "chamber = actions.query('action.str.contains(\"Passed H.|Passed Senate|Passed S.\")', engine='python') \\\n",
    "    .loc[:, ['session', 'bill_id']] \\\n",
    "    .drop_duplicates() \\\n",
    "    .assign(chamber=1)\n",
    "\n",
    "signed = actions.query('action.str.contains(\"Signed by Governor\")', engine='python') \\\n",
    "    .loc[:, ['session', 'bill_id']] \\\n",
    "    .drop_duplicates() \\\n",
    "    .assign(signed=1)"
   ]
  },
  {
   "cell_type": "code",
   "execution_count": 19,
   "metadata": {
    "slideshow": {
     "slide_type": "slide"
    }
   },
   "outputs": [
    {
     "data": {
      "text/html": [
       "<div>\n",
       "<style scoped>\n",
       "    .dataframe tbody tr th:only-of-type {\n",
       "        vertical-align: middle;\n",
       "    }\n",
       "\n",
       "    .dataframe tbody tr th {\n",
       "        vertical-align: top;\n",
       "    }\n",
       "\n",
       "    .dataframe thead th {\n",
       "        text-align: right;\n",
       "    }\n",
       "</style>\n",
       "<table border=\"1\" class=\"dataframe\">\n",
       "  <thead>\n",
       "    <tr style=\"text-align: right;\">\n",
       "      <th></th>\n",
       "      <th>action</th>\n",
       "      <th>actor</th>\n",
       "      <th>session</th>\n",
       "      <th>bill_id</th>\n",
       "      <th>type</th>\n",
       "      <th>ayes</th>\n",
       "      <th>nays</th>\n",
       "    </tr>\n",
       "  </thead>\n",
       "  <tbody>\n",
       "    <tr>\n",
       "      <th>0</th>\n",
       "      <td>Filed for introduction</td>\n",
       "      <td>upper</td>\n",
       "      <td>110</td>\n",
       "      <td>SB 107</td>\n",
       "      <td>bill:reading:1; bill:introduced</td>\n",
       "      <td>NaN</td>\n",
       "      <td>NaN</td>\n",
       "    </tr>\n",
       "    <tr>\n",
       "      <th>1</th>\n",
       "      <td>Introduced, Passed on First Consideration</td>\n",
       "      <td>upper</td>\n",
       "      <td>110</td>\n",
       "      <td>SB 107</td>\n",
       "      <td>bill:introduced</td>\n",
       "      <td>NaN</td>\n",
       "      <td>NaN</td>\n",
       "    </tr>\n",
       "    <tr>\n",
       "      <th>2</th>\n",
       "      <td>Filed for intro.</td>\n",
       "      <td>lower</td>\n",
       "      <td>110</td>\n",
       "      <td>SB 107</td>\n",
       "      <td>bill:reading:1; bill:introduced</td>\n",
       "      <td>NaN</td>\n",
       "      <td>NaN</td>\n",
       "    </tr>\n",
       "    <tr>\n",
       "      <th>3</th>\n",
       "      <td>Passed on Second Consideration, refer to Senat...</td>\n",
       "      <td>upper</td>\n",
       "      <td>110</td>\n",
       "      <td>SB 107</td>\n",
       "      <td>other</td>\n",
       "      <td>NaN</td>\n",
       "      <td>NaN</td>\n",
       "    </tr>\n",
       "    <tr>\n",
       "      <th>4</th>\n",
       "      <td>Intro., P1C.</td>\n",
       "      <td>lower</td>\n",
       "      <td>110</td>\n",
       "      <td>SB 107</td>\n",
       "      <td>bill:introduced</td>\n",
       "      <td>NaN</td>\n",
       "      <td>NaN</td>\n",
       "    </tr>\n",
       "    <tr>\n",
       "      <th>5</th>\n",
       "      <td>P2C, ref. to Government Operations Committee</td>\n",
       "      <td>lower</td>\n",
       "      <td>110</td>\n",
       "      <td>SB 107</td>\n",
       "      <td>committee:referred</td>\n",
       "      <td>NaN</td>\n",
       "      <td>NaN</td>\n",
       "    </tr>\n",
       "    <tr>\n",
       "      <th>6</th>\n",
       "      <td>Placed on Senate Government Operations Committ...</td>\n",
       "      <td>upper</td>\n",
       "      <td>110</td>\n",
       "      <td>SB 107</td>\n",
       "      <td>other</td>\n",
       "      <td>NaN</td>\n",
       "      <td>NaN</td>\n",
       "    </tr>\n",
       "    <tr>\n",
       "      <th>7</th>\n",
       "      <td>Recommended for passage, refer to Senate Calen...</td>\n",
       "      <td>upper</td>\n",
       "      <td>110</td>\n",
       "      <td>SB 107</td>\n",
       "      <td>other</td>\n",
       "      <td>NaN</td>\n",
       "      <td>NaN</td>\n",
       "    </tr>\n",
       "    <tr>\n",
       "      <th>8</th>\n",
       "      <td>Placed on Senate Consent Calendar 2 calendar f...</td>\n",
       "      <td>upper</td>\n",
       "      <td>110</td>\n",
       "      <td>SB 107</td>\n",
       "      <td>other</td>\n",
       "      <td>NaN</td>\n",
       "      <td>NaN</td>\n",
       "    </tr>\n",
       "    <tr>\n",
       "      <th>9</th>\n",
       "      <td>Placed on cal. Government Operations Committee...</td>\n",
       "      <td>lower</td>\n",
       "      <td>110</td>\n",
       "      <td>SB 107</td>\n",
       "      <td>other</td>\n",
       "      <td>NaN</td>\n",
       "      <td>NaN</td>\n",
       "    </tr>\n",
       "  </tbody>\n",
       "</table>\n",
       "</div>"
      ],
      "text/plain": [
       "                                              action  actor  session bill_id  \\\n",
       "0                             Filed for introduction  upper      110  SB 107   \n",
       "1          Introduced, Passed on First Consideration  upper      110  SB 107   \n",
       "2                                   Filed for intro.  lower      110  SB 107   \n",
       "3  Passed on Second Consideration, refer to Senat...  upper      110  SB 107   \n",
       "4                                       Intro., P1C.  lower      110  SB 107   \n",
       "5       P2C, ref. to Government Operations Committee  lower      110  SB 107   \n",
       "6  Placed on Senate Government Operations Committ...  upper      110  SB 107   \n",
       "7  Recommended for passage, refer to Senate Calen...  upper      110  SB 107   \n",
       "8  Placed on Senate Consent Calendar 2 calendar f...  upper      110  SB 107   \n",
       "9  Placed on cal. Government Operations Committee...  lower      110  SB 107   \n",
       "\n",
       "                              type  ayes  nays  \n",
       "0  bill:reading:1; bill:introduced   NaN   NaN  \n",
       "1                  bill:introduced   NaN   NaN  \n",
       "2  bill:reading:1; bill:introduced   NaN   NaN  \n",
       "3                            other   NaN   NaN  \n",
       "4                  bill:introduced   NaN   NaN  \n",
       "5               committee:referred   NaN   NaN  \n",
       "6                            other   NaN   NaN  \n",
       "7                            other   NaN   NaN  \n",
       "8                            other   NaN   NaN  \n",
       "9                            other   NaN   NaN  "
      ]
     },
     "execution_count": 19,
     "metadata": {},
     "output_type": "execute_result"
    }
   ],
   "source": [
    "actions.head(10)"
   ]
  },
  {
   "cell_type": "markdown",
   "metadata": {
    "slideshow": {
     "slide_type": "slide"
    }
   },
   "source": [
    "Identify the relevant major steps:"
   ]
  },
  {
   "cell_type": "code",
   "execution_count": null,
   "metadata": {
    "slideshow": {
     "slide_type": "-"
    }
   },
   "outputs": [],
   "source": [
    "intro = actions.query('action.str.contains(\"Filed for introduction|\\\n",
    "                                            Filed for intro.\")',\n",
    "            engine='python') \\\n",
    "    .assign(introduced=1)\n",
    "\n",
    "first = actions.query('action.str.contains(\"Passed on First Consideration|\\\n",
    "                                            P1C\")',\n",
    "            engine='python') \\\n",
    "    .assign(first=1)\n",
    "\n",
    "second = actions.query('action.str.contains(\"Passed on Second Consideration|\\\n",
    "                                             P2C\")',\n",
    "            engine='python') \\\n",
    "    .assign(second=1)\n",
    "\n",
    "committee = actions.query('action.str.contains(\"H. Placed on Regular Calendar|\\\n",
    "                                                H. Placed on Consent Calendar|\\\n",
    "                                                Placed on Senate Consent Calendar|\\\n",
    "                                                Placed on Senate Regular Calendar\")',\n",
    "            engine='python') \\\n",
    "    .assign(committee=1)\n",
    "\n",
    "chamber = actions.query('action.str.contains(\"Passed H.|Passed Senate|Passed S.\")',\n",
    "            engine='python') \\\n",
    "    .assign(chamber=1)\n",
    "\n",
    "signed = actions.query('action.str.contains(\"Signed by Governor\")',\n",
    "            engine='python') \\\n",
    "    .assign(signed=1)"
   ]
  },
  {
   "cell_type": "markdown",
   "metadata": {
    "slideshow": {
     "slide_type": "slide"
    }
   },
   "source": [
    "How many bills make it past each step?"
   ]
  },
  {
   "cell_type": "code",
   "execution_count": 20,
   "metadata": {
    "scrolled": true,
    "slideshow": {
     "slide_type": "-"
    }
   },
   "outputs": [
    {
     "data": {
      "text/plain": [
       "<matplotlib.axes._subplots.AxesSubplot at 0x1a0b782160>"
      ]
     },
     "execution_count": 20,
     "metadata": {},
     "output_type": "execute_result"
    },
    {
     "data": {
      "image/png": "[encoded data removed]",
      "text/plain": [
       "<matplotlib.figure.Figure at 0x1a0b78b5c0>"
      ]
     },
     "metadata": {},
     "output_type": "display_data"
    }
   ],
   "source": [
    "bills = bills \\\n",
    "    .merge(intro, how='left', on=['session', 'bill_id'], validate='1:1') \\\n",
    "    .merge(first, how='left', on=['session', 'bill_id'], validate='1:1') \\\n",
    "    .merge(second, how='left', on=['session', 'bill_id'], validate='1:1') \\\n",
    "    .merge(committee, how='left', on=['session', 'bill_id'], validate='1:1') \\\n",
    "    .merge(chamber, how='left', on=['session', 'bill_id'], validate='1:1') \\\n",
    "    .merge(signed, how='left', on=['session', 'bill_id'], validate='1:1') \\\n",
    "    \n",
    "bills[['introduced', 'first', 'second', 'committee', 'chamber', 'signed']].agg(sum) \\\n",
    "    .plot(xticks=range(7), ylim=(0, 21000))"
   ]
  },
  {
   "cell_type": "markdown",
   "metadata": {
    "slideshow": {
     "slide_type": "slide"
    }
   },
   "source": [
    "The big gatekeeper is getting past committees; most bills don't get past committee, but once they do, they stand a good chance of passing.\n",
    "\n",
    "What do vote margins (yes votes - no votes) look like once bills get past committee?"
   ]
  },
  {
   "cell_type": "code",
   "execution_count": 21,
   "metadata": {
    "slideshow": {
     "slide_type": "fragment"
    }
   },
   "outputs": [
    {
     "data": {
      "image/png": "[encoded data removed]",
      "text/plain": [
       "<matplotlib.figure.Figure at 0x1a0b4410f0>"
      ]
     },
     "metadata": {},
     "output_type": "display_data"
    }
   ],
   "source": [
    "margin = actions.query('action.str.contains(\"Failed to pass H.|Failed to pass Senate|Passed H.|Passed Senate|Passed S.\")', engine='python') \\\n",
    "    .assign(margin = actions['ayes'] - actions['nays']) \\\n",
    "    .loc[:, ['session', 'bill_id', 'actor', 'margin']]\n",
    "\n",
    "g = sns.FacetGrid(margin, col=\"actor\", sharex=False)\n",
    "g = g.map(plt.hist, \"margin\", bins=20)"
   ]
  },
  {
   "cell_type": "markdown",
   "metadata": {
    "slideshow": {
     "slide_type": "slide"
    }
   },
   "source": [
    "Once past committee, many bills are uncontroversial (pass by an all-0 vote). I'll also tag uncontroversial bills so I can deprioritize these."
   ]
  },
  {
   "cell_type": "code",
   "execution_count": null,
   "metadata": {
    "slideshow": {
     "slide_type": "-"
    }
   },
   "outputs": [],
   "source": [
    "actions['uncontroversial'] = pd.Series(actions['nays'] <= 1).astype(int)\n",
    "\n",
    "uncontroversial = actions \\\n",
    "    .query('action.str.contains(\"Failed to pass H.|Failed to pass Senate|\\\n",
    "                                 Passed H.|\\\n",
    "                                 Passed Senate|Passed S.\")',\n",
    "        engine='python')\n",
    "\n",
    "bills = bills.merge(uncontroversial, how='left', on=['session', 'bill_id'], validate='1:1')"
   ]
  },
  {
   "cell_type": "code",
   "execution_count": 22,
   "metadata": {
    "slideshow": {
     "slide_type": "notes"
    }
   },
   "outputs": [],
   "source": [
    "actions['uncontroversial'] = pd.Series(actions['nays'] <= 1).astype(int)\n",
    "\n",
    "uncontroversial = actions \\\n",
    "    .query('action.str.contains(\"Failed to pass H.|Failed to pass Senate|Passed H.|Passed Senate|Passed S.\")', engine='python') \\\n",
    "    .query('actor == \"upper\" & bill_id.str.contains(\"SB\") | actor == \"lower\" & bill_id.str.contains(\"HB\")', engine='python') \\\n",
    "    .groupby(['session', 'bill_id']) \\\n",
    "    .agg({'uncontroversial': 'min'}) \\\n",
    "    .reset_index(drop=False)\n",
    "\n",
    "bills = bills.merge(uncontroversial, how='left', on=['session', 'bill_id'], validate='1:1')\n",
    "\n",
    "bills['uncontroversial'].fillna(0, inplace=True)"
   ]
  },
  {
   "cell_type": "markdown",
   "metadata": {
    "slideshow": {
     "slide_type": "slide"
    }
   },
   "source": [
    "# This Project\n",
    "\n",
    "**What (state) legislation should I pay attention to?**\n",
    "\n",
    "This might include legislation that:\n",
    "- pertains to local issues in the city/town/county where I live\n",
    "- pertains to issues I care about\n",
    "- is introduced by my Representative/Senator\n",
    "\n",
    "and might not include legislation that:\n",
    "\n",
    "- is uncontroversial (e.g., probably going to pass unanimously)\n",
    "- has no chance of passing (e.g.: not even going to a vote)"
   ]
  },
  {
   "cell_type": "markdown",
   "metadata": {
    "slideshow": {
     "slide_type": "slide"
    }
   },
   "source": [
    "![](images/venn1.png)"
   ]
  },
  {
   "cell_type": "markdown",
   "metadata": {
    "slideshow": {
     "slide_type": "slide"
    }
   },
   "source": [
    "![](images/venn2.png)"
   ]
  },
  {
   "cell_type": "markdown",
   "metadata": {
    "slideshow": {
     "slide_type": "slide"
    }
   },
   "source": [
    "Of course, we can identify how bills fare retrospectively."
   ]
  },
  {
   "cell_type": "markdown",
   "metadata": {
    "slideshow": {
     "slide_type": "fragment"
    }
   },
   "source": [
    "It would be helpful to know (or make an informed guess at) whether bills will go to a vote and/or be uncontroversial as they are introduced so that one might be able to influence legislation by calling legislators, etc."
   ]
  },
  {
   "cell_type": "markdown",
   "metadata": {
    "slideshow": {
     "slide_type": "fragment"
    }
   },
   "source": [
    "I use **machine learning** to predict these outcomes."
   ]
  },
  {
   "cell_type": "markdown",
   "metadata": {
    "slideshow": {
     "slide_type": "slide"
    }
   },
   "source": [
    "## The Idea:\n",
    "\n",
    "We know which bills have gone to a vote/been uncontroversial in the past.\n",
    "\n",
    "The idea is to use any information (sponsors, topics, **text**) about what bills have gone to a vote/been uncontroversial in the past to predict which bills will go to a vote/be uncontroversial in the future."
   ]
  },
  {
   "cell_type": "markdown",
   "metadata": {
    "slideshow": {
     "slide_type": "slide"
    }
   },
   "source": [
    "## Future bills?\n",
    "\n",
    "To mimic prediction, I build models using the 107-109th sessions and treat bills from the 110th as 'future bills'."
   ]
  },
  {
   "cell_type": "code",
   "execution_count": 23,
   "metadata": {
    "scrolled": true,
    "slideshow": {
     "slide_type": "-"
    }
   },
   "outputs": [
    {
     "data": {
      "text/plain": [
       "110    5485\n",
       "109    5357\n",
       "108    5204\n",
       "107    4043\n",
       "Name: session, dtype: int64"
      ]
     },
     "execution_count": 23,
     "metadata": {},
     "output_type": "execute_result"
    }
   ],
   "source": [
    "bills['session'].value_counts()"
   ]
  },
  {
   "cell_type": "markdown",
   "metadata": {
    "slideshow": {
     "slide_type": "slide"
    }
   },
   "source": [
    "I can then evaluate my predictions by checking against what really happened:"
   ]
  },
  {
   "cell_type": "markdown",
   "metadata": {
    "slideshow": {
     "slide_type": "-"
    }
   },
   "source": [
    "| Session  |  ID   |    Prediction   |  Outcome |\n",
    "|----------|-------|-----------------|----------|\n",
    "|    110   | HB 10 |    Pass   |     Pass     |\n",
    "|    110   | HB 11 |    Pass   |    Not Pass  |\n",
    "|    110   | HB 12 | Not Pass  |    Not Pass  |\n",
    "|    110   | HB 13 |    Pass   |     Pass     |\n",
    "|    110   | HB 14 |    Pass   |    Not Pass  |\n",
    "|    110   |   .   | . | . |\n",
    "|    110   |   .   | . | . |\n",
    "|    110   |   .   | . | . |"
   ]
  },
  {
   "cell_type": "markdown",
   "metadata": {
    "slideshow": {
     "slide_type": "slide"
    }
   },
   "source": [
    "## Problem\n",
    "\n",
    "Machine learning algorithms expect numeric inputs, and I have text."
   ]
  },
  {
   "cell_type": "markdown",
   "metadata": {
    "slideshow": {
     "slide_type": "fragment"
    }
   },
   "source": [
    "## Solution\n",
    "\n",
    "Use Natural Language Processing to create a numeric representation of text!"
   ]
  },
  {
   "cell_type": "markdown",
   "metadata": {
    "slideshow": {
     "slide_type": "slide"
    }
   },
   "source": [
    "## Natural Language Processing\n",
    "\n",
    "From [Wikipedia](https://en.wikipedia.org/wiki/Natural-language_processing):\n",
    "\n",
    "[A] field of computer science, artificial intelligence concerned with the interactions between computers and human (natural) languages, and, in particular, concerned with **programming computers to fruitfully process large natural language data**."
   ]
  },
  {
   "cell_type": "markdown",
   "metadata": {
    "slideshow": {
     "slide_type": "fragment"
    }
   },
   "source": [
    "i.e.: creating numeric representations of text and doing statistics, data visualization, modeling."
   ]
  },
  {
   "cell_type": "markdown",
   "metadata": {
    "slideshow": {
     "slide_type": "slide"
    }
   },
   "source": [
    "## A Sample Title\n",
    "\n",
    "Students - As enacted, requires a student, during the student's high school career, to take a United States civics test."
   ]
  },
  {
   "cell_type": "markdown",
   "metadata": {
    "slideshow": {
     "slide_type": "slide"
    }
   },
   "source": [
    "## Preprocessing Text\n",
    "\n",
    "I do some preprocessing by running my text through the [spaCy](https://spacy.io/) [annotator](https://demos.explosion.ai/displacy/), which identifies:\n",
    "\n",
    "- (Word) Tokens\n",
    "- Parts of speech (nouns, verbs, adjectives, etc.)\n",
    "- Named entities (United States)\n",
    "- Lemmas (taught, teaching, teaches -> teach; teachers -> teacher)"
   ]
  },
  {
   "cell_type": "markdown",
   "metadata": {
    "slideshow": {
     "slide_type": "slide"
    }
   },
   "source": [
    "![](images/annotation.png)"
   ]
  },
  {
   "cell_type": "markdown",
   "metadata": {
    "slideshow": {
     "slide_type": "slide"
    }
   },
   "source": [
    "Annotating a sample piece of text with spaCy:"
   ]
  },
  {
   "cell_type": "code",
   "execution_count": 24,
   "metadata": {
    "slideshow": {
     "slide_type": "-"
    }
   },
   "outputs": [],
   "source": [
    "import spacy\n",
    "\n",
    "nlp = spacy.load('en')\n",
    "\n",
    "doc = nlp(\"As enacted, requires a student, during the student's high school career, to take a United States civics test.\")\n",
    "\n",
    "annotation_sample = pd.DataFrame({\n",
    "    'text': [n.text for n in doc],\n",
    "    'lemma': [n.lemma_ for n in doc],\n",
    "    'pos': [n.pos_ for n in doc]\n",
    "})"
   ]
  },
  {
   "cell_type": "code",
   "execution_count": 25,
   "metadata": {
    "slideshow": {
     "slide_type": "slide"
    }
   },
   "outputs": [
    {
     "data": {
      "text/html": [
       "<div>\n",
       "<style scoped>\n",
       "    .dataframe tbody tr th:only-of-type {\n",
       "        vertical-align: middle;\n",
       "    }\n",
       "\n",
       "    .dataframe tbody tr th {\n",
       "        vertical-align: top;\n",
       "    }\n",
       "\n",
       "    .dataframe thead th {\n",
       "        text-align: right;\n",
       "    }\n",
       "</style>\n",
       "<table border=\"1\" class=\"dataframe\">\n",
       "  <thead>\n",
       "    <tr style=\"text-align: right;\">\n",
       "      <th></th>\n",
       "      <th>lemma</th>\n",
       "      <th>pos</th>\n",
       "      <th>text</th>\n",
       "    </tr>\n",
       "  </thead>\n",
       "  <tbody>\n",
       "    <tr>\n",
       "      <th>0</th>\n",
       "      <td>as</td>\n",
       "      <td>ADP</td>\n",
       "      <td>As</td>\n",
       "    </tr>\n",
       "    <tr>\n",
       "      <th>1</th>\n",
       "      <td>enact</td>\n",
       "      <td>VERB</td>\n",
       "      <td>enacted</td>\n",
       "    </tr>\n",
       "    <tr>\n",
       "      <th>3</th>\n",
       "      <td>require</td>\n",
       "      <td>VERB</td>\n",
       "      <td>requires</td>\n",
       "    </tr>\n",
       "    <tr>\n",
       "      <th>4</th>\n",
       "      <td>a</td>\n",
       "      <td>DET</td>\n",
       "      <td>a</td>\n",
       "    </tr>\n",
       "    <tr>\n",
       "      <th>5</th>\n",
       "      <td>student</td>\n",
       "      <td>NOUN</td>\n",
       "      <td>student</td>\n",
       "    </tr>\n",
       "    <tr>\n",
       "      <th>7</th>\n",
       "      <td>during</td>\n",
       "      <td>ADP</td>\n",
       "      <td>during</td>\n",
       "    </tr>\n",
       "    <tr>\n",
       "      <th>8</th>\n",
       "      <td>the</td>\n",
       "      <td>DET</td>\n",
       "      <td>the</td>\n",
       "    </tr>\n",
       "    <tr>\n",
       "      <th>9</th>\n",
       "      <td>student</td>\n",
       "      <td>NOUN</td>\n",
       "      <td>student</td>\n",
       "    </tr>\n",
       "    <tr>\n",
       "      <th>10</th>\n",
       "      <td>'s</td>\n",
       "      <td>PART</td>\n",
       "      <td>'s</td>\n",
       "    </tr>\n",
       "    <tr>\n",
       "      <th>11</th>\n",
       "      <td>high</td>\n",
       "      <td>ADJ</td>\n",
       "      <td>high</td>\n",
       "    </tr>\n",
       "    <tr>\n",
       "      <th>12</th>\n",
       "      <td>school</td>\n",
       "      <td>NOUN</td>\n",
       "      <td>school</td>\n",
       "    </tr>\n",
       "    <tr>\n",
       "      <th>13</th>\n",
       "      <td>career</td>\n",
       "      <td>NOUN</td>\n",
       "      <td>career</td>\n",
       "    </tr>\n",
       "    <tr>\n",
       "      <th>15</th>\n",
       "      <td>to</td>\n",
       "      <td>PART</td>\n",
       "      <td>to</td>\n",
       "    </tr>\n",
       "    <tr>\n",
       "      <th>16</th>\n",
       "      <td>take</td>\n",
       "      <td>VERB</td>\n",
       "      <td>take</td>\n",
       "    </tr>\n",
       "    <tr>\n",
       "      <th>17</th>\n",
       "      <td>a</td>\n",
       "      <td>DET</td>\n",
       "      <td>a</td>\n",
       "    </tr>\n",
       "    <tr>\n",
       "      <th>18</th>\n",
       "      <td>united</td>\n",
       "      <td>PROPN</td>\n",
       "      <td>United</td>\n",
       "    </tr>\n",
       "    <tr>\n",
       "      <th>19</th>\n",
       "      <td>states</td>\n",
       "      <td>PROPN</td>\n",
       "      <td>States</td>\n",
       "    </tr>\n",
       "    <tr>\n",
       "      <th>20</th>\n",
       "      <td>civic</td>\n",
       "      <td>NOUN</td>\n",
       "      <td>civics</td>\n",
       "    </tr>\n",
       "    <tr>\n",
       "      <th>21</th>\n",
       "      <td>test</td>\n",
       "      <td>VERB</td>\n",
       "      <td>test</td>\n",
       "    </tr>\n",
       "  </tbody>\n",
       "</table>\n",
       "</div>"
      ],
      "text/plain": [
       "      lemma    pos      text\n",
       "0        as    ADP        As\n",
       "1     enact   VERB   enacted\n",
       "3   require   VERB  requires\n",
       "4         a    DET         a\n",
       "5   student   NOUN   student\n",
       "7    during    ADP    during\n",
       "8       the    DET       the\n",
       "9   student   NOUN   student\n",
       "10       's   PART        's\n",
       "11     high    ADJ      high\n",
       "12   school   NOUN    school\n",
       "13   career   NOUN    career\n",
       "15       to   PART        to\n",
       "16     take   VERB      take\n",
       "17        a    DET         a\n",
       "18   united  PROPN    United\n",
       "19   states  PROPN    States\n",
       "20    civic   NOUN    civics\n",
       "21     test   VERB      test"
      ]
     },
     "execution_count": 25,
     "metadata": {},
     "output_type": "execute_result"
    }
   ],
   "source": [
    "annotation_sample[annotation_sample['pos'] != 'PUNCT']"
   ]
  },
  {
   "cell_type": "markdown",
   "metadata": {
    "slideshow": {
     "slide_type": "slide"
    }
   },
   "source": [
    "Annotating text at scale with spaCy:"
   ]
  },
  {
   "cell_type": "code",
   "execution_count": 26,
   "metadata": {
    "slideshow": {
     "slide_type": "-"
    }
   },
   "outputs": [],
   "source": [
    "import spacy\n",
    "\n",
    "# Use spaCy annotator and convert to data frame with one token per row\n",
    "nlp = spacy.load('en')\n",
    "\n",
    "token = []\n",
    "lemma = []\n",
    "pos = []\n",
    "\n",
    "for doc in nlp.pipe(bills['title'], batch_size = 50):\n",
    "    token.append([n.text for n in doc])\n",
    "    lemma.append([n.lemma_ for n in doc])\n",
    "    pos.append([n.pos_ for n in doc])\n",
    "    \n",
    "annotation_df = pd.DataFrame({\n",
    "    'token': pd.Series(token).apply(pd.Series).stack(),\n",
    "    'lemma': pd.Series(lemma).apply(pd.Series).stack(),\n",
    "    'pos': pd.Series(pos).apply(pd.Series).stack(),\n",
    "})"
   ]
  },
  {
   "cell_type": "code",
   "execution_count": 27,
   "metadata": {
    "slideshow": {
     "slide_type": "slide"
    }
   },
   "outputs": [
    {
     "data": {
      "text/html": [
       "<div>\n",
       "<style scoped>\n",
       "    .dataframe tbody tr th:only-of-type {\n",
       "        vertical-align: middle;\n",
       "    }\n",
       "\n",
       "    .dataframe tbody tr th {\n",
       "        vertical-align: top;\n",
       "    }\n",
       "\n",
       "    .dataframe thead th {\n",
       "        text-align: right;\n",
       "    }\n",
       "</style>\n",
       "<table border=\"1\" class=\"dataframe\">\n",
       "  <thead>\n",
       "    <tr style=\"text-align: right;\">\n",
       "      <th></th>\n",
       "      <th></th>\n",
       "      <th>lemma</th>\n",
       "      <th>pos</th>\n",
       "      <th>token</th>\n",
       "    </tr>\n",
       "  </thead>\n",
       "  <tbody>\n",
       "    <tr>\n",
       "      <th rowspan=\"20\" valign=\"top\">0</th>\n",
       "      <th>0</th>\n",
       "      <td>sunset</td>\n",
       "      <td>PROPN</td>\n",
       "      <td>Sunset</td>\n",
       "    </tr>\n",
       "    <tr>\n",
       "      <th>1</th>\n",
       "      <td>laws</td>\n",
       "      <td>PROPN</td>\n",
       "      <td>Laws</td>\n",
       "    </tr>\n",
       "    <tr>\n",
       "      <th>2</th>\n",
       "      <td>-</td>\n",
       "      <td>PUNCT</td>\n",
       "      <td>-</td>\n",
       "    </tr>\n",
       "    <tr>\n",
       "      <th>3</th>\n",
       "      <td>as</td>\n",
       "      <td>ADP</td>\n",
       "      <td>As</td>\n",
       "    </tr>\n",
       "    <tr>\n",
       "      <th>4</th>\n",
       "      <td>enact</td>\n",
       "      <td>VERB</td>\n",
       "      <td>enacted</td>\n",
       "    </tr>\n",
       "    <tr>\n",
       "      <th>5</th>\n",
       "      <td>,</td>\n",
       "      <td>PUNCT</td>\n",
       "      <td>,</td>\n",
       "    </tr>\n",
       "    <tr>\n",
       "      <th>6</th>\n",
       "      <td>extend</td>\n",
       "      <td>VERB</td>\n",
       "      <td>extends</td>\n",
       "    </tr>\n",
       "    <tr>\n",
       "      <th>7</th>\n",
       "      <td>the</td>\n",
       "      <td>DET</td>\n",
       "      <td>the</td>\n",
       "    </tr>\n",
       "    <tr>\n",
       "      <th>8</th>\n",
       "      <td>tennessee</td>\n",
       "      <td>PROPN</td>\n",
       "      <td>Tennessee</td>\n",
       "    </tr>\n",
       "    <tr>\n",
       "      <th>9</th>\n",
       "      <td>life</td>\n",
       "      <td>NOUN</td>\n",
       "      <td>life</td>\n",
       "    </tr>\n",
       "    <tr>\n",
       "      <th>10</th>\n",
       "      <td>and</td>\n",
       "      <td>CCONJ</td>\n",
       "      <td>and</td>\n",
       "    </tr>\n",
       "    <tr>\n",
       "      <th>11</th>\n",
       "      <td>health</td>\n",
       "      <td>NOUN</td>\n",
       "      <td>health</td>\n",
       "    </tr>\n",
       "    <tr>\n",
       "      <th>12</th>\n",
       "      <td>insurance</td>\n",
       "      <td>NOUN</td>\n",
       "      <td>insurance</td>\n",
       "    </tr>\n",
       "    <tr>\n",
       "      <th>13</th>\n",
       "      <td>guaranty</td>\n",
       "      <td>NOUN</td>\n",
       "      <td>guaranty</td>\n",
       "    </tr>\n",
       "    <tr>\n",
       "      <th>14</th>\n",
       "      <td>association</td>\n",
       "      <td>NOUN</td>\n",
       "      <td>association</td>\n",
       "    </tr>\n",
       "    <tr>\n",
       "      <th>15</th>\n",
       "      <td>five</td>\n",
       "      <td>NUM</td>\n",
       "      <td>five</td>\n",
       "    </tr>\n",
       "    <tr>\n",
       "      <th>16</th>\n",
       "      <td>year</td>\n",
       "      <td>NOUN</td>\n",
       "      <td>years</td>\n",
       "    </tr>\n",
       "    <tr>\n",
       "      <th>17</th>\n",
       "      <td>to</td>\n",
       "      <td>ADP</td>\n",
       "      <td>to</td>\n",
       "    </tr>\n",
       "    <tr>\n",
       "      <th>18</th>\n",
       "      <td>june</td>\n",
       "      <td>PROPN</td>\n",
       "      <td>June</td>\n",
       "    </tr>\n",
       "    <tr>\n",
       "      <th>19</th>\n",
       "      <td>30</td>\n",
       "      <td>NUM</td>\n",
       "      <td>30</td>\n",
       "    </tr>\n",
       "  </tbody>\n",
       "</table>\n",
       "</div>"
      ],
      "text/plain": [
       "            lemma    pos        token\n",
       "0 0        sunset  PROPN       Sunset\n",
       "  1          laws  PROPN         Laws\n",
       "  2             -  PUNCT            -\n",
       "  3            as    ADP           As\n",
       "  4         enact   VERB      enacted\n",
       "  5             ,  PUNCT            ,\n",
       "  6        extend   VERB      extends\n",
       "  7           the    DET          the\n",
       "  8     tennessee  PROPN    Tennessee\n",
       "  9          life   NOUN         life\n",
       "  10          and  CCONJ          and\n",
       "  11       health   NOUN       health\n",
       "  12    insurance   NOUN    insurance\n",
       "  13     guaranty   NOUN     guaranty\n",
       "  14  association   NOUN  association\n",
       "  15         five    NUM         five\n",
       "  16         year   NOUN        years\n",
       "  17           to    ADP           to\n",
       "  18         june  PROPN         June\n",
       "  19           30    NUM           30"
      ]
     },
     "execution_count": 27,
     "metadata": {},
     "output_type": "execute_result"
    }
   ],
   "source": [
    "annotation_df.head(20)"
   ]
  },
  {
   "cell_type": "markdown",
   "metadata": {
    "slideshow": {
     "slide_type": "slide"
    }
   },
   "source": [
    "For my application, I keep certain parts of speech, replace tokens with their lemmas, and drop stop words:"
   ]
  },
  {
   "cell_type": "code",
   "execution_count": 28,
   "metadata": {
    "slideshow": {
     "slide_type": "-"
    }
   },
   "outputs": [],
   "source": [
    "from nltk.corpus import stopwords\n",
    "\n",
    "# Drop and modify tokens depending of part of speech\n",
    "# https://spacy.io/api/annotation#pos-tagging\n",
    "annotation_df = annotation_df[annotation_df['pos'].isin(['NOUN', 'VERB', 'PROPN'])]\n",
    "\n",
    "# Drop anything with nonword characters\n",
    "annotation_df = annotation_df[~annotation_df['token'].str.contains(\"\\\\W|[0-9]\")]\n",
    "\n",
    "# Drop stopwords\n",
    "annotation_df = annotation_df[~annotation_df['token'].isin(stopwords.words('english'))]\n",
    "\n",
    "preprocess = pd.Series([annotation_df.loc[i]['lemma'].str.cat(sep=' ') for i in range(len(bills))])"
   ]
  },
  {
   "cell_type": "code",
   "execution_count": 29,
   "metadata": {
    "slideshow": {
     "slide_type": "fragment"
    }
   },
   "outputs": [
    {
     "data": {
      "text/plain": [
       "'sunset laws enact extend tennessee life health insurance guaranty association year june'"
      ]
     },
     "execution_count": 29,
     "metadata": {},
     "output_type": "execute_result"
    }
   ],
   "source": [
    "preprocess[0]"
   ]
  },
  {
   "cell_type": "markdown",
   "metadata": {
    "slideshow": {
     "slide_type": "slide"
    }
   },
   "source": [
    "## A Term Frequency Matrix\n",
    "\n",
    "One way to quantitatively represent text: create a matrix where each row represents one bill, and each column represents one token. Each value is the number of times a token appears in a bill:"
   ]
  },
  {
   "cell_type": "markdown",
   "metadata": {
    "slideshow": {
     "slide_type": "-"
    }
   },
   "source": [
    "| ID | abandon |...| require | student | high | school | career | take | United | States | civics | test |...| zoning |\n",
    "|------|---|---|---|---|---|---|---|---|---|---|---|---|---|---|\n",
    "| HB10 | 0 |...| 1 | 2 | 1 | 1 | 1 | 1 | 1 | 1 | 1 | 1 |...| 0 |\n",
    "| HB11 | 0 |...| 0 | 0 | 0 | 0 | 0 | 0 | 0 | 0 | 0 | 0 |...| 0 |\n",
    "| HB12 | 0 |...| 0 | 0 | 0 | 0 | 0 | 0 | 0 | 0 | 0 | 0 |...| 0 |\n",
    "|   .  | . |...| . | . | . | . | . | . | . | . | . | . |...| . |\n",
    "|   .  | . |...| . | . | . | . | . | . | . | . | . | . |...| . |\n",
    "|   .  | . |...| . | . | . | . | . | . | . | . | . | . |...| . |"
   ]
  },
  {
   "cell_type": "markdown",
   "metadata": {
    "slideshow": {
     "slide_type": "fragment"
    }
   },
   "source": [
    "This is a **bag of words** representation of a text document."
   ]
  },
  {
   "cell_type": "markdown",
   "metadata": {
    "slideshow": {
     "slide_type": "slide"
    }
   },
   "source": [
    "## A TF-IDF Matrix\n",
    "\n",
    "I'll take this one step further, by calculating **T**erm **F**requency-**I**nverse **D**ocument **F**requency. [TF-IDF](https://en.wikipedia.org/wiki/Tf%E2%80%93idf) indicates which tokens show up frequently in one document (TF) while downweighting tokens that show up frequently across all documents (IDF).\n",
    "\n",
    "For a corpus with N documents, the TF-IDF score for token *t* and document *d* is:\n",
    "\n",
    "$$TFIDF_{(t, d)} = \\#\\:of\\:times\\:t\\:appears\\:in\\:d\\:*\\: log \\frac{\\#\\:of\\:documents}{ \\#\\:of\\:documents\\:with\\:t}$$"
   ]
  },
  {
   "cell_type": "markdown",
   "metadata": {
    "slideshow": {
     "slide_type": "slide"
    }
   },
   "source": [
    "## A TF-IDF Matrix\n",
    "\n",
    "| ID | abandon |...| require | student | high | school | career | take | United | States | civics | test |...| zoning |\n",
    "|------|---|---|---|---|---|---|---|---|---|---|---|---|---|---|---|\n",
    "| HB10 | 0 |...|0.089|0.553|0.268|0.151|0.365|0.246|0.272|0.272|0.419|0.274|...| 0 |\n",
    "| HB11 | 0 |...| 0 | 0 | 0 | 0 | 0 | 0 | 0 | 0 | 0 | 0 |...| 0 |\n",
    "| HB12 | 0 |...| 0 | 0 | 0 | 0 | 0 | 0 | 0 | 0 | 0 | 0 |...| 0 |\n",
    "|   .  | . |...| . | . | . | . | . | . | . | . | . | . |...| . |\n",
    "|   .  | . |...| . | . | . | . | . | . | . | . | . | . |...| . |\n",
    "|   .  | . |...| . | . | . | . | . | . | . | . | . | . |...| . |"
   ]
  },
  {
   "cell_type": "markdown",
   "metadata": {
    "slideshow": {
     "slide_type": "fragment"
    }
   },
   "source": [
    "Think of this as ~ highlighting important terms in a document."
   ]
  },
  {
   "cell_type": "markdown",
   "metadata": {
    "slideshow": {
     "slide_type": "slide"
    }
   },
   "source": [
    "I can do this with `TfidfVectorizer`:"
   ]
  },
  {
   "cell_type": "code",
   "execution_count": 30,
   "metadata": {
    "slideshow": {
     "slide_type": "-"
    }
   },
   "outputs": [],
   "source": [
    "from sklearn.feature_extraction.text import TfidfVectorizer\n",
    "\n",
    "tf = TfidfVectorizer(min_df=10, ngram_range=(1, 3))\n",
    "\n",
    "X_tfidf = tf.fit_transform(preprocess)"
   ]
  },
  {
   "cell_type": "markdown",
   "metadata": {
    "slideshow": {
     "slide_type": "fragment"
    }
   },
   "source": [
    "A TF-IDF representation of text will be the input to my machine learning model."
   ]
  },
  {
   "cell_type": "markdown",
   "metadata": {
    "slideshow": {
     "slide_type": "slide"
    }
   },
   "source": [
    "Split my dataset into a **test set** consisting of the most recent session and a **training set** consisting of all prior sets."
   ]
  },
  {
   "cell_type": "code",
   "execution_count": 31,
   "metadata": {
    "slideshow": {
     "slide_type": "-"
    }
   },
   "outputs": [
    {
     "data": {
      "text/plain": [
       "110    5485\n",
       "109    5357\n",
       "108    5204\n",
       "107    4043\n",
       "Name: session, dtype: int64"
      ]
     },
     "execution_count": 31,
     "metadata": {},
     "output_type": "execute_result"
    }
   ],
   "source": [
    "bills['session'].value_counts()"
   ]
  },
  {
   "cell_type": "code",
   "execution_count": 32,
   "metadata": {
    "slideshow": {
     "slide_type": "-"
    }
   },
   "outputs": [],
   "source": [
    "train_count = sum(bills['session'] != 110)\n",
    "\n",
    "X_train = X_tfidf[:train_count].toarray()\n",
    "X_test = X_tfidf[train_count:].toarray()"
   ]
  },
  {
   "cell_type": "markdown",
   "metadata": {
    "slideshow": {
     "slide_type": "slide"
    }
   },
   "source": [
    "Likewise, split the outcomes into training and test components."
   ]
  },
  {
   "cell_type": "code",
   "execution_count": 33,
   "metadata": {
    "slideshow": {
     "slide_type": "-"
    }
   },
   "outputs": [],
   "source": [
    "Y_train_vote = bills['committee'][:train_count]\n",
    "Y_test_vote = bills['committee'][train_count:]\n",
    "\n",
    "Y_train_uncontroversial = bills['uncontroversial'][:train_count]\n",
    "Y_test_uncontroversial = bills['uncontroversial'][train_count:]"
   ]
  },
  {
   "cell_type": "markdown",
   "metadata": {
    "slideshow": {
     "slide_type": "slide"
    }
   },
   "source": [
    "## To recap\n",
    "\n",
    "I am trying to predict whether a bill will:\n",
    "\n",
    "1. pass committees/go to a vote  \n",
    "2. be uncontroversial\n",
    "\n",
    "based on the presence of certain words/phrases in the Title field."
   ]
  },
  {
   "cell_type": "markdown",
   "metadata": {
    "slideshow": {
     "slide_type": "slide"
    }
   },
   "source": [
    "## Why might this work?\n",
    "\n",
    "* The presence of certain words/phrases reliably predicts something about a bill's outcome."
   ]
  },
  {
   "cell_type": "markdown",
   "metadata": {
    "slideshow": {
     "slide_type": "fragment"
    }
   },
   "source": [
    "## Why might this not work?\n",
    "\n",
    "* Tendencies of bill outcomes change over time\n",
    "    * Turnover in legislators AND new legislators have different tendencies than previous legislators\n",
    "    * Legislators want to do the opposite of what they did previously\n",
    "    * Bills need 'momentum' in order to pass\n",
    "* New bills deal with different topics than old bills"
   ]
  },
  {
   "cell_type": "markdown",
   "metadata": {
    "slideshow": {
     "slide_type": "slide"
    }
   },
   "source": [
    "## In machine learning parlance\n",
    "\n",
    "- This is a **classification** problem (the outcome of interest is categorical: vote/no vote OR uncontroversial/not).\n",
    "- I use a **logistic regression** with **elastic net regularization**.\n",
    "- I use a **grid search** to iterate over values of the regularization paramenter and 5-fold **cross validation**."
   ]
  },
  {
   "cell_type": "markdown",
   "metadata": {
    "slideshow": {
     "slide_type": "fragment"
    }
   },
   "source": [
    "## In English\n",
    "\n",
    "I am asking the algorithm to identify a relationship between inputs (text) and outcomes **that generalizes as well as possible to new data**."
   ]
  },
  {
   "cell_type": "markdown",
   "metadata": {
    "slideshow": {
     "slide_type": "slide"
    }
   },
   "source": [
    "Building a model to predict whether a bill goes to a vote:"
   ]
  },
  {
   "cell_type": "code",
   "execution_count": 34,
   "metadata": {
    "slideshow": {
     "slide_type": "-"
    }
   },
   "outputs": [],
   "source": [
    "from sklearn.linear_model import SGDClassifier\n",
    "from sklearn.model_selection import GridSearchCV\n",
    "\n",
    "params = {\n",
    "    'alpha': 10.0 ** -np.arange(3, 7)\n",
    "}\n",
    "\n",
    "elastic_net = GridSearchCV(SGDClassifier(loss=\"log\", max_iter=250, l1_ratio=1), params, cv=5)\n",
    "\n",
    "elastic_net_vote = elastic_net.fit(X_train, Y_train_vote)"
   ]
  },
  {
   "cell_type": "markdown",
   "metadata": {
    "slideshow": {
     "slide_type": "slide"
    }
   },
   "source": [
    "## Evaluating classification predictions\n",
    "\n",
    "About 44 percent of bills pass all committees and make it to a vote. This means I could achieve ~56% accuracy just by predicting 'no vote' for every bill.\n",
    "\n",
    "I want my classification accuracy to be meaningfully above 56%."
   ]
  },
  {
   "cell_type": "code",
   "execution_count": 35,
   "metadata": {
    "scrolled": true,
    "slideshow": {
     "slide_type": "-"
    }
   },
   "outputs": [
    {
     "data": {
      "text/plain": [
       "0.0    11188\n",
       "1.0     8901\n",
       "Name: committee, dtype: int64"
      ]
     },
     "execution_count": 35,
     "metadata": {},
     "output_type": "execute_result"
    }
   ],
   "source": [
    "bills['committee'].value_counts()"
   ]
  },
  {
   "cell_type": "markdown",
   "metadata": {
    "slideshow": {
     "slide_type": "fragment"
    }
   },
   "source": [
    "Predict on the test set and check accuracy:"
   ]
  },
  {
   "cell_type": "code",
   "execution_count": 36,
   "metadata": {
    "slideshow": {
     "slide_type": "fragment"
    }
   },
   "outputs": [
    {
     "data": {
      "text/plain": [
       "0.9465815861440292"
      ]
     },
     "execution_count": 36,
     "metadata": {},
     "output_type": "execute_result"
    }
   ],
   "source": [
    "from sklearn.metrics import accuracy_score\n",
    "\n",
    "predict_vote = elastic_net_vote.predict(X_test).astype(int)\n",
    "\n",
    "accuracy_score(predict_vote, Y_test_vote)"
   ]
  },
  {
   "cell_type": "markdown",
   "metadata": {
    "slideshow": {
     "slide_type": "slide"
    }
   },
   "source": [
    "Repeat to predict uncontroversial bills:"
   ]
  },
  {
   "cell_type": "code",
   "execution_count": 37,
   "metadata": {
    "slideshow": {
     "slide_type": "-"
    }
   },
   "outputs": [
    {
     "data": {
      "text/plain": [
       "0.0    13245\n",
       "1.0     6844\n",
       "Name: uncontroversial, dtype: int64"
      ]
     },
     "execution_count": 37,
     "metadata": {},
     "output_type": "execute_result"
    }
   ],
   "source": [
    "bills['uncontroversial'].value_counts()"
   ]
  },
  {
   "cell_type": "code",
   "execution_count": 38,
   "metadata": {
    "slideshow": {
     "slide_type": "fragment"
    }
   },
   "outputs": [
    {
     "data": {
      "text/plain": [
       "0.9279854147675478"
      ]
     },
     "execution_count": 38,
     "metadata": {},
     "output_type": "execute_result"
    }
   ],
   "source": [
    "elastic_net_uncontroversial = elastic_net.fit(X_train, Y_train_uncontroversial)\n",
    "\n",
    "predict_uncontroversial = elastic_net_uncontroversial.predict(X_test).astype(int)\n",
    "\n",
    "accuracy_score(predict_uncontroversial, Y_test_uncontroversial)"
   ]
  },
  {
   "cell_type": "markdown",
   "metadata": {
    "slideshow": {
     "slide_type": "slide"
    }
   },
   "source": [
    "An answer to \"What legislation should I pay attention to?\" might look like the following:"
   ]
  },
  {
   "cell_type": "code",
   "execution_count": 53,
   "metadata": {
    "slideshow": {
     "slide_type": "-"
    }
   },
   "outputs": [
    {
     "data": {
      "text/html": [
       "<div>\n",
       "<style scoped>\n",
       "    .dataframe tbody tr th:only-of-type {\n",
       "        vertical-align: middle;\n",
       "    }\n",
       "\n",
       "    .dataframe tbody tr th {\n",
       "        vertical-align: top;\n",
       "    }\n",
       "\n",
       "    .dataframe thead th {\n",
       "        text-align: right;\n",
       "    }\n",
       "</style>\n",
       "<table border=\"1\" class=\"dataframe\">\n",
       "  <thead>\n",
       "    <tr style=\"text-align: right;\">\n",
       "      <th></th>\n",
       "      <th>title</th>\n",
       "      <th>my_legislators</th>\n",
       "      <th>my_city_county</th>\n",
       "      <th>my_subjects</th>\n",
       "      <th>predict_vote</th>\n",
       "      <th>predict_uncontroversial</th>\n",
       "      <th>counts</th>\n",
       "    </tr>\n",
       "  </thead>\n",
       "  <tbody>\n",
       "    <tr>\n",
       "      <th>3844</th>\n",
       "      <td>Education - As enacted, revises various provis...</td>\n",
       "      <td>0</td>\n",
       "      <td>0</td>\n",
       "      <td>1</td>\n",
       "      <td>1</td>\n",
       "      <td>0</td>\n",
       "      <td>2</td>\n",
       "    </tr>\n",
       "    <tr>\n",
       "      <th>143</th>\n",
       "      <td>Education - As enacted, creates the \"Homeless ...</td>\n",
       "      <td>1</td>\n",
       "      <td>0</td>\n",
       "      <td>1</td>\n",
       "      <td>0</td>\n",
       "      <td>0</td>\n",
       "      <td>2</td>\n",
       "    </tr>\n",
       "    <tr>\n",
       "      <th>3786</th>\n",
       "      <td>Education - As introduced, creates a tuition a...</td>\n",
       "      <td>0</td>\n",
       "      <td>0</td>\n",
       "      <td>1</td>\n",
       "      <td>1</td>\n",
       "      <td>0</td>\n",
       "      <td>2</td>\n",
       "    </tr>\n",
       "    <tr>\n",
       "      <th>584</th>\n",
       "      <td>Education - As introduced, requires a local bo...</td>\n",
       "      <td>0</td>\n",
       "      <td>0</td>\n",
       "      <td>1</td>\n",
       "      <td>1</td>\n",
       "      <td>0</td>\n",
       "      <td>2</td>\n",
       "    </tr>\n",
       "    <tr>\n",
       "      <th>1455</th>\n",
       "      <td>Education - As introduced, allows the governin...</td>\n",
       "      <td>0</td>\n",
       "      <td>0</td>\n",
       "      <td>1</td>\n",
       "      <td>1</td>\n",
       "      <td>0</td>\n",
       "      <td>2</td>\n",
       "    </tr>\n",
       "    <tr>\n",
       "      <th>1454</th>\n",
       "      <td>Education - As introduced, allows the governin...</td>\n",
       "      <td>1</td>\n",
       "      <td>0</td>\n",
       "      <td>1</td>\n",
       "      <td>1</td>\n",
       "      <td>1</td>\n",
       "      <td>2</td>\n",
       "    </tr>\n",
       "    <tr>\n",
       "      <th>3921</th>\n",
       "      <td>Alcoholic Beverages - As enacted, authorizes t...</td>\n",
       "      <td>0</td>\n",
       "      <td>1</td>\n",
       "      <td>0</td>\n",
       "      <td>1</td>\n",
       "      <td>0</td>\n",
       "      <td>2</td>\n",
       "    </tr>\n",
       "    <tr>\n",
       "      <th>586</th>\n",
       "      <td>Education - As introduced, requires driver edu...</td>\n",
       "      <td>1</td>\n",
       "      <td>0</td>\n",
       "      <td>1</td>\n",
       "      <td>0</td>\n",
       "      <td>0</td>\n",
       "      <td>2</td>\n",
       "    </tr>\n",
       "    <tr>\n",
       "      <th>3711</th>\n",
       "      <td>School Transportation - As introduced, authori...</td>\n",
       "      <td>0</td>\n",
       "      <td>0</td>\n",
       "      <td>1</td>\n",
       "      <td>1</td>\n",
       "      <td>0</td>\n",
       "      <td>2</td>\n",
       "    </tr>\n",
       "    <tr>\n",
       "      <th>5337</th>\n",
       "      <td>Education - As introduced, requires the Tennes...</td>\n",
       "      <td>1</td>\n",
       "      <td>0</td>\n",
       "      <td>1</td>\n",
       "      <td>0</td>\n",
       "      <td>0</td>\n",
       "      <td>2</td>\n",
       "    </tr>\n",
       "    <tr>\n",
       "      <th>2370</th>\n",
       "      <td>Local Education Agencies - As introduced, dele...</td>\n",
       "      <td>1</td>\n",
       "      <td>0</td>\n",
       "      <td>1</td>\n",
       "      <td>0</td>\n",
       "      <td>0</td>\n",
       "      <td>2</td>\n",
       "    </tr>\n",
       "    <tr>\n",
       "      <th>370</th>\n",
       "      <td>Teachers, Principals and School Personnel - As...</td>\n",
       "      <td>0</td>\n",
       "      <td>0</td>\n",
       "      <td>1</td>\n",
       "      <td>1</td>\n",
       "      <td>0</td>\n",
       "      <td>2</td>\n",
       "    </tr>\n",
       "    <tr>\n",
       "      <th>4549</th>\n",
       "      <td>Lottery, Scholarships and Programs - As introd...</td>\n",
       "      <td>0</td>\n",
       "      <td>0</td>\n",
       "      <td>1</td>\n",
       "      <td>1</td>\n",
       "      <td>0</td>\n",
       "      <td>2</td>\n",
       "    </tr>\n",
       "    <tr>\n",
       "      <th>1042</th>\n",
       "      <td>Local Education Agencies - As enacted, allows ...</td>\n",
       "      <td>0</td>\n",
       "      <td>1</td>\n",
       "      <td>1</td>\n",
       "      <td>0</td>\n",
       "      <td>0</td>\n",
       "      <td>2</td>\n",
       "    </tr>\n",
       "    <tr>\n",
       "      <th>1047</th>\n",
       "      <td>Local Education Agencies - As enacted, allows ...</td>\n",
       "      <td>0</td>\n",
       "      <td>1</td>\n",
       "      <td>1</td>\n",
       "      <td>0</td>\n",
       "      <td>0</td>\n",
       "      <td>2</td>\n",
       "    </tr>\n",
       "    <tr>\n",
       "      <th>3793</th>\n",
       "      <td>Education - As introduced, creates a tuition a...</td>\n",
       "      <td>0</td>\n",
       "      <td>0</td>\n",
       "      <td>1</td>\n",
       "      <td>1</td>\n",
       "      <td>0</td>\n",
       "      <td>2</td>\n",
       "    </tr>\n",
       "    <tr>\n",
       "      <th>2200</th>\n",
       "      <td>Education - As introduced, requires the office...</td>\n",
       "      <td>0</td>\n",
       "      <td>0</td>\n",
       "      <td>1</td>\n",
       "      <td>1</td>\n",
       "      <td>0</td>\n",
       "      <td>2</td>\n",
       "    </tr>\n",
       "    <tr>\n",
       "      <th>172</th>\n",
       "      <td>Education - As enacted, creates the \"Homeless ...</td>\n",
       "      <td>1</td>\n",
       "      <td>0</td>\n",
       "      <td>1</td>\n",
       "      <td>1</td>\n",
       "      <td>1</td>\n",
       "      <td>2</td>\n",
       "    </tr>\n",
       "    <tr>\n",
       "      <th>910</th>\n",
       "      <td>Education, Higher - As enacted, revises variou...</td>\n",
       "      <td>0</td>\n",
       "      <td>0</td>\n",
       "      <td>1</td>\n",
       "      <td>1</td>\n",
       "      <td>0</td>\n",
       "      <td>2</td>\n",
       "    </tr>\n",
       "    <tr>\n",
       "      <th>1862</th>\n",
       "      <td>Education - As introduced, requires the dyslex...</td>\n",
       "      <td>0</td>\n",
       "      <td>0</td>\n",
       "      <td>1</td>\n",
       "      <td>1</td>\n",
       "      <td>0</td>\n",
       "      <td>2</td>\n",
       "    </tr>\n",
       "    <tr>\n",
       "      <th>1523</th>\n",
       "      <td>Education, Higher - As introduced, requires st...</td>\n",
       "      <td>0</td>\n",
       "      <td>0</td>\n",
       "      <td>1</td>\n",
       "      <td>1</td>\n",
       "      <td>0</td>\n",
       "      <td>2</td>\n",
       "    </tr>\n",
       "    <tr>\n",
       "      <th>4750</th>\n",
       "      <td>Schools, Charter - As introduced, enacts the \"...</td>\n",
       "      <td>0</td>\n",
       "      <td>0</td>\n",
       "      <td>1</td>\n",
       "      <td>1</td>\n",
       "      <td>0</td>\n",
       "      <td>2</td>\n",
       "    </tr>\n",
       "    <tr>\n",
       "      <th>1542</th>\n",
       "      <td>Schools, Charter - As introduced, requires pub...</td>\n",
       "      <td>0</td>\n",
       "      <td>0</td>\n",
       "      <td>1</td>\n",
       "      <td>1</td>\n",
       "      <td>0</td>\n",
       "      <td>2</td>\n",
       "    </tr>\n",
       "    <tr>\n",
       "      <th>3827</th>\n",
       "      <td>School Transportation - As introduced, places ...</td>\n",
       "      <td>0</td>\n",
       "      <td>0</td>\n",
       "      <td>1</td>\n",
       "      <td>1</td>\n",
       "      <td>0</td>\n",
       "      <td>2</td>\n",
       "    </tr>\n",
       "    <tr>\n",
       "      <th>4267</th>\n",
       "      <td>School Transportation - As introduced, increas...</td>\n",
       "      <td>0</td>\n",
       "      <td>0</td>\n",
       "      <td>1</td>\n",
       "      <td>1</td>\n",
       "      <td>0</td>\n",
       "      <td>2</td>\n",
       "    </tr>\n",
       "    <tr>\n",
       "      <th>3873</th>\n",
       "      <td>Education, Higher - As enacted, replaces the T...</td>\n",
       "      <td>0</td>\n",
       "      <td>0</td>\n",
       "      <td>1</td>\n",
       "      <td>1</td>\n",
       "      <td>0</td>\n",
       "      <td>2</td>\n",
       "    </tr>\n",
       "    <tr>\n",
       "      <th>1968</th>\n",
       "      <td>Education - As enacted, clarifies that a schoo...</td>\n",
       "      <td>0</td>\n",
       "      <td>0</td>\n",
       "      <td>1</td>\n",
       "      <td>1</td>\n",
       "      <td>0</td>\n",
       "      <td>2</td>\n",
       "    </tr>\n",
       "    <tr>\n",
       "      <th>3669</th>\n",
       "      <td>Education, Curriculum - As enacted, designates...</td>\n",
       "      <td>1</td>\n",
       "      <td>0</td>\n",
       "      <td>1</td>\n",
       "      <td>0</td>\n",
       "      <td>0</td>\n",
       "      <td>2</td>\n",
       "    </tr>\n",
       "    <tr>\n",
       "      <th>1567</th>\n",
       "      <td>Education - As introduced, requires the commis...</td>\n",
       "      <td>0</td>\n",
       "      <td>0</td>\n",
       "      <td>1</td>\n",
       "      <td>1</td>\n",
       "      <td>0</td>\n",
       "      <td>2</td>\n",
       "    </tr>\n",
       "    <tr>\n",
       "      <th>5437</th>\n",
       "      <td>Education, Higher - As introduced, requires th...</td>\n",
       "      <td>0</td>\n",
       "      <td>0</td>\n",
       "      <td>1</td>\n",
       "      <td>1</td>\n",
       "      <td>0</td>\n",
       "      <td>2</td>\n",
       "    </tr>\n",
       "    <tr>\n",
       "      <th>...</th>\n",
       "      <td>...</td>\n",
       "      <td>...</td>\n",
       "      <td>...</td>\n",
       "      <td>...</td>\n",
       "      <td>...</td>\n",
       "      <td>...</td>\n",
       "      <td>...</td>\n",
       "    </tr>\n",
       "    <tr>\n",
       "      <th>1874</th>\n",
       "      <td>Education - As introduced, changes from August...</td>\n",
       "      <td>0</td>\n",
       "      <td>0</td>\n",
       "      <td>1</td>\n",
       "      <td>0</td>\n",
       "      <td>0</td>\n",
       "      <td>1</td>\n",
       "    </tr>\n",
       "    <tr>\n",
       "      <th>1872</th>\n",
       "      <td>Students - As introduced, requires schools to ...</td>\n",
       "      <td>0</td>\n",
       "      <td>0</td>\n",
       "      <td>1</td>\n",
       "      <td>1</td>\n",
       "      <td>1</td>\n",
       "      <td>1</td>\n",
       "    </tr>\n",
       "    <tr>\n",
       "      <th>1868</th>\n",
       "      <td>Schools, Charter - As introduced, enacts the \"...</td>\n",
       "      <td>0</td>\n",
       "      <td>0</td>\n",
       "      <td>1</td>\n",
       "      <td>0</td>\n",
       "      <td>0</td>\n",
       "      <td>1</td>\n",
       "    </tr>\n",
       "    <tr>\n",
       "      <th>1861</th>\n",
       "      <td>Students - As introduced, extends eligibility ...</td>\n",
       "      <td>0</td>\n",
       "      <td>0</td>\n",
       "      <td>1</td>\n",
       "      <td>1</td>\n",
       "      <td>1</td>\n",
       "      <td>1</td>\n",
       "    </tr>\n",
       "    <tr>\n",
       "      <th>1791</th>\n",
       "      <td>Education - As introduced, changes the treatme...</td>\n",
       "      <td>0</td>\n",
       "      <td>0</td>\n",
       "      <td>1</td>\n",
       "      <td>1</td>\n",
       "      <td>1</td>\n",
       "      <td>1</td>\n",
       "    </tr>\n",
       "    <tr>\n",
       "      <th>1793</th>\n",
       "      <td>Education, Higher - As introduced, adds any po...</td>\n",
       "      <td>0</td>\n",
       "      <td>0</td>\n",
       "      <td>1</td>\n",
       "      <td>0</td>\n",
       "      <td>0</td>\n",
       "      <td>1</td>\n",
       "    </tr>\n",
       "    <tr>\n",
       "      <th>1795</th>\n",
       "      <td>Local Education Agencies - As introduced, requ...</td>\n",
       "      <td>0</td>\n",
       "      <td>0</td>\n",
       "      <td>1</td>\n",
       "      <td>1</td>\n",
       "      <td>1</td>\n",
       "      <td>1</td>\n",
       "    </tr>\n",
       "    <tr>\n",
       "      <th>1797</th>\n",
       "      <td>Alcoholic Beverages - As introduced, authorize...</td>\n",
       "      <td>0</td>\n",
       "      <td>1</td>\n",
       "      <td>0</td>\n",
       "      <td>0</td>\n",
       "      <td>0</td>\n",
       "      <td>1</td>\n",
       "    </tr>\n",
       "    <tr>\n",
       "      <th>1799</th>\n",
       "      <td>Education, Higher - As introduced, adds any po...</td>\n",
       "      <td>0</td>\n",
       "      <td>0</td>\n",
       "      <td>1</td>\n",
       "      <td>1</td>\n",
       "      <td>1</td>\n",
       "      <td>1</td>\n",
       "    </tr>\n",
       "    <tr>\n",
       "      <th>1801</th>\n",
       "      <td>Education - As introduced, authorizes a commun...</td>\n",
       "      <td>0</td>\n",
       "      <td>0</td>\n",
       "      <td>1</td>\n",
       "      <td>1</td>\n",
       "      <td>1</td>\n",
       "      <td>1</td>\n",
       "    </tr>\n",
       "    <tr>\n",
       "      <th>1805</th>\n",
       "      <td>Local Education Agencies - As introduced, requ...</td>\n",
       "      <td>0</td>\n",
       "      <td>0</td>\n",
       "      <td>1</td>\n",
       "      <td>1</td>\n",
       "      <td>1</td>\n",
       "      <td>1</td>\n",
       "    </tr>\n",
       "    <tr>\n",
       "      <th>1806</th>\n",
       "      <td>Schools, Home - As introduced, allows home sch...</td>\n",
       "      <td>0</td>\n",
       "      <td>0</td>\n",
       "      <td>1</td>\n",
       "      <td>1</td>\n",
       "      <td>1</td>\n",
       "      <td>1</td>\n",
       "    </tr>\n",
       "    <tr>\n",
       "      <th>1811</th>\n",
       "      <td>Telecommunications - As introduced, creates a ...</td>\n",
       "      <td>0</td>\n",
       "      <td>0</td>\n",
       "      <td>0</td>\n",
       "      <td>1</td>\n",
       "      <td>0</td>\n",
       "      <td>1</td>\n",
       "    </tr>\n",
       "    <tr>\n",
       "      <th>1814</th>\n",
       "      <td>Local Education Agencies - As introduced, requ...</td>\n",
       "      <td>0</td>\n",
       "      <td>0</td>\n",
       "      <td>1</td>\n",
       "      <td>1</td>\n",
       "      <td>1</td>\n",
       "      <td>1</td>\n",
       "    </tr>\n",
       "    <tr>\n",
       "      <th>1817</th>\n",
       "      <td>Tennessee Higher Education Commission - As int...</td>\n",
       "      <td>0</td>\n",
       "      <td>0</td>\n",
       "      <td>1</td>\n",
       "      <td>0</td>\n",
       "      <td>0</td>\n",
       "      <td>1</td>\n",
       "    </tr>\n",
       "    <tr>\n",
       "      <th>1819</th>\n",
       "      <td>Education - As introduced, requires the Tennes...</td>\n",
       "      <td>0</td>\n",
       "      <td>0</td>\n",
       "      <td>1</td>\n",
       "      <td>0</td>\n",
       "      <td>0</td>\n",
       "      <td>1</td>\n",
       "    </tr>\n",
       "    <tr>\n",
       "      <th>1820</th>\n",
       "      <td>Education - As introduced, defines, for purpos...</td>\n",
       "      <td>0</td>\n",
       "      <td>0</td>\n",
       "      <td>1</td>\n",
       "      <td>0</td>\n",
       "      <td>0</td>\n",
       "      <td>1</td>\n",
       "    </tr>\n",
       "    <tr>\n",
       "      <th>1822</th>\n",
       "      <td>Teachers, Principals and School Personnel - As...</td>\n",
       "      <td>0</td>\n",
       "      <td>0</td>\n",
       "      <td>1</td>\n",
       "      <td>1</td>\n",
       "      <td>1</td>\n",
       "      <td>1</td>\n",
       "    </tr>\n",
       "    <tr>\n",
       "      <th>1823</th>\n",
       "      <td>Schools, Charter - As introduced, enacts the \"...</td>\n",
       "      <td>0</td>\n",
       "      <td>0</td>\n",
       "      <td>1</td>\n",
       "      <td>1</td>\n",
       "      <td>1</td>\n",
       "      <td>1</td>\n",
       "    </tr>\n",
       "    <tr>\n",
       "      <th>1825</th>\n",
       "      <td>Zoning - As introduced, authorizes a municipal...</td>\n",
       "      <td>0</td>\n",
       "      <td>0</td>\n",
       "      <td>0</td>\n",
       "      <td>1</td>\n",
       "      <td>0</td>\n",
       "      <td>1</td>\n",
       "    </tr>\n",
       "    <tr>\n",
       "      <th>1829</th>\n",
       "      <td>Education - As introduced, defines, for purpos...</td>\n",
       "      <td>0</td>\n",
       "      <td>0</td>\n",
       "      <td>1</td>\n",
       "      <td>1</td>\n",
       "      <td>1</td>\n",
       "      <td>1</td>\n",
       "    </tr>\n",
       "    <tr>\n",
       "      <th>1835</th>\n",
       "      <td>Tennessee Higher Education Commission - As int...</td>\n",
       "      <td>0</td>\n",
       "      <td>0</td>\n",
       "      <td>1</td>\n",
       "      <td>0</td>\n",
       "      <td>0</td>\n",
       "      <td>1</td>\n",
       "    </tr>\n",
       "    <tr>\n",
       "      <th>1838</th>\n",
       "      <td>Teachers, Principals and School Personnel - As...</td>\n",
       "      <td>0</td>\n",
       "      <td>0</td>\n",
       "      <td>1</td>\n",
       "      <td>1</td>\n",
       "      <td>1</td>\n",
       "      <td>1</td>\n",
       "    </tr>\n",
       "    <tr>\n",
       "      <th>1840</th>\n",
       "      <td>Teachers, Principals and School Personnel - As...</td>\n",
       "      <td>0</td>\n",
       "      <td>0</td>\n",
       "      <td>1</td>\n",
       "      <td>1</td>\n",
       "      <td>1</td>\n",
       "      <td>1</td>\n",
       "    </tr>\n",
       "    <tr>\n",
       "      <th>1851</th>\n",
       "      <td>Teachers, Principals and School Personnel - As...</td>\n",
       "      <td>0</td>\n",
       "      <td>0</td>\n",
       "      <td>1</td>\n",
       "      <td>1</td>\n",
       "      <td>1</td>\n",
       "      <td>1</td>\n",
       "    </tr>\n",
       "    <tr>\n",
       "      <th>1852</th>\n",
       "      <td>Child Abuse - As introduced, requires the depa...</td>\n",
       "      <td>0</td>\n",
       "      <td>0</td>\n",
       "      <td>0</td>\n",
       "      <td>1</td>\n",
       "      <td>0</td>\n",
       "      <td>1</td>\n",
       "    </tr>\n",
       "    <tr>\n",
       "      <th>1855</th>\n",
       "      <td>Students - As introduced, requires schools to ...</td>\n",
       "      <td>0</td>\n",
       "      <td>0</td>\n",
       "      <td>1</td>\n",
       "      <td>1</td>\n",
       "      <td>1</td>\n",
       "      <td>1</td>\n",
       "    </tr>\n",
       "    <tr>\n",
       "      <th>1856</th>\n",
       "      <td>Education - As introduced, requires the Tennes...</td>\n",
       "      <td>0</td>\n",
       "      <td>0</td>\n",
       "      <td>1</td>\n",
       "      <td>1</td>\n",
       "      <td>1</td>\n",
       "      <td>1</td>\n",
       "    </tr>\n",
       "    <tr>\n",
       "      <th>1858</th>\n",
       "      <td>Students - As introduced, extends eligibility ...</td>\n",
       "      <td>0</td>\n",
       "      <td>0</td>\n",
       "      <td>1</td>\n",
       "      <td>0</td>\n",
       "      <td>0</td>\n",
       "      <td>1</td>\n",
       "    </tr>\n",
       "    <tr>\n",
       "      <th>5469</th>\n",
       "      <td>Education - As introduced, removes the presump...</td>\n",
       "      <td>0</td>\n",
       "      <td>0</td>\n",
       "      <td>1</td>\n",
       "      <td>0</td>\n",
       "      <td>0</td>\n",
       "      <td>1</td>\n",
       "    </tr>\n",
       "  </tbody>\n",
       "</table>\n",
       "<p>965 rows × 7 columns</p>\n",
       "</div>"
      ],
      "text/plain": [
       "                                                  title  my_legislators  \\\n",
       "3844  Education - As enacted, revises various provis...               0   \n",
       "143   Education - As enacted, creates the \"Homeless ...               1   \n",
       "3786  Education - As introduced, creates a tuition a...               0   \n",
       "584   Education - As introduced, requires a local bo...               0   \n",
       "1455  Education - As introduced, allows the governin...               0   \n",
       "1454  Education - As introduced, allows the governin...               1   \n",
       "3921  Alcoholic Beverages - As enacted, authorizes t...               0   \n",
       "586   Education - As introduced, requires driver edu...               1   \n",
       "3711  School Transportation - As introduced, authori...               0   \n",
       "5337  Education - As introduced, requires the Tennes...               1   \n",
       "2370  Local Education Agencies - As introduced, dele...               1   \n",
       "370   Teachers, Principals and School Personnel - As...               0   \n",
       "4549  Lottery, Scholarships and Programs - As introd...               0   \n",
       "1042  Local Education Agencies - As enacted, allows ...               0   \n",
       "1047  Local Education Agencies - As enacted, allows ...               0   \n",
       "3793  Education - As introduced, creates a tuition a...               0   \n",
       "2200  Education - As introduced, requires the office...               0   \n",
       "172   Education - As enacted, creates the \"Homeless ...               1   \n",
       "910   Education, Higher - As enacted, revises variou...               0   \n",
       "1862  Education - As introduced, requires the dyslex...               0   \n",
       "1523  Education, Higher - As introduced, requires st...               0   \n",
       "4750  Schools, Charter - As introduced, enacts the \"...               0   \n",
       "1542  Schools, Charter - As introduced, requires pub...               0   \n",
       "3827  School Transportation - As introduced, places ...               0   \n",
       "4267  School Transportation - As introduced, increas...               0   \n",
       "3873  Education, Higher - As enacted, replaces the T...               0   \n",
       "1968  Education - As enacted, clarifies that a schoo...               0   \n",
       "3669  Education, Curriculum - As enacted, designates...               1   \n",
       "1567  Education - As introduced, requires the commis...               0   \n",
       "5437  Education, Higher - As introduced, requires th...               0   \n",
       "...                                                 ...             ...   \n",
       "1874  Education - As introduced, changes from August...               0   \n",
       "1872  Students - As introduced, requires schools to ...               0   \n",
       "1868  Schools, Charter - As introduced, enacts the \"...               0   \n",
       "1861  Students - As introduced, extends eligibility ...               0   \n",
       "1791  Education - As introduced, changes the treatme...               0   \n",
       "1793  Education, Higher - As introduced, adds any po...               0   \n",
       "1795  Local Education Agencies - As introduced, requ...               0   \n",
       "1797  Alcoholic Beverages - As introduced, authorize...               0   \n",
       "1799  Education, Higher - As introduced, adds any po...               0   \n",
       "1801  Education - As introduced, authorizes a commun...               0   \n",
       "1805  Local Education Agencies - As introduced, requ...               0   \n",
       "1806  Schools, Home - As introduced, allows home sch...               0   \n",
       "1811  Telecommunications - As introduced, creates a ...               0   \n",
       "1814  Local Education Agencies - As introduced, requ...               0   \n",
       "1817  Tennessee Higher Education Commission - As int...               0   \n",
       "1819  Education - As introduced, requires the Tennes...               0   \n",
       "1820  Education - As introduced, defines, for purpos...               0   \n",
       "1822  Teachers, Principals and School Personnel - As...               0   \n",
       "1823  Schools, Charter - As introduced, enacts the \"...               0   \n",
       "1825  Zoning - As introduced, authorizes a municipal...               0   \n",
       "1829  Education - As introduced, defines, for purpos...               0   \n",
       "1835  Tennessee Higher Education Commission - As int...               0   \n",
       "1838  Teachers, Principals and School Personnel - As...               0   \n",
       "1840  Teachers, Principals and School Personnel - As...               0   \n",
       "1851  Teachers, Principals and School Personnel - As...               0   \n",
       "1852  Child Abuse - As introduced, requires the depa...               0   \n",
       "1855  Students - As introduced, requires schools to ...               0   \n",
       "1856  Education - As introduced, requires the Tennes...               0   \n",
       "1858  Students - As introduced, extends eligibility ...               0   \n",
       "5469  Education - As introduced, removes the presump...               0   \n",
       "\n",
       "      my_city_county  my_subjects  predict_vote  predict_uncontroversial  \\\n",
       "3844               0            1             1                        0   \n",
       "143                0            1             0                        0   \n",
       "3786               0            1             1                        0   \n",
       "584                0            1             1                        0   \n",
       "1455               0            1             1                        0   \n",
       "1454               0            1             1                        1   \n",
       "3921               1            0             1                        0   \n",
       "586                0            1             0                        0   \n",
       "3711               0            1             1                        0   \n",
       "5337               0            1             0                        0   \n",
       "2370               0            1             0                        0   \n",
       "370                0            1             1                        0   \n",
       "4549               0            1             1                        0   \n",
       "1042               1            1             0                        0   \n",
       "1047               1            1             0                        0   \n",
       "3793               0            1             1                        0   \n",
       "2200               0            1             1                        0   \n",
       "172                0            1             1                        1   \n",
       "910                0            1             1                        0   \n",
       "1862               0            1             1                        0   \n",
       "1523               0            1             1                        0   \n",
       "4750               0            1             1                        0   \n",
       "1542               0            1             1                        0   \n",
       "3827               0            1             1                        0   \n",
       "4267               0            1             1                        0   \n",
       "3873               0            1             1                        0   \n",
       "1968               0            1             1                        0   \n",
       "3669               0            1             0                        0   \n",
       "1567               0            1             1                        0   \n",
       "5437               0            1             1                        0   \n",
       "...              ...          ...           ...                      ...   \n",
       "1874               0            1             0                        0   \n",
       "1872               0            1             1                        1   \n",
       "1868               0            1             0                        0   \n",
       "1861               0            1             1                        1   \n",
       "1791               0            1             1                        1   \n",
       "1793               0            1             0                        0   \n",
       "1795               0            1             1                        1   \n",
       "1797               1            0             0                        0   \n",
       "1799               0            1             1                        1   \n",
       "1801               0            1             1                        1   \n",
       "1805               0            1             1                        1   \n",
       "1806               0            1             1                        1   \n",
       "1811               0            0             1                        0   \n",
       "1814               0            1             1                        1   \n",
       "1817               0            1             0                        0   \n",
       "1819               0            1             0                        0   \n",
       "1820               0            1             0                        0   \n",
       "1822               0            1             1                        1   \n",
       "1823               0            1             1                        1   \n",
       "1825               0            0             1                        0   \n",
       "1829               0            1             1                        1   \n",
       "1835               0            1             0                        0   \n",
       "1838               0            1             1                        1   \n",
       "1840               0            1             1                        1   \n",
       "1851               0            1             1                        1   \n",
       "1852               0            0             1                        0   \n",
       "1855               0            1             1                        1   \n",
       "1856               0            1             1                        1   \n",
       "1858               0            1             0                        0   \n",
       "5469               0            1             0                        0   \n",
       "\n",
       "      counts  \n",
       "3844       2  \n",
       "143        2  \n",
       "3786       2  \n",
       "584        2  \n",
       "1455       2  \n",
       "1454       2  \n",
       "3921       2  \n",
       "586        2  \n",
       "3711       2  \n",
       "5337       2  \n",
       "2370       2  \n",
       "370        2  \n",
       "4549       2  \n",
       "1042       2  \n",
       "1047       2  \n",
       "3793       2  \n",
       "2200       2  \n",
       "172        2  \n",
       "910        2  \n",
       "1862       2  \n",
       "1523       2  \n",
       "4750       2  \n",
       "1542       2  \n",
       "3827       2  \n",
       "4267       2  \n",
       "3873       2  \n",
       "1968       2  \n",
       "3669       2  \n",
       "1567       2  \n",
       "5437       2  \n",
       "...      ...  \n",
       "1874       1  \n",
       "1872       1  \n",
       "1868       1  \n",
       "1861       1  \n",
       "1791       1  \n",
       "1793       1  \n",
       "1795       1  \n",
       "1797       1  \n",
       "1799       1  \n",
       "1801       1  \n",
       "1805       1  \n",
       "1806       1  \n",
       "1811       1  \n",
       "1814       1  \n",
       "1817       1  \n",
       "1819       1  \n",
       "1820       1  \n",
       "1822       1  \n",
       "1823       1  \n",
       "1825       1  \n",
       "1829       1  \n",
       "1835       1  \n",
       "1838       1  \n",
       "1840       1  \n",
       "1851       1  \n",
       "1852       1  \n",
       "1855       1  \n",
       "1856       1  \n",
       "1858       1  \n",
       "5469       1  \n",
       "\n",
       "[965 rows x 7 columns]"
      ]
     },
     "execution_count": 53,
     "metadata": {},
     "output_type": "execute_result"
    }
   ],
   "source": [
    "prediction_set = bills[bills['session'] == 110] \\\n",
    "    .assign(predict_vote = predict_vote,\n",
    "            predict_uncontroversial = predict_uncontroversial) \\\n",
    "    .loc[:, ['title', 'my_legislators', 'my_city_county', 'my_subjects', 'predict_vote', 'predict_uncontroversial']]\n",
    "\n",
    "# Count number of categories matched\n",
    "prediction_set['counts'] = \\\n",
    "    prediction_set['my_city_county'] + \\\n",
    "    prediction_set['my_legislators'] + \\\n",
    "    prediction_set['my_subjects'] + \\\n",
    "    ((prediction_set['predict_vote'] == 1) & (prediction_set['predict_uncontroversial'] == 0)).astype(int)\n",
    "\n",
    "# Sort results by descending order of the number of categories matched\n",
    "prediction_set \\\n",
    "    .query('my_city_county == 1 | my_legislators == 1 | my_subjects == 1 | (predict_vote == 1 & predict_uncontroversial == 0)') \\\n",
    "    .sort_values(by = 'counts', ascending = False)"
   ]
  },
  {
   "cell_type": "markdown",
   "metadata": {
    "slideshow": {
     "slide_type": "slide"
    }
   },
   "source": [
    "## Motivation\n",
    "\n",
    "Civic Engagement is hard."
   ]
  },
  {
   "cell_type": "markdown",
   "metadata": {
    "slideshow": {
     "slide_type": "slide"
    }
   },
   "source": [
    "## TODO:\n",
    "\n",
    "Visualizing bills:"
   ]
  },
  {
   "cell_type": "markdown",
   "metadata": {
    "slideshow": {
     "slide_type": "slide"
    }
   },
   "source": [
    "## TODO:\n",
    "\n",
    "Translate bills into something human (layperson) readable:"
   ]
  },
  {
   "cell_type": "markdown",
   "metadata": {
    "slideshow": {
     "slide_type": "fragment"
    }
   },
   "source": [
    "![](images/summary.png)"
   ]
  },
  {
   "cell_type": "markdown",
   "metadata": {
    "slideshow": {
     "slide_type": "slide"
    }
   },
   "source": [
    "## TODO:\n",
    "\n",
    "Summary of a legislator's body of work:\n",
    "\n",
    "* Frequent topics of legislation\n",
    "* How the bills they introduce fare\n",
    "* Votes?\n",
    "* Frequent co-sponsors?"
   ]
  },
  {
   "cell_type": "markdown",
   "metadata": {
    "slideshow": {
     "slide_type": "slide"
    }
   },
   "source": [
    "## Thanks!\n",
    "\n",
    "* GitHub: [alexander-poon/legisPy](https://github.com/alexander-poon/legisPy)\n",
    "* Email: [alex.poon@tn.gov](mailto:alex.poon@tn.gov)\n",
    "* NashDev: [alexanderpoon]()"
   ]
  }
 ],
 "metadata": {
  "celltoolbar": "Slideshow",
  "kernelspec": {
   "display_name": "Python [default]",
   "language": "python",
   "name": "python3"
  },
  "language_info": {
   "codemirror_mode": {
    "name": "ipython",
    "version": 3
   },
   "file_extension": ".py",
   "mimetype": "text/x-python",
   "name": "python",
   "nbconvert_exporter": "python",
   "pygments_lexer": "ipython3",
   "version": "3.6.4"
  }
 },
 "nbformat": 4,
 "nbformat_minor": 2
}
