{
 "cells": [
  {
   "cell_type": "markdown",
   "metadata": {},
   "source": [
    "## A Taxonomy of TN Legislation\n",
    "\n",
    "Using NLP, I look to answer the question: **What (state) legislation should I pay attention to?**\n",
    "\n",
    "This might include legislation that:\n",
    "\n",
    "- pertains to local issues in the city/town/county where I live\n",
    "- pertains to issues I care about (e.g.: education)\n",
    "- is introduced by my Representative/Senator\n",
    "- is contentious (comes down to a close or party line vote)\n",
    "\n",
    "and might not include legislation that:\n",
    "\n",
    "- is uncontroversial (e.g., probably going to pass unanimously)\n",
    "- has no chance of passing\n",
    "\n",
    "Of course, these categories aren't mutually exclusive. I tag legislation meeting each characteristic individually so that we might look at bills meeting any combination of these criteria."
   ]
  },
  {
   "cell_type": "code",
   "execution_count": 1,
   "metadata": {},
   "outputs": [],
   "source": [
    "# Preliminaries\n",
    "import numpy as np\n",
    "import pandas as pd\n",
    "import matplotlib.pyplot as plt\n",
    "import seaborn as sns\n",
    "\n",
    "%matplotlib inline\n",
    "\n",
    "pd.options.display.max_colwidth = 1000"
   ]
  },
  {
   "cell_type": "markdown",
   "metadata": {},
   "source": [
    "Data comes from [OpenStates](https://openstates.org/), which provides comprehensive information pertaining to state legislators and legislation for all 50 states, DC and Puerto Rico, including bill text, topics, sponsors, progress through committees, amendments, vote tallies and votes by individual legislators.\n",
    "\n",
    "OpenStates makes data available via an API, which I access using the [pyopenstates](http://docs.openstates.org/en/latest/api/) module."
   ]
  },
  {
   "cell_type": "code",
   "execution_count": 2,
   "metadata": {},
   "outputs": [
    {
     "data": {
      "text/html": [
       "<div>\n",
       "<style scoped>\n",
       "    .dataframe tbody tr th:only-of-type {\n",
       "        vertical-align: middle;\n",
       "    }\n",
       "\n",
       "    .dataframe tbody tr th {\n",
       "        vertical-align: top;\n",
       "    }\n",
       "\n",
       "    .dataframe thead th {\n",
       "        text-align: right;\n",
       "    }\n",
       "</style>\n",
       "<table border=\"1\" class=\"dataframe\">\n",
       "  <thead>\n",
       "    <tr style=\"text-align: right;\">\n",
       "      <th></th>\n",
       "      <th>bill_id</th>\n",
       "      <th>session</th>\n",
       "      <th>subjects</th>\n",
       "      <th>title</th>\n",
       "      <th>sponsors</th>\n",
       "    </tr>\n",
       "  </thead>\n",
       "  <tbody>\n",
       "    <tr>\n",
       "      <th>0</th>\n",
       "      <td>SB 107</td>\n",
       "      <td>110</td>\n",
       "      <td>Government Reform</td>\n",
       "      <td>Sunset Laws - As enacted, extends the Tennessee life and health insurance guaranty association five years to June 30, 2022.</td>\n",
       "      <td>Bell; Faison</td>\n",
       "    </tr>\n",
       "    <tr>\n",
       "      <th>1</th>\n",
       "      <td>HB 228</td>\n",
       "      <td>110</td>\n",
       "      <td>Government Reform</td>\n",
       "      <td>Sunset Laws - As enacted, extends the Tennessee life and health insurance guaranty association five years to June 30, 2022.</td>\n",
       "      <td>Faison; Bell</td>\n",
       "    </tr>\n",
       "    <tr>\n",
       "      <th>2</th>\n",
       "      <td>HB 2716</td>\n",
       "      <td>110</td>\n",
       "      <td>Municipal and County Issues</td>\n",
       "      <td>Maury County - Subject to local approval, creates a county financial management system to administer the finances of the county for all funds of the various departments, agencies, and boards that are handled by the county trustee. -</td>\n",
       "      <td>Butt; Hensley</td>\n",
       "    </tr>\n",
       "    <tr>\n",
       "      <th>3</th>\n",
       "      <td>SB 2745</td>\n",
       "      <td>110</td>\n",
       "      <td>Municipal and County Issues</td>\n",
       "      <td>Maury County - Subject to local approval, creates a county financial management system to administer the finances of the county for all funds of the various departments, agencies, and boards that are handled by the county trustee. -</td>\n",
       "      <td>Hensley; Butt</td>\n",
       "    </tr>\n",
       "    <tr>\n",
       "      <th>4</th>\n",
       "      <td>HB 1905</td>\n",
       "      <td>110</td>\n",
       "      <td>Federal, State, and Local Relations</td>\n",
       "      <td>Capitol - As enacted, administratively attaches the David Crockett commission to the department of finance and administration; creates a separate account within the treasury to be used to erect a monument; authorizes state and private funds to be used to erect a monument with intent that no state funds be used until private funding exhausted.</td>\n",
       "      <td>Hawk; Southerland</td>\n",
       "    </tr>\n",
       "    <tr>\n",
       "      <th>5</th>\n",
       "      <td>SB 1868</td>\n",
       "      <td>110</td>\n",
       "      <td>Federal, State, and Local Relations</td>\n",
       "      <td>Capitol - As enacted, administratively attaches the David Crockett commission to the department of finance and administration; creates a separate account within the treasury to be used to erect a monument; authorizes state and private funds to be used to erect a monument with intent that no state funds be used until private funding exhausted.</td>\n",
       "      <td>Southerland; Hawk</td>\n",
       "    </tr>\n",
       "    <tr>\n",
       "      <th>6</th>\n",
       "      <td>SB 5</td>\n",
       "      <td>110</td>\n",
       "      <td>Judiciary</td>\n",
       "      <td>Judicial Districts - As enacted, creates one additional trial court each in the sixteenth, nineteenth, and twenty-first judicial districts; requires the speaker of the senate and the speaker of the house to establish an advisory task force to review the composition of Tennessee's current judicial districts.</td>\n",
       "      <td>Green; Johnson</td>\n",
       "    </tr>\n",
       "    <tr>\n",
       "      <th>7</th>\n",
       "      <td>HB 10</td>\n",
       "      <td>110</td>\n",
       "      <td>Judiciary</td>\n",
       "      <td>Judicial Districts - As enacted, creates one additional trial court each in the sixteenth, nineteenth, and twenty-first judicial districts; requires the speaker of the senate and the speaker of the house to establish an advisory task force to review the composition of Tennessee's current judicial districts.</td>\n",
       "      <td>Johnson; Green</td>\n",
       "    </tr>\n",
       "    <tr>\n",
       "      <th>8</th>\n",
       "      <td>HB 75</td>\n",
       "      <td>110</td>\n",
       "      <td>Education</td>\n",
       "      <td>Education - As enacted, provides that no adverse action may be taken against any student, teacher, school, or LEA based, in whole or in part, on student achievement data generated from the 2017-2018 TNReady assessments.</td>\n",
       "      <td>Kane; Gresham</td>\n",
       "    </tr>\n",
       "    <tr>\n",
       "      <th>9</th>\n",
       "      <td>SB 200</td>\n",
       "      <td>110</td>\n",
       "      <td>Crime</td>\n",
       "      <td>Criminal Offenses - As enacted, includes within the offense of especially aggravated stalking a person 18 years of age or older who commits the offense of stalking or aggravated stalking against a victim who is less than 12 years of age at any time during the person's course of conduct.</td>\n",
       "      <td>Swann; Williams</td>\n",
       "    </tr>\n",
       "  </tbody>\n",
       "</table>\n",
       "</div>"
      ],
      "text/plain": [
       "   bill_id  session                             subjects  \\\n",
       "0   SB 107      110                    Government Reform   \n",
       "1   HB 228      110                    Government Reform   \n",
       "2  HB 2716      110          Municipal and County Issues   \n",
       "3  SB 2745      110          Municipal and County Issues   \n",
       "4  HB 1905      110  Federal, State, and Local Relations   \n",
       "5  SB 1868      110  Federal, State, and Local Relations   \n",
       "6     SB 5      110                            Judiciary   \n",
       "7    HB 10      110                            Judiciary   \n",
       "8    HB 75      110                            Education   \n",
       "9   SB 200      110                                Crime   \n",
       "\n",
       "                                                                                                                                                                                                                                                                                                                                                      title  \\\n",
       "0                                                                                                                                                                                                                               Sunset Laws - As enacted, extends the Tennessee life and health insurance guaranty association five years to June 30, 2022.   \n",
       "1                                                                                                                                                                                                                               Sunset Laws - As enacted, extends the Tennessee life and health insurance guaranty association five years to June 30, 2022.   \n",
       "2                                                                                                                  Maury County - Subject to local approval, creates a county financial management system to administer the finances of the county for all funds of the various departments, agencies, and boards that are handled by the county trustee. -   \n",
       "3                                                                                                                  Maury County - Subject to local approval, creates a county financial management system to administer the finances of the county for all funds of the various departments, agencies, and boards that are handled by the county trustee. -   \n",
       "4  Capitol - As enacted, administratively attaches the David Crockett commission to the department of finance and administration; creates a separate account within the treasury to be used to erect a monument; authorizes state and private funds to be used to erect a monument with intent that no state funds be used until private funding exhausted.   \n",
       "5  Capitol - As enacted, administratively attaches the David Crockett commission to the department of finance and administration; creates a separate account within the treasury to be used to erect a monument; authorizes state and private funds to be used to erect a monument with intent that no state funds be used until private funding exhausted.   \n",
       "6                                      Judicial Districts - As enacted, creates one additional trial court each in the sixteenth, nineteenth, and twenty-first judicial districts; requires the speaker of the senate and the speaker of the house to establish an advisory task force to review the composition of Tennessee's current judicial districts.   \n",
       "7                                      Judicial Districts - As enacted, creates one additional trial court each in the sixteenth, nineteenth, and twenty-first judicial districts; requires the speaker of the senate and the speaker of the house to establish an advisory task force to review the composition of Tennessee's current judicial districts.   \n",
       "8                                                                                                                               Education - As enacted, provides that no adverse action may be taken against any student, teacher, school, or LEA based, in whole or in part, on student achievement data generated from the 2017-2018 TNReady assessments.   \n",
       "9                                                           Criminal Offenses - As enacted, includes within the offense of especially aggravated stalking a person 18 years of age or older who commits the offense of stalking or aggravated stalking against a victim who is less than 12 years of age at any time during the person's course of conduct.   \n",
       "\n",
       "            sponsors  \n",
       "0       Bell; Faison  \n",
       "1       Faison; Bell  \n",
       "2      Butt; Hensley  \n",
       "3      Hensley; Butt  \n",
       "4  Hawk; Southerland  \n",
       "5  Southerland; Hawk  \n",
       "6     Green; Johnson  \n",
       "7     Johnson; Green  \n",
       "8      Kane; Gresham  \n",
       "9    Swann; Williams  "
      ]
     },
     "execution_count": 2,
     "metadata": {},
     "output_type": "execute_result"
    }
   ],
   "source": [
    "bills = pd.read_csv('../data/bills.csv')\n",
    "\n",
    "# Remove the 'Amends TCA Title x, Chapter y' from bill titles\n",
    "bills['title'] = bills['title'].str.replace(' - Amends.+$', '')\n",
    "\n",
    "bills.head(10)"
   ]
  },
  {
   "cell_type": "markdown",
   "metadata": {},
   "source": [
    "From this, I can tag legislation introduced by my legislators, pertaining to the city/county where I live, and relates to subjects I'm interested in."
   ]
  },
  {
   "cell_type": "code",
   "execution_count": 3,
   "metadata": {},
   "outputs": [
    {
     "name": "stdout",
     "output_type": "stream",
     "text": [
      "['Gilmore', 'Beck']\n"
     ]
    }
   ],
   "source": [
    "# Use pyopenstates to identify my legislators from location\n",
    "from os import environ\n",
    "from pyopenstates import set_api_key, locate_legislators\n",
    "\n",
    "set_api_key(environ.get('OPENSTATES_KEY')) # Get key here: https://openstates.org/api/register/\n",
    "\n",
    "my_legislators = [i.get('last_name') for i in locate_legislators(36.157612, -86.767337)]\n",
    "\n",
    "print(my_legislators)"
   ]
  },
  {
   "cell_type": "code",
   "execution_count": 4,
   "metadata": {},
   "outputs": [],
   "source": [
    "# Tag legislation introducted by my legislators\n",
    "bills['my_legislators'] = bills['sponsors'].str.contains('|'.join(my_legislators)) \\\n",
    "    .fillna(False)\\ \n",
    "    .astype(int)"
   ]
  },
  {
   "cell_type": "code",
   "execution_count": 5,
   "metadata": {},
   "outputs": [
    {
     "name": "stdout",
     "output_type": "stream",
     "text": [
      "Nashville-Davidson, Davidson County\n"
     ]
    }
   ],
   "source": [
    "# Identify my city, county from location\n",
    "from geopy.geocoders import Nominatim\n",
    "\n",
    "geolocator = Nominatim(user_agent = 'me')\n",
    "\n",
    "location = geolocator.reverse((36.165922, -86.784194))\n",
    "\n",
    "my_city, my_county = [location.raw.get('address').get(i) for i in ['city', 'county']]\n",
    "\n",
    "print(my_city + ', ' + my_county)"
   ]
  },
  {
   "cell_type": "code",
   "execution_count": 6,
   "metadata": {},
   "outputs": [],
   "source": [
    "if my_city == \"Nashville-Davidson\":\n",
    "    my_city = \"Nashville\"\n",
    "\n",
    "# Tag legislation mentioning my city or county from location\n",
    "bills['my_city_county'] = bills['title'].str.contains(my_city + '|' + my_county) \\\n",
    "    .astype(int)"
   ]
  },
  {
   "cell_type": "code",
   "execution_count": 7,
   "metadata": {},
   "outputs": [
    {
     "data": {
      "text/plain": [
       "Legal Issues                            2776\n",
       "Education                               2684\n",
       "Budget, Spending, and Taxes             1881\n",
       "Health                                  1599\n",
       "Municipal and County Issues             1474\n",
       "Transportation                          1366\n",
       "Crime                                   1023\n",
       "Drugs                                   1017\n",
       "Government Reform                        959\n",
       "Legislative Affairs                      935\n",
       "Federal, State, and Local Relations      876\n",
       "Labor and Employment                     822\n",
       "Business and Consumers                   717\n",
       "Housing and Property                     641\n",
       "Family and Children Issues               641\n",
       "Commerce                                 591\n",
       "Campaign Finance and Election Issues     485\n",
       "Insurance                                481\n",
       "State Agencies                           474\n",
       "Judiciary                                468\n",
       "Environmental                            396\n",
       "Guns                                     336\n",
       "Other                                    313\n",
       "Public Services                          299\n",
       "Agriculture and Food                     247\n",
       "Gambling and Gaming                      229\n",
       "Animal Rights and Wildlife Issues        228\n",
       "Military                                 220\n",
       "Senior Issues                            167\n",
       "Civil Liberties and Civil Rights         152\n",
       "Welfare and Poverty                      148\n",
       "Recreation                               129\n",
       "Energy                                   125\n",
       "Science and Medical Research             124\n",
       "Resolutions                               99\n",
       "Technology and Communication              99\n",
       "Social Issues                             96\n",
       "Reproductive Issues                       66\n",
       "Arts and Humanities                       56\n",
       "Immigration                               38\n",
       "Trade                                     20\n",
       "Sexual Orientation and Gender Issues       7\n",
       "dtype: int64"
      ]
     },
     "execution_count": 7,
     "metadata": {},
     "output_type": "execute_result"
    }
   ],
   "source": [
    "# Get a list of possible subjects\n",
    "bills['subjects'].str.get_dummies('; ') \\\n",
    "    .agg(sum) \\\n",
    "    .sort_values(ascending = False)"
   ]
  },
  {
   "cell_type": "code",
   "execution_count": 8,
   "metadata": {},
   "outputs": [],
   "source": [
    "# Tag legislation pertaining to subjects I'm interested in\n",
    "my_subjects = ['Education']\n",
    "\n",
    "bills['my_subjects'] = bills['subjects'].str.contains('|'.join(my_subjects)) \\\n",
    "    .fillna(0) \\\n",
    "    .astype(int)"
   ]
  },
  {
   "cell_type": "markdown",
   "metadata": {},
   "source": [
    "In Tennessee, a bill goes through the following [steps](http://www.capitol.tn.gov/about/billtolaw.html) (roughly) to become law:\n",
    "\n",
    "* Introduced\n",
    "* Passed on First Consideration\n",
    "* Passed on Second Consideration\n",
    "* Referred to Committee(s)\n",
    "* Placed on Calendar for Third Consideration\n",
    "    * On Third Consideration, opened for debate and amendment\n",
    "* Passed on Third Consideration\n",
    "* Reconcile Senate and House versions\n",
    "* Signed by Governor or allowed to become law without signature\n",
    "\n",
    "We can observe whether bills make it through each of these steps."
   ]
  },
  {
   "cell_type": "code",
   "execution_count": 9,
   "metadata": {},
   "outputs": [
    {
     "data": {
      "text/html": [
       "<div>\n",
       "<style scoped>\n",
       "    .dataframe tbody tr th:only-of-type {\n",
       "        vertical-align: middle;\n",
       "    }\n",
       "\n",
       "    .dataframe tbody tr th {\n",
       "        vertical-align: top;\n",
       "    }\n",
       "\n",
       "    .dataframe thead th {\n",
       "        text-align: right;\n",
       "    }\n",
       "</style>\n",
       "<table border=\"1\" class=\"dataframe\">\n",
       "  <thead>\n",
       "    <tr style=\"text-align: right;\">\n",
       "      <th></th>\n",
       "      <th>action</th>\n",
       "      <th>actor</th>\n",
       "      <th>session</th>\n",
       "      <th>bill_id</th>\n",
       "      <th>type</th>\n",
       "      <th>ayes</th>\n",
       "      <th>nays</th>\n",
       "    </tr>\n",
       "  </thead>\n",
       "  <tbody>\n",
       "    <tr>\n",
       "      <th>0</th>\n",
       "      <td>Filed for introduction</td>\n",
       "      <td>upper</td>\n",
       "      <td>110</td>\n",
       "      <td>SB 107</td>\n",
       "      <td>bill:reading:1; bill:introduced</td>\n",
       "      <td>NaN</td>\n",
       "      <td>NaN</td>\n",
       "    </tr>\n",
       "    <tr>\n",
       "      <th>1</th>\n",
       "      <td>Introduced, Passed on First Consideration</td>\n",
       "      <td>upper</td>\n",
       "      <td>110</td>\n",
       "      <td>SB 107</td>\n",
       "      <td>bill:introduced</td>\n",
       "      <td>NaN</td>\n",
       "      <td>NaN</td>\n",
       "    </tr>\n",
       "    <tr>\n",
       "      <th>2</th>\n",
       "      <td>Filed for intro.</td>\n",
       "      <td>lower</td>\n",
       "      <td>110</td>\n",
       "      <td>SB 107</td>\n",
       "      <td>bill:reading:1; bill:introduced</td>\n",
       "      <td>NaN</td>\n",
       "      <td>NaN</td>\n",
       "    </tr>\n",
       "    <tr>\n",
       "      <th>3</th>\n",
       "      <td>Passed on Second Consideration, refer to Senate Government Operations Committee</td>\n",
       "      <td>upper</td>\n",
       "      <td>110</td>\n",
       "      <td>SB 107</td>\n",
       "      <td>other</td>\n",
       "      <td>NaN</td>\n",
       "      <td>NaN</td>\n",
       "    </tr>\n",
       "    <tr>\n",
       "      <th>4</th>\n",
       "      <td>Intro., P1C.</td>\n",
       "      <td>lower</td>\n",
       "      <td>110</td>\n",
       "      <td>SB 107</td>\n",
       "      <td>bill:introduced</td>\n",
       "      <td>NaN</td>\n",
       "      <td>NaN</td>\n",
       "    </tr>\n",
       "    <tr>\n",
       "      <th>5</th>\n",
       "      <td>P2C, ref. to Government Operations Committee</td>\n",
       "      <td>lower</td>\n",
       "      <td>110</td>\n",
       "      <td>SB 107</td>\n",
       "      <td>committee:referred</td>\n",
       "      <td>NaN</td>\n",
       "      <td>NaN</td>\n",
       "    </tr>\n",
       "    <tr>\n",
       "      <th>6</th>\n",
       "      <td>Placed on Senate Government Operations Committee calendar for 2/15/2017</td>\n",
       "      <td>upper</td>\n",
       "      <td>110</td>\n",
       "      <td>SB 107</td>\n",
       "      <td>other</td>\n",
       "      <td>NaN</td>\n",
       "      <td>NaN</td>\n",
       "    </tr>\n",
       "    <tr>\n",
       "      <th>7</th>\n",
       "      <td>Recommended for passage, refer to Senate Calendar Committee</td>\n",
       "      <td>upper</td>\n",
       "      <td>110</td>\n",
       "      <td>SB 107</td>\n",
       "      <td>other</td>\n",
       "      <td>NaN</td>\n",
       "      <td>NaN</td>\n",
       "    </tr>\n",
       "    <tr>\n",
       "      <th>8</th>\n",
       "      <td>Placed on Senate Consent Calendar 2 calendar for 2/23/2017</td>\n",
       "      <td>upper</td>\n",
       "      <td>110</td>\n",
       "      <td>SB 107</td>\n",
       "      <td>other</td>\n",
       "      <td>NaN</td>\n",
       "      <td>NaN</td>\n",
       "    </tr>\n",
       "    <tr>\n",
       "      <th>9</th>\n",
       "      <td>Placed on cal. Government Operations Committee for 3/1/2017</td>\n",
       "      <td>lower</td>\n",
       "      <td>110</td>\n",
       "      <td>SB 107</td>\n",
       "      <td>other</td>\n",
       "      <td>NaN</td>\n",
       "      <td>NaN</td>\n",
       "    </tr>\n",
       "  </tbody>\n",
       "</table>\n",
       "</div>"
      ],
      "text/plain": [
       "                                                                            action  \\\n",
       "0                                                           Filed for introduction   \n",
       "1                                        Introduced, Passed on First Consideration   \n",
       "2                                                                 Filed for intro.   \n",
       "3  Passed on Second Consideration, refer to Senate Government Operations Committee   \n",
       "4                                                                     Intro., P1C.   \n",
       "5                                     P2C, ref. to Government Operations Committee   \n",
       "6          Placed on Senate Government Operations Committee calendar for 2/15/2017   \n",
       "7                      Recommended for passage, refer to Senate Calendar Committee   \n",
       "8                       Placed on Senate Consent Calendar 2 calendar for 2/23/2017   \n",
       "9                      Placed on cal. Government Operations Committee for 3/1/2017   \n",
       "\n",
       "   actor  session bill_id                             type  ayes  nays  \n",
       "0  upper      110  SB 107  bill:reading:1; bill:introduced   NaN   NaN  \n",
       "1  upper      110  SB 107                  bill:introduced   NaN   NaN  \n",
       "2  lower      110  SB 107  bill:reading:1; bill:introduced   NaN   NaN  \n",
       "3  upper      110  SB 107                            other   NaN   NaN  \n",
       "4  lower      110  SB 107                  bill:introduced   NaN   NaN  \n",
       "5  lower      110  SB 107               committee:referred   NaN   NaN  \n",
       "6  upper      110  SB 107                            other   NaN   NaN  \n",
       "7  upper      110  SB 107                            other   NaN   NaN  \n",
       "8  upper      110  SB 107                            other   NaN   NaN  \n",
       "9  lower      110  SB 107                            other   NaN   NaN  "
      ]
     },
     "execution_count": 9,
     "metadata": {},
     "output_type": "execute_result"
    }
   ],
   "source": [
    "actions = pd.read_csv('../data/actions.csv')\n",
    "\n",
    "actions.drop_duplicates(['action', 'actor', 'date', 'session', 'bill_id'], inplace = True)\n",
    "actions['action'].fillna('', inplace = True)\n",
    "\n",
    "actions.head(10)"
   ]
  },
  {
   "cell_type": "code",
   "execution_count": 10,
   "metadata": {},
   "outputs": [
    {
     "data": {
      "text/plain": [
       "<matplotlib.axes._subplots.AxesSubplot at 0x10f180518>"
      ]
     },
     "execution_count": 10,
     "metadata": {},
     "output_type": "execute_result"
    },
    {
     "data": {
      "image/png": "[encoded data removed]",
      "text/plain": [
       "<matplotlib.figure.Figure at 0x113450828>"
      ]
     },
     "metadata": {},
     "output_type": "display_data"
    }
   ],
   "source": [
    "def search_actions(strings):\n",
    "    \"\"\"Search actions meeting one of a list of patterns. Strings passed as a list\n",
    "     are concatenated and used as a regex.\n",
    "\n",
    "    Returns a DataFrame with bills passing stage specified by string.\n",
    "    \"\"\"\n",
    "    pattern = '|'.join(strings)\n",
    "\n",
    "    return actions[actions.action.str.contains(pattern)] \\\n",
    "        .loc[:, ['session', 'bill_id']] \\\n",
    "        .drop_duplicates()\n",
    "\n",
    "intro = search_actions(['Filed for introduction', 'Filed for intro.']) \\\n",
    "    .assign(introduced = 1)\n",
    "\n",
    "first = search_actions(['Passed on First Consideration', 'P1C']) \\\n",
    "    .assign(first = 1)\n",
    "\n",
    "second = search_actions(['Passed on Second Consideration', 'P2C']) \\\n",
    "    .assign(second = 1)\n",
    "\n",
    "committee = search_actions(['H. Placed on Regular Calendar', 'H. Placed on Consent Calendar',\n",
    "                            'Placed on Senate Consent Calendar', 'Placed on Senate Regular Calendar']) \\\n",
    "    .assign(committee = 1)\n",
    "\n",
    "chamber = search_actions(['Passed H.', 'Passed Senate', 'Passed S.']) \\\n",
    "    .assign(chamber = 1)\n",
    "\n",
    "law = search_actions(['Signed by Governor', 'Returned by Governor without signature']) \\\n",
    "    .assign(law = 1)\n",
    "\n",
    "bills = bills \\\n",
    "    .merge(intro, how = 'left', on = ['session', 'bill_id'], validate = '1:1') \\\n",
    "    .merge(first, how = 'left', on = ['session', 'bill_id'], validate = '1:1') \\\n",
    "    .merge(second, how = 'left', on = ['session', 'bill_id'], validate = '1:1') \\\n",
    "    .merge(committee, how = 'left', on = ['session', 'bill_id'], validate = '1:1') \\\n",
    "    .merge(chamber, how = 'left', on = ['session', 'bill_id'], validate = '1:1') \\\n",
    "    .merge(law, how = 'left', on = ['session', 'bill_id'], validate = '1:1')\n",
    "\n",
    "bills[['introduced', 'first', 'second', 'committee', 'chamber', 'law']] \\\n",
    "    .sum(axis = 0) \\\n",
    "    .plot(xticks = range(7), ylim = (0, 21000))"
   ]
  },
  {
   "cell_type": "markdown",
   "metadata": {},
   "source": [
    "Note that companion bills are often introduced in both the House and Senate, so these counts overcount by about 2x.\n",
    "\n",
    "The big gatekeeper is getting past committees; most bills don't get past committee, but once they do, they stand a good chance of passing. I'll want to predict which bills get past committee.\n",
    "\n",
    "What do vote margins look like once bills get past committee?"
   ]
  },
  {
   "cell_type": "code",
   "execution_count": 11,
   "metadata": {},
   "outputs": [
    {
     "data": {
      "image/png": "[encoded data removed]",
      "text/plain": [
       "<matplotlib.figure.Figure at 0x1130db2e8>"
      ]
     },
     "metadata": {},
     "output_type": "display_data"
    }
   ],
   "source": [
    "margin = actions.query('action.str.contains(\"Failed to pass H.|Failed to pass Senate|Passed H.|Passed Senate|Passed S.\")', engine = 'python') \\\n",
    "    .assign(margin = actions['ayes'] - actions['nays'])\n",
    "\n",
    "g = sns.FacetGrid(margin, col = \"actor\", sharex = False)\n",
    "g = g.map(plt.hist, \"margin\", bins = 20)"
   ]
  },
  {
   "cell_type": "markdown",
   "metadata": {},
   "source": [
    "Once past committee, many bills are uncontroversial (pass by an all-0 vote). I'll also identify uncontroversial bills so that we can de-prioritize those."
   ]
  },
  {
   "cell_type": "code",
   "execution_count": 12,
   "metadata": {},
   "outputs": [],
   "source": [
    "actions['uncontroversial'] = pd.Series(actions['nays'] <= 1).astype(int)\n",
    "\n",
    "uncontroversial = actions \\\n",
    "    .query('action.str.contains(\"Failed to pass H.|Failed to pass Senate|Passed H.|Passed Senate|Passed S.\")', engine = 'python') \\\n",
    "    .query('actor == \"upper\" & bill_id.str.contains(\"SB\") | actor == \"lower\" & bill_id.str.contains(\"HB\")', engine = 'python') \\\n",
    "    .groupby(['session', 'bill_id']) \\\n",
    "    .agg({'uncontroversial': 'min'}) \\\n",
    "    .reset_index(drop = False)\n",
    "\n",
    "bills = bills.merge(uncontroversial, how = 'left', on = ['session', 'bill_id'], validate = '1:1')"
   ]
  },
  {
   "cell_type": "code",
   "execution_count": 13,
   "metadata": {},
   "outputs": [
    {
     "data": {
      "text/html": [
       "<div>\n",
       "<style scoped>\n",
       "    .dataframe tbody tr th:only-of-type {\n",
       "        vertical-align: middle;\n",
       "    }\n",
       "\n",
       "    .dataframe tbody tr th {\n",
       "        vertical-align: top;\n",
       "    }\n",
       "\n",
       "    .dataframe thead th {\n",
       "        text-align: right;\n",
       "    }\n",
       "</style>\n",
       "<table border=\"1\" class=\"dataframe\">\n",
       "  <thead>\n",
       "    <tr style=\"text-align: right;\">\n",
       "      <th></th>\n",
       "      <th>bill_id</th>\n",
       "      <th>session</th>\n",
       "      <th>subjects</th>\n",
       "      <th>title</th>\n",
       "      <th>sponsors</th>\n",
       "      <th>my_legislators</th>\n",
       "      <th>my_city_county</th>\n",
       "      <th>my_subjects</th>\n",
       "      <th>introduced</th>\n",
       "      <th>first</th>\n",
       "      <th>second</th>\n",
       "      <th>committee</th>\n",
       "      <th>chamber</th>\n",
       "      <th>law</th>\n",
       "      <th>uncontroversial</th>\n",
       "    </tr>\n",
       "  </thead>\n",
       "  <tbody>\n",
       "    <tr>\n",
       "      <th>0</th>\n",
       "      <td>SB 107</td>\n",
       "      <td>110</td>\n",
       "      <td>Government Reform</td>\n",
       "      <td>Sunset Laws - As enacted, extends the Tennessee life and health insurance guaranty association five years to June 30, 2022.</td>\n",
       "      <td>Bell; Faison</td>\n",
       "      <td>0</td>\n",
       "      <td>0</td>\n",
       "      <td>0</td>\n",
       "      <td>1</td>\n",
       "      <td>1.0</td>\n",
       "      <td>1.0</td>\n",
       "      <td>1.0</td>\n",
       "      <td>1.0</td>\n",
       "      <td>1.0</td>\n",
       "      <td>1.0</td>\n",
       "    </tr>\n",
       "  </tbody>\n",
       "</table>\n",
       "</div>"
      ],
      "text/plain": [
       "  bill_id  session           subjects  \\\n",
       "0  SB 107      110  Government Reform   \n",
       "\n",
       "                                                                                                                         title  \\\n",
       "0  Sunset Laws - As enacted, extends the Tennessee life and health insurance guaranty association five years to June 30, 2022.   \n",
       "\n",
       "       sponsors  my_legislators  my_city_county  my_subjects  introduced  \\\n",
       "0  Bell; Faison               0               0            0           1   \n",
       "\n",
       "   first  second  committee  chamber  law  uncontroversial  \n",
       "0    1.0     1.0        1.0      1.0  1.0              1.0  "
      ]
     },
     "execution_count": 13,
     "metadata": {},
     "output_type": "execute_result"
    }
   ],
   "source": [
    "bills.head(1)"
   ]
  },
  {
   "cell_type": "markdown",
   "metadata": {},
   "source": [
    "Counts of bills getting past committee, signed into law, and uncontroversial bills (recall about 2x overcounting of companion bills):"
   ]
  },
  {
   "cell_type": "markdown",
   "metadata": {},
   "source": [
    "Of course, we know what happens to bills retrospectively. However, it would be helpful to know whether bills will go to a vote and/or be uncontroversial as they are introduced so that one might be able to influence legislation through calling one's legislators, etc. \n",
    "\n",
    "I use **machine learning** to predict these outcomes. The idea is to information about what bills have gone to a vote/been uncontroversial in the past to predict which bills will go to a vote/be uncontroversial in the future.\n",
    "\n",
    "I use spaCy to do some preprocessing (drop stop words, lemmatize, and keep only certain parts of speech). I then use a TF-IDF representation and regularized logistic regression for classification."
   ]
  },
  {
   "cell_type": "code",
   "execution_count": 14,
   "metadata": {},
   "outputs": [],
   "source": [
    "import spacy\n",
    "from nltk.corpus import stopwords\n",
    "\n",
    "# Use spaCy annotator and convert to data frame with one token per row\n",
    "nlp = spacy.load('en')\n",
    "\n",
    "tokens = []\n",
    "\n",
    "for doc in nlp.pipe(bills['title'], batch_size = 50):\n",
    "    tokens.append([(n.text, n.lemma_, n.pos_) for n in doc])\n",
    "\n",
    "# Convert tokens and entities to DataFrames and combine\n",
    "annotation_df = pd.concat(\n",
    "    [pd.DataFrame(tokens[i], columns = ['token', 'lemma', 'pos'])\n",
    "        .assign(bill = i)\n",
    "     for i in range(len(tokens))]\n",
    ") \\\n",
    "    .reset_index()"
   ]
  },
  {
   "cell_type": "code",
   "execution_count": 15,
   "metadata": {},
   "outputs": [],
   "source": [
    "# Drop and modify tokens depending of part of speech\n",
    "# https://spacy.io/api/annotation#pos-tagging\n",
    "annotation_df = annotation_df[annotation_df['pos'].isin(['NOUN', 'VERB', 'PROPN'])]\n",
    "\n",
    "# Drop anything with nonword characters\n",
    "annotation_df = annotation_df[~annotation_df['token'].str.contains(\"\\\\W|[0-9]\")]\n",
    "\n",
    "# Drop stopwords\n",
    "annotation_df = annotation_df[~annotation_df['token'].isin(stopwords.words('english'))]\n",
    "\n",
    "preprocess = pd.Series(\n",
    "    [' '.join(annotation_df[annotation_df['bill'] == i]['lemma']) for i in range(len(bills))]\n",
    ")"
   ]
  },
  {
   "cell_type": "markdown",
   "metadata": {},
   "source": [
    "Add search terms of interest (should resolve differences in inflection):"
   ]
  },
  {
   "cell_type": "code",
   "execution_count": 16,
   "metadata": {},
   "outputs": [],
   "source": [
    "from nltk.stem import WordNetLemmatizer\n",
    "\n",
    "my_terms = ['test', 'assessment', \"TNReady\", 'priority', \"ASD\"]\n",
    "my_terms = [WordNetLemmatizer().lemmatize(i) for i in my_terms]\n",
    "\n",
    "bills['my_terms'] = [int(max([j in annotation_df[annotation_df['bill'] == i]['lemma'].values for j in my_terms])) for i in range(len(bills))]"
   ]
  },
  {
   "cell_type": "code",
   "execution_count": 17,
   "metadata": {},
   "outputs": [],
   "source": [
    "# A TF-IDF representation\n",
    "from sklearn.feature_extraction.text import TfidfVectorizer\n",
    "\n",
    "tf = TfidfVectorizer(min_df = 10, ngram_range=(1, 3))\n",
    "\n",
    "X_tfidf = tf.fit_transform(preprocess)"
   ]
  },
  {
   "cell_type": "markdown",
   "metadata": {},
   "source": [
    "To mimic prediction, I use the most recent session as test set and all prior as training:"
   ]
  },
  {
   "cell_type": "code",
   "execution_count": 18,
   "metadata": {},
   "outputs": [
    {
     "data": {
      "text/plain": [
       "110    5485\n",
       "109    5357\n",
       "108    5204\n",
       "107    4043\n",
       "Name: session, dtype: int64"
      ]
     },
     "execution_count": 18,
     "metadata": {},
     "output_type": "execute_result"
    }
   ],
   "source": [
    "bills['session'].value_counts()"
   ]
  },
  {
   "cell_type": "code",
   "execution_count": 19,
   "metadata": {},
   "outputs": [],
   "source": [
    "train_count = sum(bills['session'] != 110)\n",
    "\n",
    "X_train = X_tfidf[:train_count]\n",
    "X_test = X_tfidf[train_count:]\n",
    "\n",
    "bills['committee'].fillna(0, inplace = True)\n",
    "Y_train_vote = bills['committee'][:train_count]\n",
    "Y_test_vote = bills['committee'][train_count:]\n",
    "\n",
    "bills['uncontroversial'].fillna(0, inplace = True)\n",
    "Y_train_uncontroversial = bills['uncontroversial'][:train_count]\n",
    "Y_test_uncontroversial = bills['uncontroversial'][train_count:]"
   ]
  },
  {
   "cell_type": "markdown",
   "metadata": {},
   "source": [
    "I train a model to identify bills which go to a vote, predict on the test set, then check accuracy:"
   ]
  },
  {
   "cell_type": "code",
   "execution_count": 20,
   "metadata": {},
   "outputs": [
    {
     "data": {
      "text/plain": [
       "0.0    11188\n",
       "1.0     8901\n",
       "Name: committee, dtype: int64"
      ]
     },
     "execution_count": 20,
     "metadata": {},
     "output_type": "execute_result"
    }
   ],
   "source": [
    "bills['committee'].value_counts()"
   ]
  },
  {
   "cell_type": "code",
   "execution_count": 21,
   "metadata": {},
   "outputs": [
    {
     "data": {
      "text/plain": [
       "0.9456700091157703"
      ]
     },
     "execution_count": 21,
     "metadata": {},
     "output_type": "execute_result"
    }
   ],
   "source": [
    "# Elastic Net\n",
    "from sklearn.linear_model import SGDClassifier\n",
    "from sklearn.metrics import accuracy_score\n",
    "from sklearn.model_selection import GridSearchCV\n",
    "\n",
    "params = {\n",
    "    'alpha': 10.0 ** -np.arange(3, 7),\n",
    "    'l1_ratio': np.arange(0, 1, 0.2)\n",
    "}\n",
    "\n",
    "elastic_net = GridSearchCV(SGDClassifier(loss = \"log\", max_iter = 250), params, cv = 5)\n",
    "\n",
    "elastic_net_vote = elastic_net.fit(X_train, Y_train_vote)\n",
    "\n",
    "# Save predictions for later\n",
    "predict_vote = elastic_net_vote.predict(X_test).astype(int)\n",
    "\n",
    "accuracy_score(predict_vote, Y_test_vote)"
   ]
  },
  {
   "cell_type": "code",
   "execution_count": 22,
   "metadata": {},
   "outputs": [
    {
     "data": {
      "text/plain": [
       "<matplotlib.axes._subplots.AxesSubplot at 0x1a4677da90>"
      ]
     },
     "execution_count": 22,
     "metadata": {},
     "output_type": "execute_result"
    },
    {
     "data": {
      "image/png": "[encoded data removed]",
      "text/plain": [
       "<matplotlib.figure.Figure at 0x1a4677d390>"
      ]
     },
     "metadata": {},
     "output_type": "display_data"
    }
   ],
   "source": [
    "data = pd.DataFrame({\n",
    "    'vote': Y_test_vote,\n",
    "    'predicted_probs': elastic_net_vote.predict_proba(X_test)[:, 1]\n",
    "})\n",
    "\n",
    "sns.stripplot(x = 'vote', y = 'predicted_probs', data = data, jitter = True)"
   ]
  },
  {
   "cell_type": "markdown",
   "metadata": {},
   "source": [
    "Repeat to predict uncontroversial bills:"
   ]
  },
  {
   "cell_type": "code",
   "execution_count": 23,
   "metadata": {},
   "outputs": [
    {
     "data": {
      "text/plain": [
       "0.0    13245\n",
       "1.0     6844\n",
       "Name: uncontroversial, dtype: int64"
      ]
     },
     "execution_count": 23,
     "metadata": {},
     "output_type": "execute_result"
    }
   ],
   "source": [
    "bills['uncontroversial'].value_counts()"
   ]
  },
  {
   "cell_type": "code",
   "execution_count": 24,
   "metadata": {},
   "outputs": [
    {
     "data": {
      "text/plain": [
       "0.9279854147675478"
      ]
     },
     "execution_count": 24,
     "metadata": {},
     "output_type": "execute_result"
    }
   ],
   "source": [
    "# Predict uncontroversial\n",
    "elastic_net_uncontroversial = elastic_net.fit(X_train, Y_train_uncontroversial)\n",
    "\n",
    "# Save predictions for later\n",
    "predict_uncontroversial = elastic_net_uncontroversial.predict(X_test).astype(int)\n",
    "\n",
    "accuracy_score(predict_uncontroversial, Y_test_uncontroversial)"
   ]
  },
  {
   "cell_type": "code",
   "execution_count": 25,
   "metadata": {},
   "outputs": [
    {
     "data": {
      "text/plain": [
       "<matplotlib.axes._subplots.AxesSubplot at 0x1a46bdce80>"
      ]
     },
     "execution_count": 25,
     "metadata": {},
     "output_type": "execute_result"
    },
    {
     "data": {
      "image/png": "[encoded data removed]",
      "text/plain": [
       "<matplotlib.figure.Figure at 0x112dbd358>"
      ]
     },
     "metadata": {},
     "output_type": "display_data"
    }
   ],
   "source": [
    "data = pd.DataFrame({\n",
    "    'uncontroversial': Y_test_uncontroversial,\n",
    "    'predicted_probs': elastic_net_uncontroversial.predict_proba(X_test)[:, 1]\n",
    "})\n",
    "\n",
    "sns.stripplot(x = 'uncontroversial', y = 'predicted_probs', data = data, jitter = True)"
   ]
  },
  {
   "cell_type": "markdown",
   "metadata": {},
   "source": [
    "Check that we get some bills predicted to get a vote but not be uncontroversial:"
   ]
  },
  {
   "cell_type": "code",
   "execution_count": 26,
   "metadata": {},
   "outputs": [
    {
     "data": {
      "text/plain": [
       "170"
      ]
     },
     "execution_count": 26,
     "metadata": {},
     "output_type": "execute_result"
    }
   ],
   "source": [
    "sum(predict_vote != predict_uncontroversial)"
   ]
  },
  {
   "cell_type": "code",
   "execution_count": 27,
   "metadata": {},
   "outputs": [],
   "source": [
    "# Predictions\n",
    "prediction_set = bills[bills['session'] == 110] \\\n",
    "    .assign(\n",
    "        predict_vote = predict_vote,\n",
    "        predict_uncontroversial = predict_uncontroversial\n",
    "    ) \\\n",
    "    .loc[:, ['title', 'my_legislators', 'my_city_county', 'my_subjects', 'my_terms', 'predict_vote', 'predict_uncontroversial']]\n",
    "\n",
    "# Sort results by descending order of the number of categories matched\n",
    "prediction_set['counts'] = \\\n",
    "    prediction_set['my_city_county'] + prediction_set['my_legislators'] + \\\n",
    "    prediction_set['my_subjects'] + prediction_set['my_terms'] + \\\n",
    "    ((prediction_set['predict_vote'] == 1) & (prediction_set['predict_uncontroversial'] == 0)) \\\n",
    "    .astype(int)"
   ]
  },
  {
   "cell_type": "markdown",
   "metadata": {},
   "source": [
    "An answer to \"What legislation should I pay attention to?\" might look like the following:"
   ]
  },
  {
   "cell_type": "code",
   "execution_count": 28,
   "metadata": {},
   "outputs": [
    {
     "data": {
      "text/html": [
       "<div>\n",
       "<style scoped>\n",
       "    .dataframe tbody tr th:only-of-type {\n",
       "        vertical-align: middle;\n",
       "    }\n",
       "\n",
       "    .dataframe tbody tr th {\n",
       "        vertical-align: top;\n",
       "    }\n",
       "\n",
       "    .dataframe thead th {\n",
       "        text-align: right;\n",
       "    }\n",
       "</style>\n",
       "<table border=\"1\" class=\"dataframe\">\n",
       "  <thead>\n",
       "    <tr style=\"text-align: right;\">\n",
       "      <th></th>\n",
       "      <th>title</th>\n",
       "      <th>my_legislators</th>\n",
       "      <th>my_city_county</th>\n",
       "      <th>my_subjects</th>\n",
       "      <th>my_terms</th>\n",
       "      <th>predict_vote</th>\n",
       "      <th>predict_uncontroversial</th>\n",
       "      <th>counts</th>\n",
       "    </tr>\n",
       "  </thead>\n",
       "  <tbody>\n",
       "    <tr>\n",
       "      <th>1542</th>\n",
       "      <td>Schools, Charter - As introduced, requires public charter schools receiving identification as a priority school to develop a school improvement plan within 90 days of identification; revokes a charter school agreement or denies renewal of the agreement if the charter school remains a priority school for two consecutive cycles.</td>\n",
       "      <td>0</td>\n",
       "      <td>0</td>\n",
       "      <td>1</td>\n",
       "      <td>1</td>\n",
       "      <td>1</td>\n",
       "      <td>0</td>\n",
       "      <td>3</td>\n",
       "    </tr>\n",
       "    <tr>\n",
       "      <th>8</th>\n",
       "      <td>Education - As enacted, provides that no adverse action may be taken against any student, teacher, school, or LEA based, in whole or in part, on student achievement data generated from the 2017-2018 TNReady assessments.</td>\n",
       "      <td>0</td>\n",
       "      <td>0</td>\n",
       "      <td>1</td>\n",
       "      <td>1</td>\n",
       "      <td>1</td>\n",
       "      <td>1</td>\n",
       "      <td>2</td>\n",
       "    </tr>\n",
       "    <tr>\n",
       "      <th>4549</th>\n",
       "      <td>Lottery, Scholarships and Programs - As introduced, specifies that semester hours earned in ROTC courses by ROTC students do not count toward the semester hour limitation for receipt of the Tennessee HOPE scholarship; excludes grades received in ROTC courses from the calculation of an ROTC student's grade point average for Tennessee HOPE scholarship purposes.</td>\n",
       "      <td>0</td>\n",
       "      <td>0</td>\n",
       "      <td>1</td>\n",
       "      <td>0</td>\n",
       "      <td>1</td>\n",
       "      <td>0</td>\n",
       "      <td>2</td>\n",
       "    </tr>\n",
       "    <tr>\n",
       "      <th>584</th>\n",
       "      <td>Education - As introduced, requires a local board of education to hold a hearing within 30 days of, rather than within a reasonable time after, its receipt of an application for a hearing to contest the reasonableness of a student assignment.</td>\n",
       "      <td>0</td>\n",
       "      <td>0</td>\n",
       "      <td>1</td>\n",
       "      <td>0</td>\n",
       "      <td>1</td>\n",
       "      <td>0</td>\n",
       "      <td>2</td>\n",
       "    </tr>\n",
       "    <tr>\n",
       "      <th>586</th>\n",
       "      <td>Education - As introduced, requires driver education courses to include an area of instruction on the impact of talking and texting on a mobile phone on a student's driving abilities.</td>\n",
       "      <td>1</td>\n",
       "      <td>0</td>\n",
       "      <td>1</td>\n",
       "      <td>0</td>\n",
       "      <td>0</td>\n",
       "      <td>0</td>\n",
       "      <td>2</td>\n",
       "    </tr>\n",
       "    <tr>\n",
       "      <th>4529</th>\n",
       "      <td>Teachers, Principals and School Personnel - As enacted, authorizes a school counselor to refer or help facilitate a referral of a parent or legal guardian's student to a counselor or therapist for mental health assessments or services.</td>\n",
       "      <td>0</td>\n",
       "      <td>0</td>\n",
       "      <td>1</td>\n",
       "      <td>1</td>\n",
       "      <td>0</td>\n",
       "      <td>0</td>\n",
       "      <td>2</td>\n",
       "    </tr>\n",
       "    <tr>\n",
       "      <th>3786</th>\n",
       "      <td>Education - As introduced, creates a tuition assistance program from proceeds of the state lottery to develop a two-year pilot program that allows Fairview High School students to participate in dual enrollment at Columbia State Community College and earn an associate degree in advanced manufacturing courses.</td>\n",
       "      <td>0</td>\n",
       "      <td>0</td>\n",
       "      <td>1</td>\n",
       "      <td>0</td>\n",
       "      <td>1</td>\n",
       "      <td>0</td>\n",
       "      <td>2</td>\n",
       "    </tr>\n",
       "    <tr>\n",
       "      <th>596</th>\n",
       "      <td>Education - As introduced, makes various changes to the assessments and evaluation systems used in K-12 education.</td>\n",
       "      <td>0</td>\n",
       "      <td>0</td>\n",
       "      <td>1</td>\n",
       "      <td>1</td>\n",
       "      <td>0</td>\n",
       "      <td>0</td>\n",
       "      <td>2</td>\n",
       "    </tr>\n",
       "    <tr>\n",
       "      <th>5053</th>\n",
       "      <td>School Vouchers - As introduced, allows students who have been diagnosed with a disability by a licensed physician or psychologist to be considered an eligible student for the Individualized Education Act.</td>\n",
       "      <td>1</td>\n",
       "      <td>0</td>\n",
       "      <td>1</td>\n",
       "      <td>0</td>\n",
       "      <td>0</td>\n",
       "      <td>0</td>\n",
       "      <td>2</td>\n",
       "    </tr>\n",
       "    <tr>\n",
       "      <th>2454</th>\n",
       "      <td>Teachers, Principals and School Personnel - As introduced, exempts supervisors, principals, and public school teachers from having to take an assessment to advance, renew, or initially obtain a practitioner level teaching license if at the time of application for initial license the person possessed the equivalent of a practitioner level teaching license in a state that has a reciprocal agreement with the state board of education.</td>\n",
       "      <td>0</td>\n",
       "      <td>0</td>\n",
       "      <td>1</td>\n",
       "      <td>1</td>\n",
       "      <td>0</td>\n",
       "      <td>0</td>\n",
       "      <td>2</td>\n",
       "    </tr>\n",
       "  </tbody>\n",
       "</table>\n",
       "</div>"
      ],
      "text/plain": [
       "                                                                                                                                                                                                                                                                                                                                                                                                                                                   title  \\\n",
       "1542                                                                                                            Schools, Charter - As introduced, requires public charter schools receiving identification as a priority school to develop a school improvement plan within 90 days of identification; revokes a charter school agreement or denies renewal of the agreement if the charter school remains a priority school for two consecutive cycles.   \n",
       "8                                                                                                                                                                                                                            Education - As enacted, provides that no adverse action may be taken against any student, teacher, school, or LEA based, in whole or in part, on student achievement data generated from the 2017-2018 TNReady assessments.   \n",
       "4549                                                                           Lottery, Scholarships and Programs - As introduced, specifies that semester hours earned in ROTC courses by ROTC students do not count toward the semester hour limitation for receipt of the Tennessee HOPE scholarship; excludes grades received in ROTC courses from the calculation of an ROTC student's grade point average for Tennessee HOPE scholarship purposes.   \n",
       "584                                                                                                                                                                                                   Education - As introduced, requires a local board of education to hold a hearing within 30 days of, rather than within a reasonable time after, its receipt of an application for a hearing to contest the reasonableness of a student assignment.   \n",
       "586                                                                                                                                                                                                                                                              Education - As introduced, requires driver education courses to include an area of instruction on the impact of talking and texting on a mobile phone on a student's driving abilities.   \n",
       "4529                                                                                                                                                                                                         Teachers, Principals and School Personnel - As enacted, authorizes a school counselor to refer or help facilitate a referral of a parent or legal guardian's student to a counselor or therapist for mental health assessments or services.   \n",
       "3786                                                                                                                              Education - As introduced, creates a tuition assistance program from proceeds of the state lottery to develop a two-year pilot program that allows Fairview High School students to participate in dual enrollment at Columbia State Community College and earn an associate degree in advanced manufacturing courses.   \n",
       "596                                                                                                                                                                                                                                                                                                                                   Education - As introduced, makes various changes to the assessments and evaluation systems used in K-12 education.   \n",
       "5053                                                                                                                                                                                                                                       School Vouchers - As introduced, allows students who have been diagnosed with a disability by a licensed physician or psychologist to be considered an eligible student for the Individualized Education Act.   \n",
       "2454  Teachers, Principals and School Personnel - As introduced, exempts supervisors, principals, and public school teachers from having to take an assessment to advance, renew, or initially obtain a practitioner level teaching license if at the time of application for initial license the person possessed the equivalent of a practitioner level teaching license in a state that has a reciprocal agreement with the state board of education.   \n",
       "\n",
       "      my_legislators  my_city_county  my_subjects  my_terms  predict_vote  \\\n",
       "1542               0               0            1         1             1   \n",
       "8                  0               0            1         1             1   \n",
       "4549               0               0            1         0             1   \n",
       "584                0               0            1         0             1   \n",
       "586                1               0            1         0             0   \n",
       "4529               0               0            1         1             0   \n",
       "3786               0               0            1         0             1   \n",
       "596                0               0            1         1             0   \n",
       "5053               1               0            1         0             0   \n",
       "2454               0               0            1         1             0   \n",
       "\n",
       "      predict_uncontroversial  counts  \n",
       "1542                        0       3  \n",
       "8                           1       2  \n",
       "4549                        0       2  \n",
       "584                         0       2  \n",
       "586                         0       2  \n",
       "4529                        0       2  \n",
       "3786                        0       2  \n",
       "596                         0       2  \n",
       "5053                        0       2  \n",
       "2454                        0       2  "
      ]
     },
     "execution_count": 28,
     "metadata": {},
     "output_type": "execute_result"
    }
   ],
   "source": [
    "prediction_set \\\n",
    "    .query('my_city_county == 1 | my_legislators == 1 | my_subjects == 1 | my_terms == 1 | (predict_vote == 1 & predict_uncontroversial == 0)') \\\n",
    "    .sort_values(by = 'counts', ascending = False) \\\n",
    "    .head(10)"
   ]
  }
 ],
 "metadata": {
  "kernelspec": {
   "display_name": "Python [default]",
   "language": "python",
   "name": "python3"
  },
  "language_info": {
   "codemirror_mode": {
    "name": "ipython",
    "version": 3
   },
   "file_extension": ".py",
   "mimetype": "text/x-python",
   "name": "python",
   "nbconvert_exporter": "python",
   "pygments_lexer": "ipython3",
   "version": "3.6.8"
  }
 },
 "nbformat": 4,
 "nbformat_minor": 2
}
