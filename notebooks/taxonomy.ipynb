{
 "cells": [
  {
   "cell_type": "markdown",
   "metadata": {},
   "source": [
    "## A Taxonomy of TN Legislation\n",
    "\n",
    "Using NLP, I look to answer the question: **What (state) legislation should I pay attention to?**\n",
    "\n",
    "This might include legislation that:\n",
    "\n",
    "- pertains to local issues in the city/town/county where I live\n",
    "- pertains to issues I care about (e.g.: education)\n",
    "- is introduced by my Representative/Senator\n",
    "- is contentious (comes down to a close or party line vote)\n",
    "\n",
    "and might not include legislation that:\n",
    "\n",
    "- is uncontroversial (e.g., probably going to pass unanimously)\n",
    "- has no chance of passing\n",
    "\n",
    "Of course, these categories aren't mutually exclusive. I tag legislation meeting each characteristic individually so that we might look at bills meeting any combination of these criteria."
   ]
  },
  {
   "cell_type": "code",
   "execution_count": 1,
   "metadata": {},
   "outputs": [],
   "source": [
    "# Preliminaries\n",
    "import numpy as np\n",
    "import pandas as pd\n",
    "import matplotlib.pyplot as plt\n",
    "import seaborn as sns\n",
    "\n",
    "%matplotlib inline\n",
    "\n",
    "pd.options.display.max_colwidth = 1000"
   ]
  },
  {
   "cell_type": "markdown",
   "metadata": {},
   "source": [
    "Data comes from [OpenStates](https://openstates.org/), which provides comprehensive information pertaining to state legislators and legislation for all 50 states, DC and Puerto Rico, including bill text, topics, sponsors, progress through committees, amendments, vote tallies and votes by individual legislators.\n",
    "\n",
    "OpenStates makes data available via an API, which I access using the [pyopenstates](http://docs.openstates.org/en/latest/api/) module."
   ]
  },
  {
   "cell_type": "code",
   "execution_count": 2,
   "metadata": {},
   "outputs": [
    {
     "data": {
      "text/html": [
       "<div>\n",
       "<style scoped>\n",
       "    .dataframe tbody tr th:only-of-type {\n",
       "        vertical-align: middle;\n",
       "    }\n",
       "\n",
       "    .dataframe tbody tr th {\n",
       "        vertical-align: top;\n",
       "    }\n",
       "\n",
       "    .dataframe thead th {\n",
       "        text-align: right;\n",
       "    }\n",
       "</style>\n",
       "<table border=\"1\" class=\"dataframe\">\n",
       "  <thead>\n",
       "    <tr style=\"text-align: right;\">\n",
       "      <th></th>\n",
       "      <th>session</th>\n",
       "      <th>bill_id</th>\n",
       "      <th>title</th>\n",
       "      <th>subjects</th>\n",
       "      <th>sponsors</th>\n",
       "    </tr>\n",
       "  </thead>\n",
       "  <tbody>\n",
       "    <tr>\n",
       "      <th>0</th>\n",
       "      <td>107</td>\n",
       "      <td>HB 1</td>\n",
       "      <td>Taxes, Sales - As introduced, extends existing law that allows persons receiving FEMA assistance from May 2010 flood damage to apply for sales tax refunds for certain residential purchases; permits refunds for eligible purchases made between October 1, 2010, and May 1, 2011.</td>\n",
       "      <td>Business and Consumers|Budget, Spending, and Taxes</td>\n",
       "      <td>Henry|Moore</td>\n",
       "    </tr>\n",
       "    <tr>\n",
       "      <th>1</th>\n",
       "      <td>107</td>\n",
       "      <td>HB 10</td>\n",
       "      <td>Highway Signs - As enacted, designates \"Benjamin C. \"Pat\" Hartman, Jr. Memorial Bridge\" on S.R. 386 in Sumner County. -</td>\n",
       "      <td>Transportation</td>\n",
       "      <td>Tracy|Maggart</td>\n",
       "    </tr>\n",
       "    <tr>\n",
       "      <th>2</th>\n",
       "      <td>107</td>\n",
       "      <td>HB 100</td>\n",
       "      <td>Taxes, Exemption and Credits - As introduced, requires the commissioner to study the feasibility of sunsetting sales exemptions on a staggered schedule to be followed by their reauthorization every 10 years.</td>\n",
       "      <td>Budget, Spending, and Taxes</td>\n",
       "      <td>Ford|Hardaway</td>\n",
       "    </tr>\n",
       "    <tr>\n",
       "      <th>3</th>\n",
       "      <td>107</td>\n",
       "      <td>HB 1000</td>\n",
       "      <td>Veterans' Affairs, Dept. of - As enacted, renames the \"Tennessee distinguished service medal\" as the \"Tennessee fallen heroes medal\".</td>\n",
       "      <td>Military|Legislative Affairs</td>\n",
       "      <td>Yager|Todd</td>\n",
       "    </tr>\n",
       "    <tr>\n",
       "      <th>4</th>\n",
       "      <td>107</td>\n",
       "      <td>HB 1001</td>\n",
       "      <td>Workers Compensation - As introduced, increases the time in which the secretary of state has to return an application for a construction services provider's workers' compensation exemption from 10 to 14 days.</td>\n",
       "      <td>Labor and Employment</td>\n",
       "      <td>Johnson|Eldridge</td>\n",
       "    </tr>\n",
       "    <tr>\n",
       "      <th>5</th>\n",
       "      <td>107</td>\n",
       "      <td>HB 1002</td>\n",
       "      <td>Campaigns and Campaign Finance - As introduced, increases contribution limits by 20% and then ties future increases to reflect change in the CPI; allows corporations to contribute to candidates.</td>\n",
       "      <td>Campaign Finance and Election Issues</td>\n",
       "      <td>Casada</td>\n",
       "    </tr>\n",
       "    <tr>\n",
       "      <th>6</th>\n",
       "      <td>107</td>\n",
       "      <td>HB 1003</td>\n",
       "      <td>Campaigns and Campaign Finance - As enacted, increases contribution limits to reflect change in the CPI; allows corporations to contribute to candidates; revises certain other provisions regarding campaign funds.</td>\n",
       "      <td>Campaign Finance and Election Issues</td>\n",
       "      <td>Woodson|Casada</td>\n",
       "    </tr>\n",
       "    <tr>\n",
       "      <th>7</th>\n",
       "      <td>107</td>\n",
       "      <td>HB 1004</td>\n",
       "      <td>Salaries and Benefits - As introduced, authorizes an employer subject to certain state employment law penalties to send written notification of the employer's intention to challenge the assessment of penalties electronically to an e-mail address designated by the commissioner of labor and workforce development.</td>\n",
       "      <td>Labor and Employment</td>\n",
       "      <td>Finney L|Stewart</td>\n",
       "    </tr>\n",
       "    <tr>\n",
       "      <th>8</th>\n",
       "      <td>107</td>\n",
       "      <td>HB 1005</td>\n",
       "      <td>Salaries and Benefits - As introduced, requires employers to pay tipped employees wages at a rate of at least $6.55 per hour.</td>\n",
       "      <td>Labor and Employment</td>\n",
       "      <td>Marrero|Stewart</td>\n",
       "    </tr>\n",
       "    <tr>\n",
       "      <th>9</th>\n",
       "      <td>107</td>\n",
       "      <td>HB 1006</td>\n",
       "      <td>Education - As introduced, requires the commissioner of education to submit annual report as of each December 1, rather than November 1.</td>\n",
       "      <td>Education</td>\n",
       "      <td>Marrero|Stewart</td>\n",
       "    </tr>\n",
       "  </tbody>\n",
       "</table>\n",
       "</div>"
      ],
      "text/plain": [
       "   session  bill_id  \\\n",
       "0      107     HB 1   \n",
       "1      107    HB 10   \n",
       "2      107   HB 100   \n",
       "3      107  HB 1000   \n",
       "4      107  HB 1001   \n",
       "5      107  HB 1002   \n",
       "6      107  HB 1003   \n",
       "7      107  HB 1004   \n",
       "8      107  HB 1005   \n",
       "9      107  HB 1006   \n",
       "\n",
       "                                                                                                                                                                                                                                                                                                                      title  \\\n",
       "0                                       Taxes, Sales - As introduced, extends existing law that allows persons receiving FEMA assistance from May 2010 flood damage to apply for sales tax refunds for certain residential purchases; permits refunds for eligible purchases made between October 1, 2010, and May 1, 2011.   \n",
       "1                                                                                                                                                                                                  Highway Signs - As enacted, designates \"Benjamin C. \"Pat\" Hartman, Jr. Memorial Bridge\" on S.R. 386 in Sumner County. -    \n",
       "2                                                                                                           Taxes, Exemption and Credits - As introduced, requires the commissioner to study the feasibility of sunsetting sales exemptions on a staggered schedule to be followed by their reauthorization every 10 years.   \n",
       "3                                                                                                                                                                                     Veterans' Affairs, Dept. of - As enacted, renames the \"Tennessee distinguished service medal\" as the \"Tennessee fallen heroes medal\".   \n",
       "4                                                                                                          Workers Compensation - As introduced, increases the time in which the secretary of state has to return an application for a construction services provider's workers' compensation exemption from 10 to 14 days.   \n",
       "5                                                                                                                        Campaigns and Campaign Finance - As introduced, increases contribution limits by 20% and then ties future increases to reflect change in the CPI; allows corporations to contribute to candidates.   \n",
       "6                                                                                                      Campaigns and Campaign Finance - As enacted, increases contribution limits to reflect change in the CPI; allows corporations to contribute to candidates; revises certain other provisions regarding campaign funds.   \n",
       "7  Salaries and Benefits - As introduced, authorizes an employer subject to certain state employment law penalties to send written notification of the employer's intention to challenge the assessment of penalties electronically to an e-mail address designated by the commissioner of labor and workforce development.   \n",
       "8                                                                                                                                                                                             Salaries and Benefits - As introduced, requires employers to pay tipped employees wages at a rate of at least $6.55 per hour.   \n",
       "9                                                                                                                                                                                  Education - As introduced, requires the commissioner of education to submit annual report as of each December 1, rather than November 1.   \n",
       "\n",
       "                                             subjects          sponsors  \n",
       "0  Business and Consumers|Budget, Spending, and Taxes       Henry|Moore  \n",
       "1                                      Transportation     Tracy|Maggart  \n",
       "2                         Budget, Spending, and Taxes     Ford|Hardaway  \n",
       "3                        Military|Legislative Affairs        Yager|Todd  \n",
       "4                                Labor and Employment  Johnson|Eldridge  \n",
       "5                Campaign Finance and Election Issues            Casada  \n",
       "6                Campaign Finance and Election Issues    Woodson|Casada  \n",
       "7                                Labor and Employment  Finney L|Stewart  \n",
       "8                                Labor and Employment   Marrero|Stewart  \n",
       "9                                           Education   Marrero|Stewart  "
      ]
     },
     "execution_count": 2,
     "metadata": {},
     "output_type": "execute_result"
    }
   ],
   "source": [
    "sponsors = pd.read_csv(\"../data/tn_bill_sponsors.csv\") \\\n",
    "    .groupby(['session', 'bill_id']) \\\n",
    "    .agg({'name': lambda x: '|'.join(x)}) \\\n",
    "    .rename(columns={'name': 'sponsors'}) \\\n",
    "    .reset_index()\n",
    "\n",
    "bills = pd.read_csv('../data/tn_bills.csv') \\\n",
    "    .query('type == \"bill\"') \\\n",
    "    .merge(sponsors, on=['session', 'bill_id'], validate='1:1') \\\n",
    "    .loc[:, ['session', 'bill_id', 'title', 'subjects', 'sponsors']]\n",
    "\n",
    "# Remove the 'Amends TCA Title x, Chapter y' from bill titles\n",
    "bills['title'] = bills['title'].str.replace(' - Amends.+$', '')\n",
    "\n",
    "bills.head(10)"
   ]
  },
  {
   "cell_type": "markdown",
   "metadata": {},
   "source": [
    "From this, I can tag legislation introduced by my legislators, pertaining to the city/county where I live, and relates to subjects I'm interested in."
   ]
  },
  {
   "cell_type": "code",
   "execution_count": 3,
   "metadata": {},
   "outputs": [
    {
     "name": "stdout",
     "output_type": "stream",
     "text": [
      "['Gilmore', 'Beck']\n"
     ]
    }
   ],
   "source": [
    "# Use pyopenstates to identify my legislators from location\n",
    "from os import environ\n",
    "from pyopenstates import set_api_key, locate_legislators\n",
    "\n",
    "set_api_key(environ.get('OPENSTATES_KEY'))  # Get key here: https://openstates.org/api/register/\n",
    "\n",
    "my_legislators = [i.get('last_name') for i in locate_legislators(36.157612, -86.767337)]\n",
    "\n",
    "print(my_legislators)"
   ]
  },
  {
   "cell_type": "code",
   "execution_count": 4,
   "metadata": {},
   "outputs": [],
   "source": [
    "# Tag legislation introducted by my legislators\n",
    "bills['my_legislators'] = bills['sponsors'].str.contains('|'.join(my_legislators)) \\\n",
    "    .fillna(False) \\\n",
    "    .astype(int)"
   ]
  },
  {
   "cell_type": "code",
   "execution_count": 5,
   "metadata": {},
   "outputs": [
    {
     "name": "stdout",
     "output_type": "stream",
     "text": [
      "Nashville-Davidson, Davidson County\n"
     ]
    }
   ],
   "source": [
    "# Identify my city, county from location\n",
    "from geopy.geocoders import Nominatim\n",
    "\n",
    "geolocator = Nominatim(user_agent='me')\n",
    "\n",
    "location = geolocator.reverse((36.165922, -86.784194))\n",
    "\n",
    "my_city, my_county = [location.raw.get('address').get(i) for i in ['city', 'county']]\n",
    "\n",
    "print(my_city + ', ' + my_county)"
   ]
  },
  {
   "cell_type": "code",
   "execution_count": 6,
   "metadata": {},
   "outputs": [],
   "source": [
    "if my_city == 'Nashville-Davidson':\n",
    "    my_city = 'Nashville'\n",
    "\n",
    "# Tag legislation mentioning my city or county from location\n",
    "bills['my_city_county'] = bills['title'].str.contains(my_city + '|' + my_county) \\\n",
    "    .astype(int)"
   ]
  },
  {
   "cell_type": "code",
   "execution_count": 7,
   "metadata": {},
   "outputs": [
    {
     "data": {
      "text/plain": [
       "Legal Issues                            2776\n",
       "Education                               2684\n",
       "Budget, Spending, and Taxes             1881\n",
       "Health                                  1599\n",
       "Municipal and County Issues             1474\n",
       "Transportation                          1366\n",
       "Crime                                   1023\n",
       "Drugs                                   1017\n",
       "Government Reform                        959\n",
       "Legislative Affairs                      935\n",
       "Federal, State, and Local Relations      876\n",
       "Labor and Employment                     822\n",
       "Business and Consumers                   717\n",
       "Housing and Property                     641\n",
       "Family and Children Issues               641\n",
       "Commerce                                 591\n",
       "Campaign Finance and Election Issues     485\n",
       "Insurance                                481\n",
       "State Agencies                           474\n",
       "Judiciary                                468\n",
       "Environmental                            396\n",
       "Guns                                     336\n",
       "Other                                    313\n",
       "Public Services                          299\n",
       "Agriculture and Food                     247\n",
       "Gambling and Gaming                      229\n",
       "Animal Rights and Wildlife Issues        228\n",
       "Military                                 220\n",
       "Senior Issues                            167\n",
       "Civil Liberties and Civil Rights         152\n",
       "Welfare and Poverty                      148\n",
       "Recreation                               129\n",
       "Energy                                   125\n",
       "Science and Medical Research             124\n",
       "Resolutions                               99\n",
       "Technology and Communication              99\n",
       "Social Issues                             96\n",
       "Reproductive Issues                       66\n",
       "Arts and Humanities                       56\n",
       "Immigration                               38\n",
       "Trade                                     20\n",
       "Sexual Orientation and Gender Issues       7\n",
       "dtype: int64"
      ]
     },
     "execution_count": 7,
     "metadata": {},
     "output_type": "execute_result"
    }
   ],
   "source": [
    "# Get a list of possible subjects\n",
    "bills['subjects'].str.get_dummies('|') \\\n",
    "    .agg(sum) \\\n",
    "    .sort_values(ascending=False)"
   ]
  },
  {
   "cell_type": "code",
   "execution_count": 8,
   "metadata": {},
   "outputs": [],
   "source": [
    "# Tag legislation pertaining to subjects I'm interested in\n",
    "my_subjects = ['Education']\n",
    "\n",
    "bills['my_subjects'] = bills['subjects'].str.contains('|'.join(my_subjects)) \\\n",
    "    .fillna(0) \\\n",
    "    .astype(int)"
   ]
  },
  {
   "cell_type": "markdown",
   "metadata": {},
   "source": [
    "In Tennessee, a bill goes through the following [steps](http://www.capitol.tn.gov/about/billtolaw.html) (roughly) to become law:\n",
    "\n",
    "* Introduced\n",
    "* Passed on First Consideration\n",
    "* Passed on Second Consideration\n",
    "* Referred to Committee(s)\n",
    "* Placed on Calendar for Third Consideration\n",
    "    * On Third Consideration, opened for debate and amendment\n",
    "* Passed on Third Consideration\n",
    "* Reconcile Senate and House versions\n",
    "* Signed by Governor or allowed to become law without signature\n",
    "\n",
    "We can observe whether bills make it through each of these steps."
   ]
  },
  {
   "cell_type": "code",
   "execution_count": 9,
   "metadata": {},
   "outputs": [
    {
     "data": {
      "text/html": [
       "<div>\n",
       "<style scoped>\n",
       "    .dataframe tbody tr th:only-of-type {\n",
       "        vertical-align: middle;\n",
       "    }\n",
       "\n",
       "    .dataframe tbody tr th {\n",
       "        vertical-align: top;\n",
       "    }\n",
       "\n",
       "    .dataframe thead th {\n",
       "        text-align: right;\n",
       "    }\n",
       "</style>\n",
       "<table border=\"1\" class=\"dataframe\">\n",
       "  <thead>\n",
       "    <tr style=\"text-align: right;\">\n",
       "      <th></th>\n",
       "      <th>state</th>\n",
       "      <th>session</th>\n",
       "      <th>chamber</th>\n",
       "      <th>bill_id</th>\n",
       "      <th>date</th>\n",
       "      <th>action</th>\n",
       "      <th>actor</th>\n",
       "      <th>type</th>\n",
       "    </tr>\n",
       "  </thead>\n",
       "  <tbody>\n",
       "    <tr>\n",
       "      <th>0</th>\n",
       "      <td>tn</td>\n",
       "      <td>107</td>\n",
       "      <td>lower</td>\n",
       "      <td>HB 1</td>\n",
       "      <td>2010-11-09 00:00:00</td>\n",
       "      <td>Filed for intro.</td>\n",
       "      <td>lower</td>\n",
       "      <td>bill:reading:1|bill:introduced</td>\n",
       "    </tr>\n",
       "    <tr>\n",
       "      <th>1</th>\n",
       "      <td>tn</td>\n",
       "      <td>107</td>\n",
       "      <td>lower</td>\n",
       "      <td>HB 1</td>\n",
       "      <td>2010-11-23 00:00:00</td>\n",
       "      <td>Filed for intro.</td>\n",
       "      <td>upper</td>\n",
       "      <td>bill:reading:1|bill:introduced</td>\n",
       "    </tr>\n",
       "    <tr>\n",
       "      <th>2</th>\n",
       "      <td>tn</td>\n",
       "      <td>107</td>\n",
       "      <td>lower</td>\n",
       "      <td>HB 1</td>\n",
       "      <td>2011-01-11 00:00:00</td>\n",
       "      <td>Intro., P1C.</td>\n",
       "      <td>upper</td>\n",
       "      <td>bill:introduced</td>\n",
       "    </tr>\n",
       "    <tr>\n",
       "      <th>3</th>\n",
       "      <td>tn</td>\n",
       "      <td>107</td>\n",
       "      <td>lower</td>\n",
       "      <td>HB 1</td>\n",
       "      <td>2011-01-11 00:00:00</td>\n",
       "      <td>Intro., P1C.</td>\n",
       "      <td>lower</td>\n",
       "      <td>bill:introduced</td>\n",
       "    </tr>\n",
       "    <tr>\n",
       "      <th>4</th>\n",
       "      <td>tn</td>\n",
       "      <td>107</td>\n",
       "      <td>lower</td>\n",
       "      <td>HB 1</td>\n",
       "      <td>2011-01-12 00:00:00</td>\n",
       "      <td>P2C, Held on desk pending committee appointments</td>\n",
       "      <td>upper</td>\n",
       "      <td>other</td>\n",
       "    </tr>\n",
       "    <tr>\n",
       "      <th>5</th>\n",
       "      <td>tn</td>\n",
       "      <td>107</td>\n",
       "      <td>lower</td>\n",
       "      <td>HB 1</td>\n",
       "      <td>2011-01-12 00:00:00</td>\n",
       "      <td>P2C held on desk pending the appointment of standing committees.</td>\n",
       "      <td>lower</td>\n",
       "      <td>other</td>\n",
       "    </tr>\n",
       "    <tr>\n",
       "      <th>6</th>\n",
       "      <td>tn</td>\n",
       "      <td>107</td>\n",
       "      <td>lower</td>\n",
       "      <td>HB 1</td>\n",
       "      <td>2011-01-13 00:00:00</td>\n",
       "      <td>Ref. to Finance, Ways &amp; Means Committee</td>\n",
       "      <td>lower</td>\n",
       "      <td>committee:referred</td>\n",
       "    </tr>\n",
       "    <tr>\n",
       "      <th>7</th>\n",
       "      <td>tn</td>\n",
       "      <td>107</td>\n",
       "      <td>lower</td>\n",
       "      <td>HB 1</td>\n",
       "      <td>2011-01-15 00:00:00</td>\n",
       "      <td>Ref. to S. F,W&amp;M Comm.</td>\n",
       "      <td>upper</td>\n",
       "      <td>committee:referred</td>\n",
       "    </tr>\n",
       "    <tr>\n",
       "      <th>8</th>\n",
       "      <td>tn</td>\n",
       "      <td>107</td>\n",
       "      <td>lower</td>\n",
       "      <td>HB 1</td>\n",
       "      <td>2011-01-21 00:00:00</td>\n",
       "      <td>Assigned to  General Sub of Finance</td>\n",
       "      <td>lower</td>\n",
       "      <td>committee:referred</td>\n",
       "    </tr>\n",
       "    <tr>\n",
       "      <th>9</th>\n",
       "      <td>tn</td>\n",
       "      <td>107</td>\n",
       "      <td>lower</td>\n",
       "      <td>HB 1</td>\n",
       "      <td>2011-02-08 00:00:00</td>\n",
       "      <td>Ref. to S. Tax Sub Comm.</td>\n",
       "      <td>upper</td>\n",
       "      <td>committee:referred</td>\n",
       "    </tr>\n",
       "  </tbody>\n",
       "</table>\n",
       "</div>"
      ],
      "text/plain": [
       "  state  session chamber bill_id                 date  \\\n",
       "0    tn      107   lower    HB 1  2010-11-09 00:00:00   \n",
       "1    tn      107   lower    HB 1  2010-11-23 00:00:00   \n",
       "2    tn      107   lower    HB 1  2011-01-11 00:00:00   \n",
       "3    tn      107   lower    HB 1  2011-01-11 00:00:00   \n",
       "4    tn      107   lower    HB 1  2011-01-12 00:00:00   \n",
       "5    tn      107   lower    HB 1  2011-01-12 00:00:00   \n",
       "6    tn      107   lower    HB 1  2011-01-13 00:00:00   \n",
       "7    tn      107   lower    HB 1  2011-01-15 00:00:00   \n",
       "8    tn      107   lower    HB 1  2011-01-21 00:00:00   \n",
       "9    tn      107   lower    HB 1  2011-02-08 00:00:00   \n",
       "\n",
       "                                                             action  actor  \\\n",
       "0                                                  Filed for intro.  lower   \n",
       "1                                                  Filed for intro.  upper   \n",
       "2                                                      Intro., P1C.  upper   \n",
       "3                                                      Intro., P1C.  lower   \n",
       "4                  P2C, Held on desk pending committee appointments  upper   \n",
       "5  P2C held on desk pending the appointment of standing committees.  lower   \n",
       "6                          Ref. to Finance, Ways & Means Committee   lower   \n",
       "7                                            Ref. to S. F,W&M Comm.  upper   \n",
       "8                              Assigned to  General Sub of Finance   lower   \n",
       "9                                          Ref. to S. Tax Sub Comm.  upper   \n",
       "\n",
       "                             type  \n",
       "0  bill:reading:1|bill:introduced  \n",
       "1  bill:reading:1|bill:introduced  \n",
       "2                 bill:introduced  \n",
       "3                 bill:introduced  \n",
       "4                           other  \n",
       "5                           other  \n",
       "6              committee:referred  \n",
       "7              committee:referred  \n",
       "8              committee:referred  \n",
       "9              committee:referred  "
      ]
     },
     "execution_count": 9,
     "metadata": {},
     "output_type": "execute_result"
    }
   ],
   "source": [
    "actions = pd.read_csv('../data/tn_bill_actions.csv')\n",
    "\n",
    "actions.drop_duplicates(['action', 'actor', 'date', 'session', 'bill_id'], inplace=True)\n",
    "actions['action'].fillna('', inplace=True)\n",
    "\n",
    "actions.head(10)"
   ]
  },
  {
   "cell_type": "code",
   "execution_count": 10,
   "metadata": {},
   "outputs": [
    {
     "data": {
      "text/plain": [
       "<matplotlib.axes._subplots.AxesSubplot at 0x1a0f64cfd0>"
      ]
     },
     "execution_count": 10,
     "metadata": {},
     "output_type": "execute_result"
    },
    {
     "data": {
      "image/png": "[encoded data removed]",
      "text/plain": [
       "<matplotlib.figure.Figure at 0x1a0f64cc50>"
      ]
     },
     "metadata": {},
     "output_type": "display_data"
    }
   ],
   "source": [
    "def search_actions(strings):\n",
    "    \"\"\"Search actions meeting one of a list of patterns. Strings passed as a list\n",
    "     are concatenated and used as a regex.\n",
    "\n",
    "    Returns a DataFrame with bills passing stage specified by string.\n",
    "    \"\"\"\n",
    "    pattern = '|'.join(strings)\n",
    "\n",
    "    return actions[actions.action.str.contains(pattern)] \\\n",
    "        .loc[:, ['session', 'bill_id']] \\\n",
    "        .drop_duplicates()\n",
    "\n",
    "\n",
    "intro = search_actions(['Filed for introduction', 'Filed for intro.']) \\\n",
    "    .assign(introduced=1)\n",
    "\n",
    "first = search_actions(['Passed on First Consideration', 'P1C']) \\\n",
    "    .assign(first=1)\n",
    "\n",
    "second = search_actions(['Passed on Second Consideration', 'P2C']) \\\n",
    "    .assign(second=1)\n",
    "\n",
    "committee = search_actions(['H. Placed on Regular Calendar', 'H. Placed on Consent Calendar',\n",
    "                            'Placed on Senate Consent Calendar', 'Placed on Senate Regular Calendar']) \\\n",
    "    .assign(committee=1)\n",
    "\n",
    "chamber = search_actions(['Passed H.', 'Passed Senate', 'Passed S.']) \\\n",
    "    .assign(chamber=1)\n",
    "\n",
    "law = search_actions(['Signed by Governor', 'Returned by Governor without signature']) \\\n",
    "    .assign(law=1)\n",
    "\n",
    "bills = bills \\\n",
    "    .merge(intro, how='left', on=['session', 'bill_id'], validate='1:1') \\\n",
    "    .merge(first, how='left', on=['session', 'bill_id'], validate='1:1') \\\n",
    "    .merge(second, how='left', on=['session', 'bill_id'], validate='1:1') \\\n",
    "    .merge(committee, how='left', on=['session', 'bill_id'], validate='1:1') \\\n",
    "    .merge(chamber, how='left', on=['session', 'bill_id'], validate='1:1') \\\n",
    "    .merge(law, how='left', on=['session', 'bill_id'], validate='1:1')\n",
    "\n",
    "bills[['introduced', 'first', 'second', 'committee', 'chamber', 'law']] \\\n",
    "    .sum(axis=0) \\\n",
    "    .plot(xticks=range(7), ylim=(0, 21000))"
   ]
  },
  {
   "cell_type": "markdown",
   "metadata": {},
   "source": [
    "Note that companion bills are often introduced in both the House and Senate, so these counts overcount by about 2x.\n",
    "\n",
    "The big gatekeeper is getting past committees; most bills don't get past committee, but once they do, they stand a good chance of passing. I'll want to predict which bills get past committee.\n",
    "\n",
    "What do vote margins look like once bills get past committee?"
   ]
  },
  {
   "cell_type": "code",
   "execution_count": 11,
   "metadata": {},
   "outputs": [
    {
     "data": {
      "image/png": "[encoded data removed]",
      "text/plain": [
       "<matplotlib.figure.Figure at 0x1a0f9bbba8>"
      ]
     },
     "metadata": {},
     "output_type": "display_data"
    }
   ],
   "source": [
    "actions['ayes'] = pd.to_numeric(actions['action'].str.extract('Ayes ([0-9]+)', expand=False))\n",
    "actions['nays'] = pd.to_numeric(actions['action'].str.extract('Nays ([0-9]+)', expand=False))\n",
    "\n",
    "margin = actions.query('action.str.contains(\"Failed to pass H.|Failed to pass Senate|Passed H.|Passed Senate|Passed S.\")', engine = 'python') \\\n",
    "    .assign(margin=actions['ayes'] - actions['nays'])\n",
    "\n",
    "g = sns.FacetGrid(margin, col='actor', sharex=False)\n",
    "g = g.map(plt.hist, 'margin', bins=20)"
   ]
  },
  {
   "cell_type": "markdown",
   "metadata": {},
   "source": [
    "Once past committee, many bills are uncontroversial (pass by an all-0 vote). I'll also identify uncontroversial bills so that we can de-prioritize those."
   ]
  },
  {
   "cell_type": "code",
   "execution_count": 12,
   "metadata": {},
   "outputs": [],
   "source": [
    "actions['uncontroversial'] = pd.Series(actions['nays'] <= 1).astype(int)\n",
    "\n",
    "uncontroversial = actions \\\n",
    "    .query('action.str.contains(\"Failed to pass H.|Failed to pass Senate|Passed H.|Passed Senate|Passed S.\")', engine = 'python') \\\n",
    "    .query('actor == \"upper\" & bill_id.str.contains(\"SB\") | actor == \"lower\" & bill_id.str.contains(\"HB\")', engine = 'python') \\\n",
    "    .groupby(['session', 'bill_id']) \\\n",
    "    .agg({'uncontroversial': 'min'}) \\\n",
    "    .reset_index(drop=False)\n",
    "\n",
    "bills = bills.merge(uncontroversial, how='left', on=['session', 'bill_id'], validate='1:1')"
   ]
  },
  {
   "cell_type": "markdown",
   "metadata": {},
   "source": [
    "Of course, we know what happens to bills retrospectively. However, it would be helpful to know whether bills will go to a vote and/or be uncontroversial as they are introduced so that one might be able to influence legislation through calling one's legislators, etc. \n",
    "\n",
    "I use **machine learning** to predict these outcomes. The idea is to information about what bills have gone to a vote/been uncontroversial in the past to predict which bills will go to a vote/be uncontroversial in the future.\n",
    "\n",
    "I use spaCy to do some preprocessing (drop stop words, lemmatize, and keep only certain parts of speech). I then use a TF-IDF representation and regularized logistic regression for classification."
   ]
  },
  {
   "cell_type": "code",
   "execution_count": 13,
   "metadata": {},
   "outputs": [],
   "source": [
    "import spacy\n",
    "from nltk.corpus import stopwords\n",
    "\n",
    "# Use spaCy annotator and convert to data frame with one token per row\n",
    "nlp = spacy.load('en_core_web_sm')\n",
    "\n",
    "tokens = []\n",
    "\n",
    "for doc in nlp.pipe(bills['title'], batch_size=50):\n",
    "    tokens.append([(n.text, n.lemma_, n.pos_) for n in doc])\n",
    "\n",
    "# Convert tokens and entities to DataFrames and combine\n",
    "annotation_df = pd.concat(\n",
    "    [pd.DataFrame(tokens[i], columns=['token', 'lemma', 'pos']).assign(bill=i) \n",
    "\t for i in range(len(tokens))]\n",
    ") \\\n",
    "    .reset_index()"
   ]
  },
  {
   "cell_type": "code",
   "execution_count": 14,
   "metadata": {},
   "outputs": [],
   "source": [
    "# Drop and modify tokens depending of part of speech\n",
    "# https://spacy.io/api/annotation#pos-tagging\n",
    "annotation_df = annotation_df[annotation_df['pos'].isin(['NOUN', 'VERB', 'PROPN'])]\n",
    "\n",
    "# Drop anything with nonword characters\n",
    "annotation_df = annotation_df[~annotation_df['token'].str.contains('\\\\W|[0-9]')]\n",
    "\n",
    "# Drop stopwords\n",
    "annotation_df = annotation_df[~annotation_df['token'].isin(stopwords.words('english'))]\n",
    "\n",
    "preprocess = pd.Series(\n",
    "    [' '.join(annotation_df[annotation_df['bill'] == i]['lemma']) for i in range(len(bills))]\n",
    ")"
   ]
  },
  {
   "cell_type": "markdown",
   "metadata": {},
   "source": [
    "Add search terms of interest (should resolve differences in inflection):"
   ]
  },
  {
   "cell_type": "code",
   "execution_count": 15,
   "metadata": {},
   "outputs": [],
   "source": [
    "from nltk.stem import WordNetLemmatizer\n",
    "\n",
    "my_terms = ['test', 'assessment', 'TNReady', 'priority', 'ASD']\n",
    "my_terms = [WordNetLemmatizer().lemmatize(i) for i in my_terms]\n",
    "\n",
    "bills['my_terms'] = [int(max([j in annotation_df[annotation_df['bill'] == i]['lemma'].values for j in my_terms]))\n",
    "\t\t\t\t\t for i in range(len(bills))]"
   ]
  },
  {
   "cell_type": "code",
   "execution_count": 16,
   "metadata": {},
   "outputs": [],
   "source": [
    "# A TF-IDF representation\n",
    "from sklearn.feature_extraction.text import TfidfVectorizer\n",
    "\n",
    "tf = TfidfVectorizer(min_df=10, ngram_range=(1, 3))\n",
    "\n",
    "X_tfidf = tf.fit_transform(preprocess)"
   ]
  },
  {
   "cell_type": "markdown",
   "metadata": {},
   "source": [
    "To mimic prediction, I use the most recent session as test set and all prior as training:"
   ]
  },
  {
   "cell_type": "code",
   "execution_count": 17,
   "metadata": {},
   "outputs": [
    {
     "data": {
      "text/plain": [
       "110    5485\n",
       "109    5357\n",
       "108    5204\n",
       "107    4043\n",
       "Name: session, dtype: int64"
      ]
     },
     "execution_count": 17,
     "metadata": {},
     "output_type": "execute_result"
    }
   ],
   "source": [
    "bills['session'].value_counts()"
   ]
  },
  {
   "cell_type": "code",
   "execution_count": 18,
   "metadata": {},
   "outputs": [],
   "source": [
    "train_count = sum(bills['session'] != 110)\n",
    "\n",
    "X_train = X_tfidf[:train_count]\n",
    "X_test = X_tfidf[train_count:]\n",
    "\n",
    "bills['committee'].fillna(0, inplace=True)\n",
    "Y_train_vote = bills['committee'][:train_count]\n",
    "Y_test_vote = bills['committee'][train_count:]\n",
    "\n",
    "bills['uncontroversial'].fillna(0, inplace=True)\n",
    "Y_train_uncontroversial = bills['uncontroversial'][:train_count]\n",
    "Y_test_uncontroversial = bills['uncontroversial'][train_count:]"
   ]
  },
  {
   "cell_type": "markdown",
   "metadata": {},
   "source": [
    "I train a model to identify bills which go to a vote, predict on the test set, then check accuracy:"
   ]
  },
  {
   "cell_type": "code",
   "execution_count": 19,
   "metadata": {},
   "outputs": [
    {
     "data": {
      "text/plain": [
       "0.5569216984419334"
      ]
     },
     "execution_count": 19,
     "metadata": {},
     "output_type": "execute_result"
    }
   ],
   "source": [
    "max(bills['committee'].mean(), 1 - bills['committee'].mean())"
   ]
  },
  {
   "cell_type": "code",
   "execution_count": 20,
   "metadata": {},
   "outputs": [
    {
     "data": {
      "text/plain": [
       "0.923792160437557"
      ]
     },
     "execution_count": 20,
     "metadata": {},
     "output_type": "execute_result"
    }
   ],
   "source": [
    "# Elastic Net\n",
    "from sklearn.linear_model import SGDClassifier\n",
    "from sklearn.metrics import accuracy_score\n",
    "from sklearn.model_selection import GridSearchCV\n",
    "\n",
    "params = {\n",
    "    'alpha': 10.0 ** -np.arange(1, 7),\n",
    "    'l1_ratio': np.arange(0, 1, 0.2)\n",
    "}\n",
    "\n",
    "elastic_net = GridSearchCV(SGDClassifier(loss='log', max_iter=1000, tol=1e-6), params, cv=5)\n",
    "\n",
    "elastic_net_vote = elastic_net.fit(X_train, Y_train_vote)\n",
    "\n",
    "# Save predictions for later\n",
    "predict_vote = elastic_net_vote.predict(X_test).astype(int)\n",
    "\n",
    "accuracy_score(predict_vote, Y_test_vote)"
   ]
  },
  {
   "cell_type": "code",
   "execution_count": 21,
   "metadata": {},
   "outputs": [
    {
     "data": {
      "text/plain": [
       "<matplotlib.axes._subplots.AxesSubplot at 0x1a0f665748>"
      ]
     },
     "execution_count": 21,
     "metadata": {},
     "output_type": "execute_result"
    },
    {
     "data": {
      "image/png": "[encoded data removed]",
      "text/plain": [
       "<matplotlib.figure.Figure at 0x1a0f665ac8>"
      ]
     },
     "metadata": {},
     "output_type": "display_data"
    }
   ],
   "source": [
    "data = pd.DataFrame({\n",
    "    'vote': Y_test_vote,\n",
    "    'predicted_probs': elastic_net_vote.predict_proba(X_test)[:, 1]\n",
    "})\n",
    "\n",
    "sns.stripplot(x='vote', y='predicted_probs', data=data, jitter=True)"
   ]
  },
  {
   "cell_type": "markdown",
   "metadata": {},
   "source": [
    "Repeat to predict uncontroversial bills:"
   ]
  },
  {
   "cell_type": "code",
   "execution_count": 22,
   "metadata": {},
   "outputs": [
    {
     "data": {
      "text/plain": [
       "0.6591667081487381"
      ]
     },
     "execution_count": 22,
     "metadata": {},
     "output_type": "execute_result"
    }
   ],
   "source": [
    "max(bills['uncontroversial'].mean(), 1 - bills['uncontroversial'].mean())"
   ]
  },
  {
   "cell_type": "code",
   "execution_count": 23,
   "metadata": {},
   "outputs": [
    {
     "data": {
      "text/plain": [
       "0.9097538742023701"
      ]
     },
     "execution_count": 23,
     "metadata": {},
     "output_type": "execute_result"
    }
   ],
   "source": [
    "# Predict uncontroversial\n",
    "elastic_net_uncontroversial = elastic_net.fit(X_train, Y_train_uncontroversial)\n",
    "\n",
    "# Save predictions for later\n",
    "predict_uncontroversial = elastic_net_uncontroversial.predict(X_test).astype(int)\n",
    "\n",
    "accuracy_score(predict_uncontroversial, Y_test_uncontroversial)"
   ]
  },
  {
   "cell_type": "code",
   "execution_count": 24,
   "metadata": {},
   "outputs": [
    {
     "data": {
      "text/plain": [
       "<matplotlib.axes._subplots.AxesSubplot at 0x1a45139470>"
      ]
     },
     "execution_count": 24,
     "metadata": {},
     "output_type": "execute_result"
    },
    {
     "data": {
      "image/png": "[encoded data removed]",
      "text/plain": [
       "<matplotlib.figure.Figure at 0x1a3b6dd860>"
      ]
     },
     "metadata": {},
     "output_type": "display_data"
    }
   ],
   "source": [
    "data = pd.DataFrame({\n",
    "    'uncontroversial': Y_test_uncontroversial,\n",
    "    'predicted_probs': elastic_net_uncontroversial.predict_proba(X_test)[:, 1]\n",
    "})\n",
    "\n",
    "sns.stripplot(x='uncontroversial', y='predicted_probs', data=data, jitter=True)"
   ]
  },
  {
   "cell_type": "markdown",
   "metadata": {},
   "source": [
    "Check that we get some bills predicted to get a vote but not be uncontroversial:"
   ]
  },
  {
   "cell_type": "code",
   "execution_count": 25,
   "metadata": {},
   "outputs": [
    {
     "data": {
      "text/plain": [
       "465"
      ]
     },
     "execution_count": 25,
     "metadata": {},
     "output_type": "execute_result"
    }
   ],
   "source": [
    "sum(predict_vote != predict_uncontroversial)"
   ]
  },
  {
   "cell_type": "code",
   "execution_count": 26,
   "metadata": {},
   "outputs": [],
   "source": [
    "# Predictions\n",
    "prediction_set = bills[bills['session'] == 110] \\\n",
    "    .assign(\n",
    "        predict_marginal=((predict_vote == 1) & (predict_uncontroversial == 0)).astype(int)\n",
    "    ) \\\n",
    "    .loc[:, ['title', 'my_legislators', 'my_city_county', 'my_subjects', 'my_terms', 'predict_marginal']]\n",
    "\n",
    "# Sort results by descending order of the number of categories matched\n",
    "prediction_set['counts'] = prediction_set['my_city_county'] +\\\n",
    "\t\t\t\t\t\t   prediction_set['my_legislators'] + \\ \n",
    "\t\t\t\t\t\t   prediction_set['my_subjects'] + \\\n",
    "\t\t\t\t\t\t   prediction_set['my_terms'] + \\\n",
    "\t\t\t\t\t\t   prediction_set['predict_marginal']"
   ]
  },
  {
   "cell_type": "markdown",
   "metadata": {},
   "source": [
    "An answer to \"What legislation should I pay attention to?\" might look like the following:"
   ]
  },
  {
   "cell_type": "code",
   "execution_count": 27,
   "metadata": {},
   "outputs": [
    {
     "data": {
      "text/html": [
       "<div>\n",
       "<style scoped>\n",
       "    .dataframe tbody tr th:only-of-type {\n",
       "        vertical-align: middle;\n",
       "    }\n",
       "\n",
       "    .dataframe tbody tr th {\n",
       "        vertical-align: top;\n",
       "    }\n",
       "\n",
       "    .dataframe thead th {\n",
       "        text-align: right;\n",
       "    }\n",
       "</style>\n",
       "<table border=\"1\" class=\"dataframe\">\n",
       "  <thead>\n",
       "    <tr style=\"text-align: right;\">\n",
       "      <th></th>\n",
       "      <th>title</th>\n",
       "      <th>my_legislators</th>\n",
       "      <th>my_city_county</th>\n",
       "      <th>my_subjects</th>\n",
       "      <th>my_terms</th>\n",
       "      <th>predict_marginal</th>\n",
       "      <th>counts</th>\n",
       "    </tr>\n",
       "  </thead>\n",
       "  <tbody>\n",
       "    <tr>\n",
       "      <th>15215</th>\n",
       "      <td>Teachers, Principals and School Personnel - As enacted, exempts certain supervisors, principals, and public school teachers from having to take an assessment to advance or renew a teaching license under certain circumstances.</td>\n",
       "      <td>0</td>\n",
       "      <td>0</td>\n",
       "      <td>1</td>\n",
       "      <td>1</td>\n",
       "      <td>1</td>\n",
       "      <td>3</td>\n",
       "    </tr>\n",
       "    <tr>\n",
       "      <th>19800</th>\n",
       "      <td>Alcoholic Beverages - As enacted, designates Fresh Hospitality located in Nashville as an urban park center for purposes of consumption on the premises.</td>\n",
       "      <td>1</td>\n",
       "      <td>1</td>\n",
       "      <td>0</td>\n",
       "      <td>0</td>\n",
       "      <td>1</td>\n",
       "      <td>3</td>\n",
       "    </tr>\n",
       "    <tr>\n",
       "      <th>18329</th>\n",
       "      <td>Local Education Agencies - As enacted, revises provisions governing the percentage of student achievement test scores comprising a student's final grade in certain subjects; revises provisions governing situations where certain test scores are not received at least five instructional days before the end of a course.</td>\n",
       "      <td>0</td>\n",
       "      <td>0</td>\n",
       "      <td>1</td>\n",
       "      <td>1</td>\n",
       "      <td>1</td>\n",
       "      <td>3</td>\n",
       "    </tr>\n",
       "    <tr>\n",
       "      <th>18100</th>\n",
       "      <td>Local Education Agencies - As enacted, allows any LEA, rather than just the Metropolitan Nashville public school system, using the career academy or small learning community model to extend career and technical education (CTE) class sizes in grades nine through 12; allows an LEA to seek a waiver from the commissioner of education to extend the CTE class size average in grades nine through 12.</td>\n",
       "      <td>0</td>\n",
       "      <td>1</td>\n",
       "      <td>1</td>\n",
       "      <td>0</td>\n",
       "      <td>1</td>\n",
       "      <td>3</td>\n",
       "    </tr>\n",
       "    <tr>\n",
       "      <th>18226</th>\n",
       "      <td>Teachers, Principals and School Personnel - As enacted, exempts certain supervisors, principals, and public school teachers from having to take an assessment to advance or renew a teaching license under certain circumstances.</td>\n",
       "      <td>0</td>\n",
       "      <td>0</td>\n",
       "      <td>1</td>\n",
       "      <td>1</td>\n",
       "      <td>1</td>\n",
       "      <td>3</td>\n",
       "    </tr>\n",
       "    <tr>\n",
       "      <th>15282</th>\n",
       "      <td>Education, Curriculum - As introduced, beginning in the 2018-2019 school year and thereafter, prohibits the administration of end-of-course examinations to students in grades 9 through 12 and establishes the ACT as the only assessment that may be required for graduation.</td>\n",
       "      <td>0</td>\n",
       "      <td>0</td>\n",
       "      <td>1</td>\n",
       "      <td>1</td>\n",
       "      <td>1</td>\n",
       "      <td>3</td>\n",
       "    </tr>\n",
       "    <tr>\n",
       "      <th>16965</th>\n",
       "      <td>Education - As enacted, requires local education agencies to use at least one alternative growth model that has been approved by the board of education for evaluation of teachers in non-tested grades and subjects; requires the department of education to develop alternative student growth models for grade levels and subjects that do not have growth models.</td>\n",
       "      <td>0</td>\n",
       "      <td>0</td>\n",
       "      <td>1</td>\n",
       "      <td>1</td>\n",
       "      <td>1</td>\n",
       "      <td>3</td>\n",
       "    </tr>\n",
       "    <tr>\n",
       "      <th>19082</th>\n",
       "      <td>Education, Curriculum - As introduced, beginning in the 2018-2019 school year and thereafter, prohibits the administration of end-of-course examinations to students in grades 9 through 12 and establishes the ACT as the only assessment that may be required for graduation.</td>\n",
       "      <td>0</td>\n",
       "      <td>0</td>\n",
       "      <td>1</td>\n",
       "      <td>1</td>\n",
       "      <td>1</td>\n",
       "      <td>3</td>\n",
       "    </tr>\n",
       "    <tr>\n",
       "      <th>15199</th>\n",
       "      <td>Local Education Agencies - As enacted, revises provisions governing the percentage of student achievement test scores comprising a student's final grade in certain subjects; revises provisions governing situations where certain test scores are not received at least five instructional days before the end of a course.</td>\n",
       "      <td>0</td>\n",
       "      <td>0</td>\n",
       "      <td>1</td>\n",
       "      <td>1</td>\n",
       "      <td>1</td>\n",
       "      <td>3</td>\n",
       "    </tr>\n",
       "    <tr>\n",
       "      <th>18999</th>\n",
       "      <td>Education - As enacted, requires local education agencies to use at least one alternative growth model that has been approved by the board of education for evaluation of teachers in non-tested grades and subjects; requires the department of education to develop alternative student growth models for grade levels and subjects that do not have growth models.</td>\n",
       "      <td>0</td>\n",
       "      <td>0</td>\n",
       "      <td>1</td>\n",
       "      <td>1</td>\n",
       "      <td>1</td>\n",
       "      <td>3</td>\n",
       "    </tr>\n",
       "  </tbody>\n",
       "</table>\n",
       "</div>"
      ],
      "text/plain": [
       "                                                                                                                                                                                                                                                                                                                                                                                                             title  \\\n",
       "15215                                                                                                                                                                            Teachers, Principals and School Personnel - As enacted, exempts certain supervisors, principals, and public school teachers from having to take an assessment to advance or renew a teaching license under certain circumstances.   \n",
       "19800                                                                                                                                                                                                                                                     Alcoholic Beverages - As enacted, designates Fresh Hospitality located in Nashville as an urban park center for purposes of consumption on the premises.   \n",
       "18329                                                                                Local Education Agencies - As enacted, revises provisions governing the percentage of student achievement test scores comprising a student's final grade in certain subjects; revises provisions governing situations where certain test scores are not received at least five instructional days before the end of a course.   \n",
       "18100  Local Education Agencies - As enacted, allows any LEA, rather than just the Metropolitan Nashville public school system, using the career academy or small learning community model to extend career and technical education (CTE) class sizes in grades nine through 12; allows an LEA to seek a waiver from the commissioner of education to extend the CTE class size average in grades nine through 12.   \n",
       "18226                                                                                                                                                                            Teachers, Principals and School Personnel - As enacted, exempts certain supervisors, principals, and public school teachers from having to take an assessment to advance or renew a teaching license under certain circumstances.   \n",
       "15282                                                                                                                              Education, Curriculum - As introduced, beginning in the 2018-2019 school year and thereafter, prohibits the administration of end-of-course examinations to students in grades 9 through 12 and establishes the ACT as the only assessment that may be required for graduation.   \n",
       "16965                                        Education - As enacted, requires local education agencies to use at least one alternative growth model that has been approved by the board of education for evaluation of teachers in non-tested grades and subjects; requires the department of education to develop alternative student growth models for grade levels and subjects that do not have growth models.   \n",
       "19082                                                                                                                              Education, Curriculum - As introduced, beginning in the 2018-2019 school year and thereafter, prohibits the administration of end-of-course examinations to students in grades 9 through 12 and establishes the ACT as the only assessment that may be required for graduation.   \n",
       "15199                                                                                Local Education Agencies - As enacted, revises provisions governing the percentage of student achievement test scores comprising a student's final grade in certain subjects; revises provisions governing situations where certain test scores are not received at least five instructional days before the end of a course.   \n",
       "18999                                        Education - As enacted, requires local education agencies to use at least one alternative growth model that has been approved by the board of education for evaluation of teachers in non-tested grades and subjects; requires the department of education to develop alternative student growth models for grade levels and subjects that do not have growth models.   \n",
       "\n",
       "       my_legislators  my_city_county  my_subjects  my_terms  \\\n",
       "15215               0               0            1         1   \n",
       "19800               1               1            0         0   \n",
       "18329               0               0            1         1   \n",
       "18100               0               1            1         0   \n",
       "18226               0               0            1         1   \n",
       "15282               0               0            1         1   \n",
       "16965               0               0            1         1   \n",
       "19082               0               0            1         1   \n",
       "15199               0               0            1         1   \n",
       "18999               0               0            1         1   \n",
       "\n",
       "       predict_marginal  counts  \n",
       "15215                 1       3  \n",
       "19800                 1       3  \n",
       "18329                 1       3  \n",
       "18100                 1       3  \n",
       "18226                 1       3  \n",
       "15282                 1       3  \n",
       "16965                 1       3  \n",
       "19082                 1       3  \n",
       "15199                 1       3  \n",
       "18999                 1       3  "
      ]
     },
     "execution_count": 27,
     "metadata": {},
     "output_type": "execute_result"
    }
   ],
   "source": [
    "prediction_set \\\n",
    "    .query('my_city_county == 1 | my_legislators == 1 | my_subjects == 1 | my_terms == 1 | predict_marginal == 1') \\\n",
    "    .sort_values(by='counts', ascending=False) \\\n",
    "    .head(10)"
   ]
  }
 ],
 "metadata": {
  "kernelspec": {
   "display_name": "Python [default]",
   "language": "python",
   "name": "python3"
  },
  "language_info": {
   "codemirror_mode": {
    "name": "ipython",
    "version": 3
   },
   "file_extension": ".py",
   "mimetype": "text/x-python",
   "name": "python",
   "nbconvert_exporter": "python",
   "pygments_lexer": "ipython3",
   "version": "3.6.8"
  }
 },
 "nbformat": 4,
 "nbformat_minor": 2
}
