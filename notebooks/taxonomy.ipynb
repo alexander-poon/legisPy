{
 "cells": [
  {
   "cell_type": "markdown",
   "metadata": {},
   "source": [
    "## A Taxonomy of TN Legislation\n",
    "\n",
    "Using NLP, I look to answer the question: **What (state) legislation should I pay attention to?**\n",
    "\n",
    "This might include legislation that:\n",
    "\n",
    "- pertains to local issues in the city/town/county where I live\n",
    "- pertains to issues I care about (e.g.: education)\n",
    "- is introduced by my Representative/Senator\n",
    "- is contentious (comes down to a close or party line vote)\n",
    "\n",
    "and might not include legislation that:\n",
    "\n",
    "- is uncontroversial (e.g., probably going to pass unanimously)\n",
    "- has no chance of passing\n",
    "\n",
    "Of course, these categories aren't mutually exclusive. I tag legislation meeting each characteristic individually so that we might look at bills meeting any combination of these criteria."
   ]
  },
  {
   "cell_type": "code",
   "execution_count": 1,
   "metadata": {},
   "outputs": [],
   "source": [
    "# Preliminaries\n",
    "import numpy as np\n",
    "import pandas as pd\n",
    "import matplotlib.pyplot as plt\n",
    "import seaborn as sns\n",
    "\n",
    "%matplotlib inline\n",
    "\n",
    "pd.options.display.max_colwidth = 1000"
   ]
  },
  {
   "cell_type": "markdown",
   "metadata": {},
   "source": [
    "Data comes from [OpenStates](https://openstates.org/), which provides comprehensive information pertaining to state legislators and legislation for all 50 states, DC and Puerto Rico, including bill text, topics, sponsors, progress through committees, amendments, vote tallies and votes by individual legislators.\n",
    "\n",
    "OpenStates makes data available via an API, which I access using the [pyopenstates](http://docs.openstates.org/en/latest/api/) module."
   ]
  },
  {
   "cell_type": "code",
   "execution_count": 2,
   "metadata": {},
   "outputs": [
    {
     "data": {
      "text/html": [
       "<div>\n",
       "<style scoped>\n",
       "    .dataframe tbody tr th:only-of-type {\n",
       "        vertical-align: middle;\n",
       "    }\n",
       "\n",
       "    .dataframe tbody tr th {\n",
       "        vertical-align: top;\n",
       "    }\n",
       "\n",
       "    .dataframe thead th {\n",
       "        text-align: right;\n",
       "    }\n",
       "</style>\n",
       "<table border=\"1\" class=\"dataframe\">\n",
       "  <thead>\n",
       "    <tr style=\"text-align: right;\">\n",
       "      <th></th>\n",
       "      <th>bill_id</th>\n",
       "      <th>id</th>\n",
       "      <th>session</th>\n",
       "      <th>subjects</th>\n",
       "      <th>title</th>\n",
       "      <th>sponsors</th>\n",
       "    </tr>\n",
       "  </thead>\n",
       "  <tbody>\n",
       "    <tr>\n",
       "      <th>0</th>\n",
       "      <td>SB 107</td>\n",
       "      <td>TNB00030250</td>\n",
       "      <td>110</td>\n",
       "      <td>Government Reform</td>\n",
       "      <td>Sunset Laws - As enacted, extends the Tennessee life and health insurance guaranty association five years to June 30, 2022.</td>\n",
       "      <td>Bell; Faison</td>\n",
       "    </tr>\n",
       "    <tr>\n",
       "      <th>1</th>\n",
       "      <td>HB 228</td>\n",
       "      <td>TNB00030742</td>\n",
       "      <td>110</td>\n",
       "      <td>Government Reform</td>\n",
       "      <td>Sunset Laws - As enacted, extends the Tennessee life and health insurance guaranty association five years to June 30, 2022.</td>\n",
       "      <td>Faison; Bell</td>\n",
       "    </tr>\n",
       "    <tr>\n",
       "      <th>2</th>\n",
       "      <td>HB 2716</td>\n",
       "      <td>TNB00037681</td>\n",
       "      <td>110</td>\n",
       "      <td>Municipal and County Issues</td>\n",
       "      <td>Maury County - Subject to local approval, creates a county financial management system to administer the finances of the county for all funds of the various departments, agencies, and boards that are handled by the county trustee. -</td>\n",
       "      <td>Butt; Hensley</td>\n",
       "    </tr>\n",
       "    <tr>\n",
       "      <th>3</th>\n",
       "      <td>SB 2745</td>\n",
       "      <td>TNB00037699</td>\n",
       "      <td>110</td>\n",
       "      <td>Municipal and County Issues</td>\n",
       "      <td>Maury County - Subject to local approval, creates a county financial management system to administer the finances of the county for all funds of the various departments, agencies, and boards that are handled by the county trustee. -</td>\n",
       "      <td>Hensley; Butt</td>\n",
       "    </tr>\n",
       "    <tr>\n",
       "      <th>4</th>\n",
       "      <td>HB 1905</td>\n",
       "      <td>TNB00035358</td>\n",
       "      <td>110</td>\n",
       "      <td>Federal, State, and Local Relations</td>\n",
       "      <td>Capitol - As enacted, administratively attaches the David Crockett commission to the department of finance and administration; creates a separate account within the treasury to be used to erect a monument; authorizes state and private funds to be used to erect a monument with intent that no state funds be used until private funding exhausted.</td>\n",
       "      <td>Hawk; Southerland</td>\n",
       "    </tr>\n",
       "    <tr>\n",
       "      <th>5</th>\n",
       "      <td>SB 1868</td>\n",
       "      <td>TNB00035376</td>\n",
       "      <td>110</td>\n",
       "      <td>Federal, State, and Local Relations</td>\n",
       "      <td>Capitol - As enacted, administratively attaches the David Crockett commission to the department of finance and administration; creates a separate account within the treasury to be used to erect a monument; authorizes state and private funds to be used to erect a monument with intent that no state funds be used until private funding exhausted.</td>\n",
       "      <td>Southerland; Hawk</td>\n",
       "    </tr>\n",
       "    <tr>\n",
       "      <th>6</th>\n",
       "      <td>SB 5</td>\n",
       "      <td>TNB00030075</td>\n",
       "      <td>110</td>\n",
       "      <td>Judiciary</td>\n",
       "      <td>Judicial Districts - As enacted, creates one additional trial court each in the sixteenth, nineteenth, and twenty-first judicial districts; requires the speaker of the senate and the speaker of the house to establish an advisory task force to review the composition of Tennessee's current judicial districts.</td>\n",
       "      <td>Green; Johnson</td>\n",
       "    </tr>\n",
       "    <tr>\n",
       "      <th>7</th>\n",
       "      <td>HB 10</td>\n",
       "      <td>TNB00030110</td>\n",
       "      <td>110</td>\n",
       "      <td>Judiciary</td>\n",
       "      <td>Judicial Districts - As enacted, creates one additional trial court each in the sixteenth, nineteenth, and twenty-first judicial districts; requires the speaker of the senate and the speaker of the house to establish an advisory task force to review the composition of Tennessee's current judicial districts.</td>\n",
       "      <td>Johnson; Green</td>\n",
       "    </tr>\n",
       "    <tr>\n",
       "      <th>8</th>\n",
       "      <td>HB 75</td>\n",
       "      <td>TNB00030341</td>\n",
       "      <td>110</td>\n",
       "      <td>Education</td>\n",
       "      <td>Education - As enacted, provides that no adverse action may be taken against any student, teacher, school, or LEA based, in whole or in part, on student achievement data generated from the 2017-2018 TNReady assessments.</td>\n",
       "      <td>Kane; Gresham</td>\n",
       "    </tr>\n",
       "    <tr>\n",
       "      <th>9</th>\n",
       "      <td>SB 200</td>\n",
       "      <td>TNB00030509</td>\n",
       "      <td>110</td>\n",
       "      <td>Crime</td>\n",
       "      <td>Criminal Offenses - As enacted, includes within the offense of especially aggravated stalking a person 18 years of age or older who commits the offense of stalking or aggravated stalking against a victim who is less than 12 years of age at any time during the person's course of conduct.</td>\n",
       "      <td>Swann; Williams</td>\n",
       "    </tr>\n",
       "  </tbody>\n",
       "</table>\n",
       "</div>"
      ],
      "text/plain": [
       "   bill_id           id  session                             subjects  \\\n",
       "0   SB 107  TNB00030250      110                    Government Reform   \n",
       "1   HB 228  TNB00030742      110                    Government Reform   \n",
       "2  HB 2716  TNB00037681      110          Municipal and County Issues   \n",
       "3  SB 2745  TNB00037699      110          Municipal and County Issues   \n",
       "4  HB 1905  TNB00035358      110  Federal, State, and Local Relations   \n",
       "5  SB 1868  TNB00035376      110  Federal, State, and Local Relations   \n",
       "6     SB 5  TNB00030075      110                            Judiciary   \n",
       "7    HB 10  TNB00030110      110                            Judiciary   \n",
       "8    HB 75  TNB00030341      110                            Education   \n",
       "9   SB 200  TNB00030509      110                                Crime   \n",
       "\n",
       "                                                                                                                                                                                                                                                                                                                                                      title  \\\n",
       "0                                                                                                                                                                                                                               Sunset Laws - As enacted, extends the Tennessee life and health insurance guaranty association five years to June 30, 2022.   \n",
       "1                                                                                                                                                                                                                               Sunset Laws - As enacted, extends the Tennessee life and health insurance guaranty association five years to June 30, 2022.   \n",
       "2                                                                                                                  Maury County - Subject to local approval, creates a county financial management system to administer the finances of the county for all funds of the various departments, agencies, and boards that are handled by the county trustee. -   \n",
       "3                                                                                                                  Maury County - Subject to local approval, creates a county financial management system to administer the finances of the county for all funds of the various departments, agencies, and boards that are handled by the county trustee. -   \n",
       "4  Capitol - As enacted, administratively attaches the David Crockett commission to the department of finance and administration; creates a separate account within the treasury to be used to erect a monument; authorizes state and private funds to be used to erect a monument with intent that no state funds be used until private funding exhausted.   \n",
       "5  Capitol - As enacted, administratively attaches the David Crockett commission to the department of finance and administration; creates a separate account within the treasury to be used to erect a monument; authorizes state and private funds to be used to erect a monument with intent that no state funds be used until private funding exhausted.   \n",
       "6                                      Judicial Districts - As enacted, creates one additional trial court each in the sixteenth, nineteenth, and twenty-first judicial districts; requires the speaker of the senate and the speaker of the house to establish an advisory task force to review the composition of Tennessee's current judicial districts.   \n",
       "7                                      Judicial Districts - As enacted, creates one additional trial court each in the sixteenth, nineteenth, and twenty-first judicial districts; requires the speaker of the senate and the speaker of the house to establish an advisory task force to review the composition of Tennessee's current judicial districts.   \n",
       "8                                                                                                                               Education - As enacted, provides that no adverse action may be taken against any student, teacher, school, or LEA based, in whole or in part, on student achievement data generated from the 2017-2018 TNReady assessments.   \n",
       "9                                                           Criminal Offenses - As enacted, includes within the offense of especially aggravated stalking a person 18 years of age or older who commits the offense of stalking or aggravated stalking against a victim who is less than 12 years of age at any time during the person's course of conduct.   \n",
       "\n",
       "            sponsors  \n",
       "0       Bell; Faison  \n",
       "1       Faison; Bell  \n",
       "2      Butt; Hensley  \n",
       "3      Hensley; Butt  \n",
       "4  Hawk; Southerland  \n",
       "5  Southerland; Hawk  \n",
       "6     Green; Johnson  \n",
       "7     Johnson; Green  \n",
       "8      Kane; Gresham  \n",
       "9    Swann; Williams  "
      ]
     },
     "execution_count": 2,
     "metadata": {},
     "output_type": "execute_result"
    }
   ],
   "source": [
    "bills = pd.read_csv('../data/bills.csv')\n",
    "\n",
    "# Remove the 'Amends TCA Title x, Chapter y' from bill titles\n",
    "bills['title'] = bills['title'].replace(to_replace = ' - Amends.+$', value = '', regex = True)\n",
    "\n",
    "bills.head(10)"
   ]
  },
  {
   "cell_type": "markdown",
   "metadata": {},
   "source": [
    "From this, I can tag legislation introduced by my legislators, pertaining to the city/county where I live, and relates to subjects I'm interested in."
   ]
  },
  {
   "cell_type": "code",
   "execution_count": 3,
   "metadata": {},
   "outputs": [
    {
     "name": "stdout",
     "output_type": "stream",
     "text": [
      "['Harper', 'Beck']\n"
     ]
    }
   ],
   "source": [
    "# Use pyopenstates to identify my legislators from location\n",
    "from pyopenstates import set_api_key, locate_legislators\n",
    "\n",
    "set_api_key('') # Get key here: https://openstates.org/api/register/\n",
    "\n",
    "my_legislators = [i.get('last_name') for i in locate_legislators(36.157612, -86.767337)]\n",
    "\n",
    "print(my_legislators)\n",
    "\n",
    "# Tag legislation introducted by my legislators\n",
    "bills['my_legislators'] = bills['sponsors'].str.contains('|'.join(my_legislators)).fillna(False).astype(int)"
   ]
  },
  {
   "cell_type": "code",
   "execution_count": 4,
   "metadata": {},
   "outputs": [
    {
     "name": "stdout",
     "output_type": "stream",
     "text": [
      "Nashville-Davidson, Davidson County\n"
     ]
    }
   ],
   "source": [
    "# Identify my city, county from location\n",
    "from geopy.geocoders import Nominatim\n",
    "\n",
    "geolocator = Nominatim(user_agent = 'my-application')\n",
    "\n",
    "location = geolocator.reverse((36.157612, -86.767337))\n",
    "\n",
    "my_city, my_county = [location.raw.get('address').get(i) for i in ['city', 'county']]\n",
    "\n",
    "print(my_city + ', ' + my_county)\n",
    "\n",
    "if my_city == \"Nashville-Davidson\":\n",
    "    my_city = \"Nashville\"\n",
    "\n",
    "# Tag legislation mentioning my city or county from location\n",
    "bills['my_city_county'] = bills['title'].str.contains(my_city + '|' + my_county).astype(int)"
   ]
  },
  {
   "cell_type": "code",
   "execution_count": 5,
   "metadata": {},
   "outputs": [
    {
     "data": {
      "text/plain": [
       "Education                               2461\n",
       "Legal Issues                            1985\n",
       "Health                                  1396\n",
       "Transportation                          1253\n",
       "Municipal and County Issues             1181\n",
       "Budget, Spending, and Taxes             1035\n",
       "Drugs                                   1017\n",
       "Government Reform                        959\n",
       "Labor and Employment                     822\n",
       "Business and Consumers                   611\n",
       "Housing and Property                     610\n",
       "Commerce                                 591\n",
       "Crime                                    588\n",
       "Campaign Finance and Election Issues     485\n",
       "Federal, State, and Local Relations      456\n",
       "Judiciary                                427\n",
       "Environmental                            396\n",
       "Legislative Affairs                      386\n",
       "Guns                                     336\n",
       "Family and Children Issues               328\n",
       "Public Services                          297\n",
       "Other                                    277\n",
       "State Agencies                           266\n",
       "Agriculture and Food                     247\n",
       "Military                                 220\n",
       "Senior Issues                            167\n",
       "Animal Rights and Wildlife Issues        118\n",
       "Welfare and Poverty                      117\n",
       "Recreation                               100\n",
       "Resolutions                               99\n",
       "Social Issues                             96\n",
       "Technology and Communication              81\n",
       "Reproductive Issues                       66\n",
       "Arts and Humanities                       56\n",
       "Civil Liberties and Civil Rights          44\n",
       "Gambling and Gaming                       40\n",
       "Energy                                    39\n",
       "Immigration                               38\n",
       "Science and Medical Research              26\n",
       "Insurance                                 12\n",
       "Sexual Orientation and Gender Issues       7\n",
       "Trade                                      4\n",
       "Name: subjects, dtype: int64"
      ]
     },
     "execution_count": 5,
     "metadata": {},
     "output_type": "execute_result"
    }
   ],
   "source": [
    "# Get a list of possible subjects\n",
    "bills['subjects'].replace(to_replace = ';.+', value = '', regex = True).value_counts()"
   ]
  },
  {
   "cell_type": "code",
   "execution_count": 6,
   "metadata": {},
   "outputs": [],
   "source": [
    "# Tag legislation pertaining to subjects I'm interested in\n",
    "my_subjects = ['Education']\n",
    "\n",
    "bills['my_subjects'] = bills['subjects'].str.contains('|'.join(my_subjects)).fillna(0).astype(int)"
   ]
  },
  {
   "cell_type": "markdown",
   "metadata": {},
   "source": [
    "In Tennessee, a bill goes through the following [steps](http://www.capitol.tn.gov/about/billtolaw.html) (roughly) to become law:\n",
    "\n",
    "* Introduced\n",
    "* Passed on First Consideration\n",
    "* Passed on Second Consideration\n",
    "* Referred to Committee(s)\n",
    "* Placed on Calendar for Third Consideration\n",
    "    * On Third Consideration, opened for debate and amendment\n",
    "* Passed on Third Consideration\n",
    "* Reconcile Senate and House versions\n",
    "* Signed by Governor or allowed to become law without signature\n",
    "\n",
    "We can observe whether bills make it through each of these steps."
   ]
  },
  {
   "cell_type": "code",
   "execution_count": 7,
   "metadata": {},
   "outputs": [
    {
     "data": {
      "text/plain": [
       "<matplotlib.axes._subplots.AxesSubplot at 0x10a29aa90>"
      ]
     },
     "execution_count": 7,
     "metadata": {},
     "output_type": "execute_result"
    },
    {
     "data": {
      "image/png": "[encoded data removed]",
      "text/plain": [
       "<matplotlib.figure.Figure at 0x10db387b8>"
      ]
     },
     "metadata": {},
     "output_type": "display_data"
    }
   ],
   "source": [
    "actions = pd.read_csv('../data/actions.csv')\n",
    "\n",
    "actions.drop_duplicates(['action', 'actor', 'date', 'session', 'bill_id'], inplace = True)\n",
    "actions['action'].fillna('', inplace = True)\n",
    "\n",
    "intro = actions.query('action.str.contains(\"Filed for introduction|Filed for intro.\")', engine = 'python')[['session', 'bill_id']] \\\n",
    "    .drop_duplicates() \\\n",
    "    .assign(introduced = 1)\n",
    "\n",
    "first = actions.query('action.str.contains(\"Passed on First Consideration|P1C\")', engine = 'python')[['session', 'bill_id']] \\\n",
    "    .drop_duplicates() \\\n",
    "    .assign(first = 1)\n",
    "\n",
    "second = actions.query('action.str.contains(\"Passed on Second Consideration|P2C\")', engine = 'python')[['session', 'bill_id']] \\\n",
    "    .drop_duplicates() \\\n",
    "    .assign(second = 1)\n",
    "\n",
    "committee = actions.query('action.str.contains(\"H. Placed on Regular Calendar|H. Placed on Consent Calendar|Placed on Senate Consent Calendar|Placed on Senate Regular Calendar\")', engine = 'python')[['session', 'bill_id']] \\\n",
    "    .drop_duplicates() \\\n",
    "    .assign(committee = 1)\n",
    "\n",
    "chamber = actions.query('action.str.contains(\"Passed H.|Passed Senate|Passed S.\")', engine = 'python')[['session', 'bill_id']] \\\n",
    "    .drop_duplicates() \\\n",
    "    .assign(chamber = 1)\n",
    "\n",
    "signed = actions.query('action.str.contains(\"Signed by Governor\")', engine = 'python')[['session', 'bill_id']] \\\n",
    "    .drop_duplicates() \\\n",
    "    .assign(signed = 1)\n",
    "    \n",
    "bills = bills \\\n",
    "    .merge(intro, how = 'left', on = ['session', 'bill_id'], validate = '1:1') \\\n",
    "    .merge(first, how = 'left', on = ['session', 'bill_id'], validate = '1:1') \\\n",
    "    .merge(second, how = 'left', on = ['session', 'bill_id'], validate = '1:1') \\\n",
    "    .merge(committee, how = 'left', on = ['session', 'bill_id'], validate = '1:1') \\\n",
    "    .merge(chamber, how = 'left', on = ['session', 'bill_id'], validate = '1:1') \\\n",
    "    .merge(signed, how = 'left', on = ['session', 'bill_id'], validate = '1:1')\n",
    "\n",
    "bills.fillna(value = {'introduced': 0, 'first': 0, 'second': 0, 'committee': 0, 'chamber': 0, 'signed': 0}, inplace = True)\n",
    "\n",
    "bills[['introduced', 'first', 'second', 'committee', 'chamber', 'signed']] \\\n",
    "    .agg(sum) \\\n",
    "    .plot(xticks = range(7), ylim = (0, 21000))"
   ]
  },
  {
   "cell_type": "markdown",
   "metadata": {},
   "source": [
    "Note that companion bills are often introduced in both the House and Senate, so these counts overcount by about 2x.\n",
    "\n",
    "The big gatekeeper is getting past committees; most bills don't get past committee, but once they do, they stand a good chance of passing. I'll want to predict which bills get past committee.\n",
    "\n",
    "What do vote margins look like once bills get past committee?"
   ]
  },
  {
   "cell_type": "code",
   "execution_count": 8,
   "metadata": {},
   "outputs": [
    {
     "data": {
      "image/png": "[encoded data removed]",
      "text/plain": [
       "<matplotlib.figure.Figure at 0x10daf1080>"
      ]
     },
     "metadata": {},
     "output_type": "display_data"
    }
   ],
   "source": [
    "margin = actions.query('action.str.contains(\"Failed to pass H.|Failed to pass Senate|Passed H.|Passed Senate|Passed S.\")', engine = 'python') \\\n",
    "    .assign(margin = actions['ayes'] - actions['nays']) \\\n",
    "    .loc[:, ['session', 'bill_id', 'actor', 'margin']]\n",
    "\n",
    "g = sns.FacetGrid(margin, col = \"actor\", sharex = False)\n",
    "g = g.map(plt.hist, \"margin\")"
   ]
  },
  {
   "cell_type": "markdown",
   "metadata": {},
   "source": [
    "Once past committee, many bills are uncontroversial (pass by an all-0 vote). I'll also identify uncontroversial bills so that we can de-prioritize those."
   ]
  },
  {
   "cell_type": "code",
   "execution_count": 9,
   "metadata": {},
   "outputs": [],
   "source": [
    "actions['uncontroversial'] = pd.Series(actions['nays'] <= 1).astype(int)\n",
    "\n",
    "uncontroversial = actions \\\n",
    "    .query('action.str.contains(\"Failed to pass H.|Failed to pass Senate|Passed H.|Passed Senate|Passed S.\")', engine = 'python') \\\n",
    "    .query('actor == \"upper\" & bill_id.str.contains(\"SB\") | actor == \"lower\" & bill_id.str.contains(\"HB\")', engine = 'python') \\\n",
    "    .groupby(['session', 'bill_id']) \\\n",
    "    .agg({'uncontroversial': 'min'}) \\\n",
    "    .reset_index(drop = False)\n",
    "\n",
    "bills = bills.merge(uncontroversial, how = 'left', on = ['session', 'bill_id'], validate = '1:1')\n",
    "\n",
    "bills['uncontroversial'].fillna(0, inplace = True)"
   ]
  },
  {
   "cell_type": "code",
   "execution_count": 10,
   "metadata": {},
   "outputs": [
    {
     "data": {
      "text/html": [
       "<div>\n",
       "<style scoped>\n",
       "    .dataframe tbody tr th:only-of-type {\n",
       "        vertical-align: middle;\n",
       "    }\n",
       "\n",
       "    .dataframe tbody tr th {\n",
       "        vertical-align: top;\n",
       "    }\n",
       "\n",
       "    .dataframe thead th {\n",
       "        text-align: right;\n",
       "    }\n",
       "</style>\n",
       "<table border=\"1\" class=\"dataframe\">\n",
       "  <thead>\n",
       "    <tr style=\"text-align: right;\">\n",
       "      <th></th>\n",
       "      <th>bill_id</th>\n",
       "      <th>id</th>\n",
       "      <th>session</th>\n",
       "      <th>subjects</th>\n",
       "      <th>title</th>\n",
       "      <th>sponsors</th>\n",
       "      <th>my_legislators</th>\n",
       "      <th>my_city_county</th>\n",
       "      <th>my_subjects</th>\n",
       "      <th>introduced</th>\n",
       "      <th>first</th>\n",
       "      <th>second</th>\n",
       "      <th>committee</th>\n",
       "      <th>chamber</th>\n",
       "      <th>signed</th>\n",
       "      <th>uncontroversial</th>\n",
       "    </tr>\n",
       "  </thead>\n",
       "  <tbody>\n",
       "    <tr>\n",
       "      <th>0</th>\n",
       "      <td>SB 107</td>\n",
       "      <td>TNB00030250</td>\n",
       "      <td>110</td>\n",
       "      <td>Government Reform</td>\n",
       "      <td>Sunset Laws - As enacted, extends the Tennessee life and health insurance guaranty association five years to June 30, 2022.</td>\n",
       "      <td>Bell; Faison</td>\n",
       "      <td>0</td>\n",
       "      <td>0</td>\n",
       "      <td>0</td>\n",
       "      <td>1</td>\n",
       "      <td>1.0</td>\n",
       "      <td>1.0</td>\n",
       "      <td>1.0</td>\n",
       "      <td>1.0</td>\n",
       "      <td>1.0</td>\n",
       "      <td>1.0</td>\n",
       "    </tr>\n",
       "  </tbody>\n",
       "</table>\n",
       "</div>"
      ],
      "text/plain": [
       "  bill_id           id  session           subjects  \\\n",
       "0  SB 107  TNB00030250      110  Government Reform   \n",
       "\n",
       "                                                                                                                         title  \\\n",
       "0  Sunset Laws - As enacted, extends the Tennessee life and health insurance guaranty association five years to June 30, 2022.   \n",
       "\n",
       "       sponsors  my_legislators  my_city_county  my_subjects  introduced  \\\n",
       "0  Bell; Faison               0               0            0           1   \n",
       "\n",
       "   first  second  committee  chamber  signed  uncontroversial  \n",
       "0    1.0     1.0        1.0      1.0     1.0              1.0  "
      ]
     },
     "execution_count": 10,
     "metadata": {},
     "output_type": "execute_result"
    }
   ],
   "source": [
    "bills.head(1)"
   ]
  },
  {
   "cell_type": "markdown",
   "metadata": {},
   "source": [
    "Counts of bills getting past committee, signed into law, and uncontroversial bills (recall about 2x overcounting of companion bills):"
   ]
  },
  {
   "cell_type": "code",
   "execution_count": 11,
   "metadata": {},
   "outputs": [
    {
     "data": {
      "text/plain": [
       "0.0    11188\n",
       "1.0     8901\n",
       "Name: committee, dtype: int64"
      ]
     },
     "execution_count": 11,
     "metadata": {},
     "output_type": "execute_result"
    }
   ],
   "source": [
    "bills['committee'].value_counts()"
   ]
  },
  {
   "cell_type": "code",
   "execution_count": 12,
   "metadata": {},
   "outputs": [
    {
     "data": {
      "text/plain": [
       "0.0    12287\n",
       "1.0     7802\n",
       "Name: signed, dtype: int64"
      ]
     },
     "execution_count": 12,
     "metadata": {},
     "output_type": "execute_result"
    }
   ],
   "source": [
    "bills['signed'].value_counts()"
   ]
  },
  {
   "cell_type": "code",
   "execution_count": 13,
   "metadata": {},
   "outputs": [
    {
     "data": {
      "text/plain": [
       "0.0    13245\n",
       "1.0     6844\n",
       "Name: uncontroversial, dtype: int64"
      ]
     },
     "execution_count": 13,
     "metadata": {},
     "output_type": "execute_result"
    }
   ],
   "source": [
    "bills['uncontroversial'].value_counts()"
   ]
  },
  {
   "cell_type": "markdown",
   "metadata": {},
   "source": [
    "Of course, we know what happens to bills retrospectively. However, it would be helpful to know whether bills will go to a vote and/or be uncontroversial as they are introduced so that one might be able to influence legislation through calling one's legislators, etc. \n",
    "\n",
    "I use **machine learning** to predict these outcomes. The idea is to information about what bills have gone to a vote/been uncontroversial in the past to predict which bills will go to a vote/be uncontroversial in the future.\n",
    "\n",
    "I use spaCy to do some preprocessing (drop stop words, lemmatize, and keep only certain parts of speech). I then use a TF-IDF representation and regularized logistic regression for classification."
   ]
  },
  {
   "cell_type": "code",
   "execution_count": 14,
   "metadata": {},
   "outputs": [],
   "source": [
    "import spacy\n",
    "from nltk.corpus import stopwords\n",
    "\n",
    "# Use spaCy annotator and convert to data frame with one token per row\n",
    "nlp = spacy.load('en')\n",
    "\n",
    "token = []\n",
    "lemma = []\n",
    "pos = []\n",
    "\n",
    "for doc in nlp.pipe(bills['title'], batch_size = 50):\n",
    "    token.append([n.text for n in doc])\n",
    "    lemma.append([n.lemma_ for n in doc])\n",
    "    pos.append([n.pos_ for n in doc])\n",
    "    \n",
    "annotation_df = pd.DataFrame({\n",
    "    'token': pd.Series(token).apply(pd.Series).stack(),\n",
    "    'lemma': pd.Series(lemma).apply(pd.Series).stack(),\n",
    "    'pos': pd.Series(pos).apply(pd.Series).stack(),\n",
    "})\n",
    "\n",
    "# Drop and modify tokens depending of part of speech\n",
    "# https://spacy.io/api/annotation#pos-tagging\n",
    "annotation_df = annotation_df[annotation_df['pos'].isin(['NOUN', 'VERB', 'PROPN'])]\n",
    "\n",
    "# Drop anything with nonword characters\n",
    "annotation_df = annotation_df[~annotation_df['token'].str.contains(\"\\\\W|[0-9]\")]\n",
    "\n",
    "# Drop stopwords\n",
    "annotation_df = annotation_df[~annotation_df['token'].isin(stopwords.words('english'))]\n",
    "\n",
    "preprocess = pd.Series([annotation_df.loc[i]['lemma'].str.cat(sep = ' ') for i in range(len(bills))])"
   ]
  },
  {
   "cell_type": "code",
   "execution_count": 15,
   "metadata": {},
   "outputs": [],
   "source": [
    "# A TF-IDF representation\n",
    "from sklearn.feature_extraction.text import TfidfVectorizer\n",
    "\n",
    "tf = TfidfVectorizer(min_df = 10, ngram_range=(1, 3))\n",
    "\n",
    "X_tfidf = tf.fit_transform(preprocess)"
   ]
  },
  {
   "cell_type": "markdown",
   "metadata": {},
   "source": [
    "To mimic prediction, I use the most recent session as test set and all prior as training:"
   ]
  },
  {
   "cell_type": "code",
   "execution_count": 16,
   "metadata": {},
   "outputs": [
    {
     "data": {
      "text/plain": [
       "110    5485\n",
       "109    5357\n",
       "108    5204\n",
       "107    4043\n",
       "Name: session, dtype: int64"
      ]
     },
     "execution_count": 16,
     "metadata": {},
     "output_type": "execute_result"
    }
   ],
   "source": [
    "bills['session'].value_counts()"
   ]
  },
  {
   "cell_type": "code",
   "execution_count": 17,
   "metadata": {},
   "outputs": [],
   "source": [
    "train_count = sum(bills['session'] != 110)\n",
    "\n",
    "X_train = X_tfidf[:train_count].toarray()\n",
    "X_test = X_tfidf[train_count:].toarray()\n",
    "\n",
    "Y_train_vote = bills['committee'][:train_count]\n",
    "Y_test_vote = bills['committee'][train_count:]\n",
    "\n",
    "Y_train_uncontroversial = bills['uncontroversial'][:train_count]\n",
    "Y_test_uncontroversial = bills['uncontroversial'][train_count:]"
   ]
  },
  {
   "cell_type": "markdown",
   "metadata": {},
   "source": [
    "I train a model to identify bills which go to a vote, predict on the test set, then check accuracy:"
   ]
  },
  {
   "cell_type": "code",
   "execution_count": 18,
   "metadata": {},
   "outputs": [
    {
     "data": {
      "text/plain": [
       "0.9465815861440292"
      ]
     },
     "execution_count": 18,
     "metadata": {},
     "output_type": "execute_result"
    }
   ],
   "source": [
    "# Elastic Net\n",
    "from sklearn.linear_model import SGDClassifier\n",
    "from sklearn.metrics import accuracy_score\n",
    "from sklearn.model_selection import GridSearchCV\n",
    "\n",
    "params = {\n",
    "    'alpha': 10.0 ** -np.arange(3, 7)\n",
    "}\n",
    "\n",
    "elastic_net = GridSearchCV(SGDClassifier(loss = \"log\", max_iter = 250, l1_ratio = 1), params, cv = 5)\n",
    "\n",
    "elastic_net_vote = elastic_net.fit(X_train, Y_train_vote)\n",
    "\n",
    "accuracy_score(elastic_net_vote.predict(X_test), Y_test_vote)"
   ]
  },
  {
   "cell_type": "code",
   "execution_count": 19,
   "metadata": {},
   "outputs": [
    {
     "data": {
      "text/plain": [
       "<matplotlib.axes._subplots.AxesSubplot at 0x1a37040a58>"
      ]
     },
     "execution_count": 19,
     "metadata": {},
     "output_type": "execute_result"
    },
    {
     "data": {
      "image/png": "[encoded data removed]",
      "text/plain": [
       "<matplotlib.figure.Figure at 0x1a371ce518>"
      ]
     },
     "metadata": {},
     "output_type": "display_data"
    }
   ],
   "source": [
    "data = pd.DataFrame({\n",
    "    'vote': Y_test_vote,\n",
    "    'predicted_probs': elastic_net_vote.predict_proba(X_test)[:, 1]\n",
    "})\n",
    "\n",
    "sns.stripplot(x = 'vote', y = 'predicted_probs', data = data, jitter = True)"
   ]
  },
  {
   "cell_type": "markdown",
   "metadata": {},
   "source": [
    "Save predictions for later:"
   ]
  },
  {
   "cell_type": "code",
   "execution_count": 20,
   "metadata": {},
   "outputs": [],
   "source": [
    "predict_vote = elastic_net_vote.predict(X_test)"
   ]
  },
  {
   "cell_type": "markdown",
   "metadata": {},
   "source": [
    "Repeat to predict uncontroversial bills:"
   ]
  },
  {
   "cell_type": "code",
   "execution_count": 21,
   "metadata": {},
   "outputs": [
    {
     "data": {
      "text/plain": [
       "0.9281677301731996"
      ]
     },
     "execution_count": 21,
     "metadata": {},
     "output_type": "execute_result"
    }
   ],
   "source": [
    "# Predict uncontroversial\n",
    "elastic_net_uncontroversial = elastic_net.fit(X_train, Y_train_uncontroversial)\n",
    "\n",
    "accuracy_score(elastic_net_uncontroversial.predict(X_test), Y_test_uncontroversial)"
   ]
  },
  {
   "cell_type": "code",
   "execution_count": 22,
   "metadata": {},
   "outputs": [
    {
     "data": {
      "text/plain": [
       "<matplotlib.axes._subplots.AxesSubplot at 0x1a34026438>"
      ]
     },
     "execution_count": 22,
     "metadata": {},
     "output_type": "execute_result"
    },
    {
     "data": {
      "image/png": "[encoded data removed]",
      "text/plain": [
       "<matplotlib.figure.Figure at 0x1a340555f8>"
      ]
     },
     "metadata": {},
     "output_type": "display_data"
    }
   ],
   "source": [
    "data = pd.DataFrame({\n",
    "    'uncontroversial': Y_test_uncontroversial,\n",
    "    'predicted_probs': elastic_net_uncontroversial.predict_proba(X_test)[:, 1]\n",
    "})\n",
    "\n",
    "sns.stripplot(x = 'uncontroversial', y = 'predicted_probs', data = data, jitter = True)"
   ]
  },
  {
   "cell_type": "code",
   "execution_count": 23,
   "metadata": {},
   "outputs": [],
   "source": [
    "predict_uncontroversial = elastic_net_uncontroversial.predict(X_test)"
   ]
  },
  {
   "cell_type": "markdown",
   "metadata": {},
   "source": [
    "Check that we get some bills predicted to get a vote but not be uncontroversial:"
   ]
  },
  {
   "cell_type": "code",
   "execution_count": 24,
   "metadata": {},
   "outputs": [
    {
     "data": {
      "text/plain": [
       "170"
      ]
     },
     "execution_count": 24,
     "metadata": {},
     "output_type": "execute_result"
    }
   ],
   "source": [
    "sum(predict_vote != predict_uncontroversial)"
   ]
  },
  {
   "cell_type": "code",
   "execution_count": 25,
   "metadata": {},
   "outputs": [],
   "source": [
    "# Predictions\n",
    "prediction_set = bills[bills['session'] == 110] \\\n",
    "    .assign(predict_vote = predict_vote,\n",
    "            predict_uncontroversial = predict_uncontroversial) \\\n",
    "    .loc[:, ['title', 'my_legislators', 'my_city_county', 'my_subjects', 'predict_vote', 'predict_uncontroversial']]\n",
    "\n",
    "# Sort results by descending order of the number of categories matched\n",
    "prediction_set['counts'] = \\\n",
    "    prediction_set['my_city_county'] + prediction_set['my_legislators'] + prediction_set['my_subjects'] + \\\n",
    "    ((prediction_set['predict_vote'] == 1) & (prediction_set['predict_uncontroversial'] == 0)).astype(int)"
   ]
  },
  {
   "cell_type": "markdown",
   "metadata": {},
   "source": [
    "An answer to \"What legislation should I pay attention to?\" might look like the following:"
   ]
  },
  {
   "cell_type": "code",
   "execution_count": 26,
   "metadata": {},
   "outputs": [
    {
     "data": {
      "text/html": [
       "<div>\n",
       "<style scoped>\n",
       "    .dataframe tbody tr th:only-of-type {\n",
       "        vertical-align: middle;\n",
       "    }\n",
       "\n",
       "    .dataframe tbody tr th {\n",
       "        vertical-align: top;\n",
       "    }\n",
       "\n",
       "    .dataframe thead th {\n",
       "        text-align: right;\n",
       "    }\n",
       "</style>\n",
       "<table border=\"1\" class=\"dataframe\">\n",
       "  <thead>\n",
       "    <tr style=\"text-align: right;\">\n",
       "      <th></th>\n",
       "      <th>title</th>\n",
       "      <th>my_legislators</th>\n",
       "      <th>my_city_county</th>\n",
       "      <th>my_subjects</th>\n",
       "      <th>predict_vote</th>\n",
       "      <th>predict_uncontroversial</th>\n",
       "      <th>counts</th>\n",
       "    </tr>\n",
       "  </thead>\n",
       "  <tbody>\n",
       "    <tr>\n",
       "      <th>3786</th>\n",
       "      <td>Education - As introduced, creates a tuition assistance program from proceeds of the state lottery to develop a two-year pilot program that allows Fairview High School students to participate in dual enrollment at Columbia State Community College and earn an associate degree in advanced manufacturing courses.</td>\n",
       "      <td>0</td>\n",
       "      <td>0</td>\n",
       "      <td>1</td>\n",
       "      <td>1.0</td>\n",
       "      <td>0.0</td>\n",
       "      <td>2</td>\n",
       "    </tr>\n",
       "    <tr>\n",
       "      <th>1784</th>\n",
       "      <td>Education - As introduced, changes the treatment of certain records obtained in the search for a director of schools or any chief public administrative officer from open for public inspection to confidential with certain exceptions; makes confidential, with certain exceptions, the records relating to the process of searching for and selecting of any applicant for a president of a state university, the president of a community college, and the president of a college of applied technology.</td>\n",
       "      <td>0</td>\n",
       "      <td>0</td>\n",
       "      <td>1</td>\n",
       "      <td>1.0</td>\n",
       "      <td>0.0</td>\n",
       "      <td>2</td>\n",
       "    </tr>\n",
       "    <tr>\n",
       "      <th>2370</th>\n",
       "      <td>Local Education Agencies - As introduced, deletes the requirement that local school systems must sell all surplus property within 90 days of its being declared surplus; revises the advertising requirements for local school systems selling surplus property.</td>\n",
       "      <td>1</td>\n",
       "      <td>0</td>\n",
       "      <td>1</td>\n",
       "      <td>0.0</td>\n",
       "      <td>0.0</td>\n",
       "      <td>2</td>\n",
       "    </tr>\n",
       "    <tr>\n",
       "      <th>5337</th>\n",
       "      <td>Education - As introduced, requires the Tennessee financial literacy commission to post its annual report on the department of the treasury website.</td>\n",
       "      <td>1</td>\n",
       "      <td>0</td>\n",
       "      <td>1</td>\n",
       "      <td>0.0</td>\n",
       "      <td>0.0</td>\n",
       "      <td>2</td>\n",
       "    </tr>\n",
       "    <tr>\n",
       "      <th>586</th>\n",
       "      <td>Education - As introduced, requires driver education courses to include an area of instruction on the impact of talking and texting on a mobile phone on a student's driving abilities.</td>\n",
       "      <td>1</td>\n",
       "      <td>0</td>\n",
       "      <td>1</td>\n",
       "      <td>0.0</td>\n",
       "      <td>0.0</td>\n",
       "      <td>2</td>\n",
       "    </tr>\n",
       "    <tr>\n",
       "      <th>3711</th>\n",
       "      <td>School Transportation - As introduced, authorizes LEAs, directly or by contract, to install, operate, or maintain cameras on the outside of school buses to record vehicles unlawfully passing stopped school buses; allows persons cited to pay the fine out of court; imposes additional penalties that apply under certain circumstances.</td>\n",
       "      <td>0</td>\n",
       "      <td>0</td>\n",
       "      <td>1</td>\n",
       "      <td>1.0</td>\n",
       "      <td>0.0</td>\n",
       "      <td>2</td>\n",
       "    </tr>\n",
       "    <tr>\n",
       "      <th>1454</th>\n",
       "      <td>Education - As introduced, allows the governing body of a public charter school to make the annual progress report to the sponsor of the school, the chartering authority, and the commissioner of education in an electronic format.</td>\n",
       "      <td>1</td>\n",
       "      <td>0</td>\n",
       "      <td>1</td>\n",
       "      <td>1.0</td>\n",
       "      <td>1.0</td>\n",
       "      <td>2</td>\n",
       "    </tr>\n",
       "    <tr>\n",
       "      <th>1455</th>\n",
       "      <td>Education - As introduced, allows the governing body of a public charter school to make the annual progress report to the sponsor of the school, the chartering authority, and the commissioner of education in an electronic format.</td>\n",
       "      <td>0</td>\n",
       "      <td>0</td>\n",
       "      <td>1</td>\n",
       "      <td>1.0</td>\n",
       "      <td>0.0</td>\n",
       "      <td>2</td>\n",
       "    </tr>\n",
       "    <tr>\n",
       "      <th>584</th>\n",
       "      <td>Education - As introduced, requires a local board of education to hold a hearing within 30 days of, rather than within a reasonable time after, its receipt of an application for a hearing to contest the reasonableness of a student assignment.</td>\n",
       "      <td>0</td>\n",
       "      <td>0</td>\n",
       "      <td>1</td>\n",
       "      <td>1.0</td>\n",
       "      <td>0.0</td>\n",
       "      <td>2</td>\n",
       "    </tr>\n",
       "    <tr>\n",
       "      <th>4549</th>\n",
       "      <td>Lottery, Scholarships and Programs - As introduced, specifies that semester hours earned in ROTC courses by ROTC students do not count toward the semester hour limitation for receipt of the Tennessee HOPE scholarship; excludes grades received in ROTC courses from the calculation of an ROTC student's grade point average for Tennessee HOPE scholarship purposes.</td>\n",
       "      <td>0</td>\n",
       "      <td>0</td>\n",
       "      <td>1</td>\n",
       "      <td>1.0</td>\n",
       "      <td>0.0</td>\n",
       "      <td>2</td>\n",
       "    </tr>\n",
       "  </tbody>\n",
       "</table>\n",
       "</div>"
      ],
      "text/plain": [
       "                                                                                                                                                                                                                                                                                                                                                                                                                                                                                                             title  \\\n",
       "3786                                                                                                                                                                                        Education - As introduced, creates a tuition assistance program from proceeds of the state lottery to develop a two-year pilot program that allows Fairview High School students to participate in dual enrollment at Columbia State Community College and earn an associate degree in advanced manufacturing courses.   \n",
       "1784  Education - As introduced, changes the treatment of certain records obtained in the search for a director of schools or any chief public administrative officer from open for public inspection to confidential with certain exceptions; makes confidential, with certain exceptions, the records relating to the process of searching for and selecting of any applicant for a president of a state university, the president of a community college, and the president of a college of applied technology.   \n",
       "2370                                                                                                                                                                                                                                              Local Education Agencies - As introduced, deletes the requirement that local school systems must sell all surplus property within 90 days of its being declared surplus; revises the advertising requirements for local school systems selling surplus property.   \n",
       "5337                                                                                                                                                                                                                                                                                                                                                          Education - As introduced, requires the Tennessee financial literacy commission to post its annual report on the department of the treasury website.   \n",
       "586                                                                                                                                                                                                                                                                                                                        Education - As introduced, requires driver education courses to include an area of instruction on the impact of talking and texting on a mobile phone on a student's driving abilities.   \n",
       "3711                                                                                                                                                                  School Transportation - As introduced, authorizes LEAs, directly or by contract, to install, operate, or maintain cameras on the outside of school buses to record vehicles unlawfully passing stopped school buses; allows persons cited to pay the fine out of court; imposes additional penalties that apply under certain circumstances.   \n",
       "1454                                                                                                                                                                                                                                                                         Education - As introduced, allows the governing body of a public charter school to make the annual progress report to the sponsor of the school, the chartering authority, and the commissioner of education in an electronic format.   \n",
       "1455                                                                                                                                                                                                                                                                         Education - As introduced, allows the governing body of a public charter school to make the annual progress report to the sponsor of the school, the chartering authority, and the commissioner of education in an electronic format.   \n",
       "584                                                                                                                                                                                                                                                             Education - As introduced, requires a local board of education to hold a hearing within 30 days of, rather than within a reasonable time after, its receipt of an application for a hearing to contest the reasonableness of a student assignment.   \n",
       "4549                                                                                                                                     Lottery, Scholarships and Programs - As introduced, specifies that semester hours earned in ROTC courses by ROTC students do not count toward the semester hour limitation for receipt of the Tennessee HOPE scholarship; excludes grades received in ROTC courses from the calculation of an ROTC student's grade point average for Tennessee HOPE scholarship purposes.   \n",
       "\n",
       "      my_legislators  my_city_county  my_subjects  predict_vote  \\\n",
       "3786               0               0            1           1.0   \n",
       "1784               0               0            1           1.0   \n",
       "2370               1               0            1           0.0   \n",
       "5337               1               0            1           0.0   \n",
       "586                1               0            1           0.0   \n",
       "3711               0               0            1           1.0   \n",
       "1454               1               0            1           1.0   \n",
       "1455               0               0            1           1.0   \n",
       "584                0               0            1           1.0   \n",
       "4549               0               0            1           1.0   \n",
       "\n",
       "      predict_uncontroversial  counts  \n",
       "3786                      0.0       2  \n",
       "1784                      0.0       2  \n",
       "2370                      0.0       2  \n",
       "5337                      0.0       2  \n",
       "586                       0.0       2  \n",
       "3711                      0.0       2  \n",
       "1454                      1.0       2  \n",
       "1455                      0.0       2  \n",
       "584                       0.0       2  \n",
       "4549                      0.0       2  "
      ]
     },
     "execution_count": 26,
     "metadata": {},
     "output_type": "execute_result"
    }
   ],
   "source": [
    "prediction_set \\\n",
    "    .query('my_city_county == 1 | my_legislators == 1 | my_subjects == 1 | (predict_vote == 1 & predict_uncontroversial == 0)') \\\n",
    "    .sort_values(by = 'counts', ascending = False) \\\n",
    "    .head(10)"
   ]
  }
 ],
 "metadata": {
  "kernelspec": {
   "display_name": "Python 3",
   "language": "python",
   "name": "python3"
  },
  "language_info": {
   "codemirror_mode": {
    "name": "ipython",
    "version": 3
   },
   "file_extension": ".py",
   "mimetype": "text/x-python",
   "name": "python",
   "nbconvert_exporter": "python",
   "pygments_lexer": "ipython3",
   "version": "3.6.4"
  }
 },
 "nbformat": 4,
 "nbformat_minor": 2
}
